{
 "cells": [
  {
   "cell_type": "markdown",
   "metadata": {},
   "source": [
    "# #including the header files"
   ]
  },
  {
   "cell_type": "code",
   "execution_count": 230,
   "metadata": {},
   "outputs": [],
   "source": [
    "import numpy as np\n",
    "import pandas as pd\n",
    "from sklearn.model_selection import train_test_split\n",
    "import matplotlib.pyplot as plt\n",
    "import seaborn as sns\n",
    "import datetime"
   ]
  },
  {
   "cell_type": "markdown",
   "metadata": {},
   "source": [
    "Importing the File"
   ]
  },
  {
   "cell_type": "code",
   "execution_count": 231,
   "metadata": {},
   "outputs": [],
   "source": [
    "df= pd.read_csv(r'C:\\Users\\xyz\\1805348.csv')"
   ]
  },
  {
   "cell_type": "code",
   "execution_count": 232,
   "metadata": {},
   "outputs": [
    {
     "name": "stdout",
     "output_type": "stream",
     "text": [
      "Total list of columns:- Index(['business_code', 'cust_number', 'name_customer', 'clear_date',\n",
      "       'buisness_year', 'doc_id', 'posting_date', 'document_create_date',\n",
      "       'document_create_date.1', 'due_in_date', 'invoice_currency',\n",
      "       'document type', 'posting_id', 'area_business', 'total_open_amount',\n",
      "       'baseline_create_date', 'cust_payment_terms', 'invoice_id', 'isOpen'],\n",
      "      dtype='object')\n"
     ]
    }
   ],
   "source": [
    "lt=df.columns\n",
    "print(\"Total list of columns:- {}\".format(lt))"
   ]
  },
  {
   "cell_type": "code",
   "execution_count": 373,
   "metadata": {},
   "outputs": [
    {
     "name": "stdout",
     "output_type": "stream",
     "text": [
      "The shape of dataset:-(49993, 24)\n"
     ]
    },
    {
     "data": {
      "text/plain": [
       "cust_number                                 object\n",
       "name_customer                               object\n",
       "clear_date                          datetime64[ns]\n",
       "due_in_date                         datetime64[ns]\n",
       "total_open_amount                          float64\n",
       "baseline_create_date                datetime64[ns]\n",
       "cust_payment_terms                          object\n",
       "isOpen                                       int64\n",
       "baseline_create_date_year                    int64\n",
       "baseline_create_date_month                   int64\n",
       "baseline_create_date_day                     int64\n",
       "baseline_create_date_quarter                 int64\n",
       "baseline_create_date_day_of_week             int64\n",
       "baseline_create_date_isWeekand               int32\n",
       "CA02                                       float64\n",
       "U001                                       float64\n",
       "U002                                       float64\n",
       "U005                                       float64\n",
       "U007                                       float64\n",
       "U013                                       float64\n",
       "invoice_currency_numeric                     int32\n",
       "due_in_date_day                              int64\n",
       "clear_date_day                             float64\n",
       "Delay                                      float64\n",
       "dtype: object"
      ]
     },
     "execution_count": 373,
     "metadata": {},
     "output_type": "execute_result"
    }
   ],
   "source": [
    "print(\"The shape of dataset:-{}\".format(df.shape))\n",
    "df.dtypes"
   ]
  },
  {
   "cell_type": "code",
   "execution_count": null,
   "metadata": {},
   "outputs": [],
   "source": []
  },
  {
   "cell_type": "markdown",
   "metadata": {},
   "source": [
    "# DATA PRE-PROCESSING"
   ]
  },
  {
   "cell_type": "code",
   "execution_count": 461,
   "metadata": {},
   "outputs": [
    {
     "name": "stdout",
     "output_type": "stream",
     "text": [
      "Total Number of duplicated rows:-21\n",
      "\n",
      "\n",
      "Total Number of Null Values:-\n",
      "cust_number                            0\n",
      "name_customer                          0\n",
      "clear_date                          4413\n",
      "due_in_date                            0\n",
      "total_open_amount                      0\n",
      "baseline_create_date                   0\n",
      "cust_payment_terms                     0\n",
      "baseline_create_date_year              0\n",
      "baseline_create_date_month             0\n",
      "baseline_create_date_day               0\n",
      "baseline_create_date_quarter           0\n",
      "baseline_create_date_day_of_week       0\n",
      "baseline_create_date_isWeekand         0\n",
      "CA02                                   0\n",
      "U001                                   0\n",
      "U002                                   0\n",
      "U005                                   0\n",
      "U007                                   0\n",
      "U013                                   0\n",
      "invoice_currency_numeric               0\n",
      "due_in_date_day                        0\n",
      "clear_date_day                      4413\n",
      "Delay                               4413\n",
      "total_open_amount_log                  0\n",
      "total_open_amount_cube                 0\n",
      "Avg_delay                             36\n",
      "Avg_amount_cube                        0\n",
      "Avg_amount                             0\n",
      "Avg_amount_log                         0\n",
      "dtype: int64\n",
      "\n",
      "\n",
      "Total Number of Unique Values:-\n",
      "cust_number                          1456\n",
      "name_customer                        4361\n",
      "clear_date                            411\n",
      "due_in_date                           541\n",
      "total_open_amount                   45139\n",
      "baseline_create_date                  509\n",
      "cust_payment_terms                     75\n",
      "baseline_create_date_year               3\n",
      "baseline_create_date_month             12\n",
      "baseline_create_date_day               31\n",
      "baseline_create_date_quarter            4\n",
      "baseline_create_date_day_of_week        7\n",
      "baseline_create_date_isWeekand          2\n",
      "CA02                                    2\n",
      "U001                                    2\n",
      "U002                                    2\n",
      "U005                                    2\n",
      "U007                                    2\n",
      "U013                                    2\n",
      "invoice_currency_numeric                2\n",
      "due_in_date_day                        31\n",
      "clear_date_day                         31\n",
      "Delay                                 189\n",
      "total_open_amount_log               45139\n",
      "total_open_amount_cube              45139\n",
      "Avg_delay                             570\n",
      "Avg_amount_cube                        75\n",
      "Avg_amount                             75\n",
      "Avg_amount_log                         75\n",
      "dtype: int64\n"
     ]
    }
   ],
   "source": [
    "print(\"Total Number of duplicated rows:-{}\".format(df.duplicated().sum()))\n",
    "print(\"\\n\\nTotal Number of Null Values:-\\n{}\".format(df.isnull().sum()))\n",
    "print(\"\\n\\nTotal Number of Unique Values:-\\n{}\".format(df.nunique()))"
   ]
  },
  {
   "cell_type": "code",
   "execution_count": 306,
   "metadata": {},
   "outputs": [
    {
     "data": {
      "text/plain": [
       "2019    39707\n",
       "2020    10144\n",
       "2018      142\n",
       "Name: baseline_create_date_year, dtype: int64"
      ]
     },
     "execution_count": 306,
     "metadata": {},
     "output_type": "execute_result"
    }
   ],
   "source": [
    "df['baseline_create_date_year'].value_counts()"
   ]
  },
  {
   "cell_type": "code",
   "execution_count": 315,
   "metadata": {},
   "outputs": [
    {
     "data": {
      "text/html": [
       "<div>\n",
       "<style scoped>\n",
       "    .dataframe tbody tr th:only-of-type {\n",
       "        vertical-align: middle;\n",
       "    }\n",
       "\n",
       "    .dataframe tbody tr th {\n",
       "        vertical-align: top;\n",
       "    }\n",
       "\n",
       "    .dataframe thead th {\n",
       "        text-align: right;\n",
       "    }\n",
       "</style>\n",
       "<table border=\"1\" class=\"dataframe\">\n",
       "  <thead>\n",
       "    <tr style=\"text-align: right;\">\n",
       "      <th></th>\n",
       "      <th>doc_id</th>\n",
       "      <th>total_open_amount</th>\n",
       "      <th>invoice_id</th>\n",
       "      <th>isOpen</th>\n",
       "      <th>business_year</th>\n",
       "      <th>baseline_create_date_year</th>\n",
       "      <th>baseline_create_date_month</th>\n",
       "      <th>baseline_create_date_day</th>\n",
       "      <th>baseline_create_date_quarter</th>\n",
       "      <th>baseline_create_date_day_of_week</th>\n",
       "      <th>...</th>\n",
       "      <th>document_create_date_day</th>\n",
       "      <th>document_create_date.1_year</th>\n",
       "      <th>document_create_date.1_month</th>\n",
       "      <th>document_create_date.1_day</th>\n",
       "      <th>due_in_date_year</th>\n",
       "      <th>due_in_date_month</th>\n",
       "      <th>due_in_date_day</th>\n",
       "      <th>clear_date_year</th>\n",
       "      <th>clear_date_month</th>\n",
       "      <th>clear_date_day</th>\n",
       "    </tr>\n",
       "  </thead>\n",
       "  <tbody>\n",
       "    <tr>\n",
       "      <th>count</th>\n",
       "      <td>4.999300e+04</td>\n",
       "      <td>49993.000000</td>\n",
       "      <td>4.999300e+04</td>\n",
       "      <td>49993.000000</td>\n",
       "      <td>49993.000000</td>\n",
       "      <td>49993.000000</td>\n",
       "      <td>49993.000000</td>\n",
       "      <td>49993.000000</td>\n",
       "      <td>49993.000000</td>\n",
       "      <td>49993.000000</td>\n",
       "      <td>...</td>\n",
       "      <td>49993.000000</td>\n",
       "      <td>49993.000000</td>\n",
       "      <td>49993.000000</td>\n",
       "      <td>49993.000000</td>\n",
       "      <td>49993.000000</td>\n",
       "      <td>49993.000000</td>\n",
       "      <td>49993.000000</td>\n",
       "      <td>45580.000000</td>\n",
       "      <td>45580.000000</td>\n",
       "      <td>45580.000000</td>\n",
       "    </tr>\n",
       "    <tr>\n",
       "      <th>mean</th>\n",
       "      <td>2.013212e+09</td>\n",
       "      <td>32284.734302</td>\n",
       "      <td>2.013212e+09</td>\n",
       "      <td>0.088272</td>\n",
       "      <td>2019.207089</td>\n",
       "      <td>2019.200068</td>\n",
       "      <td>5.527954</td>\n",
       "      <td>15.292161</td>\n",
       "      <td>2.197448</td>\n",
       "      <td>2.698058</td>\n",
       "      <td>...</td>\n",
       "      <td>15.458904</td>\n",
       "      <td>2019.199928</td>\n",
       "      <td>5.521253</td>\n",
       "      <td>15.542016</td>\n",
       "      <td>2019.211330</td>\n",
       "      <td>5.939472</td>\n",
       "      <td>15.960294</td>\n",
       "      <td>2019.130320</td>\n",
       "      <td>6.205331</td>\n",
       "      <td>15.949188</td>\n",
       "    </tr>\n",
       "    <tr>\n",
       "      <th>std</th>\n",
       "      <td>2.796406e+08</td>\n",
       "      <td>39745.604488</td>\n",
       "      <td>2.796406e+08</td>\n",
       "      <td>0.283693</td>\n",
       "      <td>0.405224</td>\n",
       "      <td>0.407093</td>\n",
       "      <td>3.404820</td>\n",
       "      <td>8.864817</td>\n",
       "      <td>1.112078</td>\n",
       "      <td>1.832157</td>\n",
       "      <td>...</td>\n",
       "      <td>8.784957</td>\n",
       "      <td>0.406990</td>\n",
       "      <td>3.403852</td>\n",
       "      <td>8.767922</td>\n",
       "      <td>0.408403</td>\n",
       "      <td>3.374593</td>\n",
       "      <td>8.693953</td>\n",
       "      <td>0.336659</td>\n",
       "      <td>3.481857</td>\n",
       "      <td>8.939441</td>\n",
       "    </tr>\n",
       "    <tr>\n",
       "      <th>min</th>\n",
       "      <td>1.928490e+09</td>\n",
       "      <td>1.030000</td>\n",
       "      <td>1.928490e+09</td>\n",
       "      <td>0.000000</td>\n",
       "      <td>2019.000000</td>\n",
       "      <td>2018.000000</td>\n",
       "      <td>1.000000</td>\n",
       "      <td>1.000000</td>\n",
       "      <td>1.000000</td>\n",
       "      <td>0.000000</td>\n",
       "      <td>...</td>\n",
       "      <td>1.000000</td>\n",
       "      <td>2018.000000</td>\n",
       "      <td>1.000000</td>\n",
       "      <td>1.000000</td>\n",
       "      <td>2018.000000</td>\n",
       "      <td>1.000000</td>\n",
       "      <td>1.000000</td>\n",
       "      <td>2019.000000</td>\n",
       "      <td>1.000000</td>\n",
       "      <td>1.000000</td>\n",
       "    </tr>\n",
       "    <tr>\n",
       "      <th>25%</th>\n",
       "      <td>1.929231e+09</td>\n",
       "      <td>4762.470000</td>\n",
       "      <td>1.929231e+09</td>\n",
       "      <td>0.000000</td>\n",
       "      <td>2019.000000</td>\n",
       "      <td>2019.000000</td>\n",
       "      <td>3.000000</td>\n",
       "      <td>8.000000</td>\n",
       "      <td>1.000000</td>\n",
       "      <td>1.000000</td>\n",
       "      <td>...</td>\n",
       "      <td>8.000000</td>\n",
       "      <td>2019.000000</td>\n",
       "      <td>3.000000</td>\n",
       "      <td>8.000000</td>\n",
       "      <td>2019.000000</td>\n",
       "      <td>3.000000</td>\n",
       "      <td>8.000000</td>\n",
       "      <td>2019.000000</td>\n",
       "      <td>3.000000</td>\n",
       "      <td>8.000000</td>\n",
       "    </tr>\n",
       "    <tr>\n",
       "      <th>50%</th>\n",
       "      <td>1.929813e+09</td>\n",
       "      <td>17274.100000</td>\n",
       "      <td>1.929813e+09</td>\n",
       "      <td>0.000000</td>\n",
       "      <td>2019.000000</td>\n",
       "      <td>2019.000000</td>\n",
       "      <td>5.000000</td>\n",
       "      <td>15.000000</td>\n",
       "      <td>2.000000</td>\n",
       "      <td>3.000000</td>\n",
       "      <td>...</td>\n",
       "      <td>15.000000</td>\n",
       "      <td>2019.000000</td>\n",
       "      <td>5.000000</td>\n",
       "      <td>15.000000</td>\n",
       "      <td>2019.000000</td>\n",
       "      <td>5.000000</td>\n",
       "      <td>16.000000</td>\n",
       "      <td>2019.000000</td>\n",
       "      <td>6.000000</td>\n",
       "      <td>16.000000</td>\n",
       "    </tr>\n",
       "    <tr>\n",
       "      <th>75%</th>\n",
       "      <td>1.930412e+09</td>\n",
       "      <td>47018.400000</td>\n",
       "      <td>1.930412e+09</td>\n",
       "      <td>0.000000</td>\n",
       "      <td>2019.000000</td>\n",
       "      <td>2019.000000</td>\n",
       "      <td>8.000000</td>\n",
       "      <td>23.000000</td>\n",
       "      <td>3.000000</td>\n",
       "      <td>4.000000</td>\n",
       "      <td>...</td>\n",
       "      <td>23.000000</td>\n",
       "      <td>2019.000000</td>\n",
       "      <td>8.000000</td>\n",
       "      <td>23.000000</td>\n",
       "      <td>2019.000000</td>\n",
       "      <td>9.000000</td>\n",
       "      <td>24.000000</td>\n",
       "      <td>2019.000000</td>\n",
       "      <td>9.000000</td>\n",
       "      <td>24.000000</td>\n",
       "    </tr>\n",
       "    <tr>\n",
       "      <th>max</th>\n",
       "      <td>2.960636e+09</td>\n",
       "      <td>838758.370000</td>\n",
       "      <td>2.960636e+09</td>\n",
       "      <td>1.000000</td>\n",
       "      <td>2020.000000</td>\n",
       "      <td>2020.000000</td>\n",
       "      <td>12.000000</td>\n",
       "      <td>31.000000</td>\n",
       "      <td>4.000000</td>\n",
       "      <td>6.000000</td>\n",
       "      <td>...</td>\n",
       "      <td>31.000000</td>\n",
       "      <td>2020.000000</td>\n",
       "      <td>12.000000</td>\n",
       "      <td>31.000000</td>\n",
       "      <td>2020.000000</td>\n",
       "      <td>12.000000</td>\n",
       "      <td>31.000000</td>\n",
       "      <td>2020.000000</td>\n",
       "      <td>12.000000</td>\n",
       "      <td>31.000000</td>\n",
       "    </tr>\n",
       "  </tbody>\n",
       "</table>\n",
       "<p>8 rows × 30 columns</p>\n",
       "</div>"
      ],
      "text/plain": [
       "             doc_id  total_open_amount    invoice_id        isOpen  \\\n",
       "count  4.999300e+04       49993.000000  4.999300e+04  49993.000000   \n",
       "mean   2.013212e+09       32284.734302  2.013212e+09      0.088272   \n",
       "std    2.796406e+08       39745.604488  2.796406e+08      0.283693   \n",
       "min    1.928490e+09           1.030000  1.928490e+09      0.000000   \n",
       "25%    1.929231e+09        4762.470000  1.929231e+09      0.000000   \n",
       "50%    1.929813e+09       17274.100000  1.929813e+09      0.000000   \n",
       "75%    1.930412e+09       47018.400000  1.930412e+09      0.000000   \n",
       "max    2.960636e+09      838758.370000  2.960636e+09      1.000000   \n",
       "\n",
       "       business_year  baseline_create_date_year  baseline_create_date_month  \\\n",
       "count   49993.000000               49993.000000                49993.000000   \n",
       "mean     2019.207089                2019.200068                    5.527954   \n",
       "std         0.405224                   0.407093                    3.404820   \n",
       "min      2019.000000                2018.000000                    1.000000   \n",
       "25%      2019.000000                2019.000000                    3.000000   \n",
       "50%      2019.000000                2019.000000                    5.000000   \n",
       "75%      2019.000000                2019.000000                    8.000000   \n",
       "max      2020.000000                2020.000000                   12.000000   \n",
       "\n",
       "       baseline_create_date_day  baseline_create_date_quarter  \\\n",
       "count              49993.000000                  49993.000000   \n",
       "mean                  15.292161                      2.197448   \n",
       "std                    8.864817                      1.112078   \n",
       "min                    1.000000                      1.000000   \n",
       "25%                    8.000000                      1.000000   \n",
       "50%                   15.000000                      2.000000   \n",
       "75%                   23.000000                      3.000000   \n",
       "max                   31.000000                      4.000000   \n",
       "\n",
       "       baseline_create_date_day_of_week  ...  document_create_date_day  \\\n",
       "count                      49993.000000  ...              49993.000000   \n",
       "mean                           2.698058  ...                 15.458904   \n",
       "std                            1.832157  ...                  8.784957   \n",
       "min                            0.000000  ...                  1.000000   \n",
       "25%                            1.000000  ...                  8.000000   \n",
       "50%                            3.000000  ...                 15.000000   \n",
       "75%                            4.000000  ...                 23.000000   \n",
       "max                            6.000000  ...                 31.000000   \n",
       "\n",
       "       document_create_date.1_year  document_create_date.1_month  \\\n",
       "count                 49993.000000                  49993.000000   \n",
       "mean                   2019.199928                      5.521253   \n",
       "std                       0.406990                      3.403852   \n",
       "min                    2018.000000                      1.000000   \n",
       "25%                    2019.000000                      3.000000   \n",
       "50%                    2019.000000                      5.000000   \n",
       "75%                    2019.000000                      8.000000   \n",
       "max                    2020.000000                     12.000000   \n",
       "\n",
       "       document_create_date.1_day  due_in_date_year  due_in_date_month  \\\n",
       "count                49993.000000      49993.000000       49993.000000   \n",
       "mean                    15.542016       2019.211330           5.939472   \n",
       "std                      8.767922          0.408403           3.374593   \n",
       "min                      1.000000       2018.000000           1.000000   \n",
       "25%                      8.000000       2019.000000           3.000000   \n",
       "50%                     15.000000       2019.000000           5.000000   \n",
       "75%                     23.000000       2019.000000           9.000000   \n",
       "max                     31.000000       2020.000000          12.000000   \n",
       "\n",
       "       due_in_date_day  clear_date_year  clear_date_month  clear_date_day  \n",
       "count     49993.000000     45580.000000      45580.000000    45580.000000  \n",
       "mean         15.960294      2019.130320          6.205331       15.949188  \n",
       "std           8.693953         0.336659          3.481857        8.939441  \n",
       "min           1.000000      2019.000000          1.000000        1.000000  \n",
       "25%           8.000000      2019.000000          3.000000        8.000000  \n",
       "50%          16.000000      2019.000000          6.000000       16.000000  \n",
       "75%          24.000000      2019.000000          9.000000       24.000000  \n",
       "max          31.000000      2020.000000         12.000000       31.000000  \n",
       "\n",
       "[8 rows x 30 columns]"
      ]
     },
     "execution_count": 315,
     "metadata": {},
     "output_type": "execute_result"
    }
   ],
   "source": [
    "df.describe()"
   ]
  },
  {
   "cell_type": "markdown",
   "metadata": {},
   "source": [
    "## Changing date type"
   ]
  },
  {
   "cell_type": "code",
   "execution_count": 235,
   "metadata": {},
   "outputs": [],
   "source": [
    "df['business_year']=df['buisness_year'].astype('int64')\n",
    "df.drop(['buisness_year'],axis=1,inplace=True)"
   ]
  },
  {
   "cell_type": "markdown",
   "metadata": {},
   "source": [
    "## Date-Time Conversion"
   ]
  },
  {
   "cell_type": "code",
   "execution_count": 236,
   "metadata": {},
   "outputs": [],
   "source": [
    "df['due_in_date_int']= df['due_in_date'].astype('int')\n",
    "df['due_in_date_str'] = df['due_in_date_int'].astype('str')\n",
    "df['due_in_date_temp'] = pd . to_datetime(df['due_in_date_str'])\n",
    "df['due_in_date']= df['due_in_date_temp']"
   ]
  },
  {
   "cell_type": "code",
   "execution_count": 129,
   "metadata": {},
   "outputs": [],
   "source": [
    "df['due_in_date']= df['due_in_date_date']"
   ]
  },
  {
   "cell_type": "code",
   "execution_count": 237,
   "metadata": {},
   "outputs": [],
   "source": [
    "df['document_create_date.1_int']= df['document_create_date.1'].astype('int')\n",
    "df['document_create_date.1_str'] = df['document_create_date.1_int'].astype('str')\n",
    "df['document_create_date.1_temp'] = pd . to_datetime(df['document_create_date.1_str'])\n",
    "df['document_create_date.1']= df['document_create_date.1_temp']"
   ]
  },
  {
   "cell_type": "code",
   "execution_count": 127,
   "metadata": {},
   "outputs": [],
   "source": [
    "df['document_create_date.1']= df['document_create_date.1_date']"
   ]
  },
  {
   "cell_type": "code",
   "execution_count": 238,
   "metadata": {},
   "outputs": [],
   "source": [
    "df['document_create_date_int']= df['document_create_date'].astype('int')\n",
    "df['document_create_date_str'] = df['document_create_date_int'].astype('str')\n",
    "df['document_create_date_temp'] = pd . to_datetime(df['document_create_date_str'])\n",
    "df['document_create_date']= df['document_create_date_temp']"
   ]
  },
  {
   "cell_type": "code",
   "execution_count": 126,
   "metadata": {},
   "outputs": [],
   "source": [
    "df['document_create_date']= df['document_create_date_date']"
   ]
  },
  {
   "cell_type": "code",
   "execution_count": 239,
   "metadata": {},
   "outputs": [],
   "source": [
    "df['posting_date_str'] = df['posting_date'].astype('str')\n",
    "df['posting_date_temp'] = pd . to_datetime(df['posting_date_str'])\n",
    "df['posting_date']= df['posting_date_temp']"
   ]
  },
  {
   "cell_type": "code",
   "execution_count": 124,
   "metadata": {},
   "outputs": [],
   "source": [
    "df['posting_date']= df['posting_date_date']"
   ]
  },
  {
   "cell_type": "code",
   "execution_count": 240,
   "metadata": {},
   "outputs": [],
   "source": [
    "df['clear_date_str'] = df['clear_date'].astype('str')\n",
    "df['clear_date_temp'] = pd . to_datetime(df['clear_date_str'])\n",
    "df['clear_date']= df['clear_date_temp']"
   ]
  },
  {
   "cell_type": "code",
   "execution_count": 241,
   "metadata": {},
   "outputs": [],
   "source": [
    "df['baseline_create_date_int']= df['baseline_create_date'].astype('int')\n",
    "df['baseline_create_date_str'] = df['baseline_create_date_int'].astype('str')\n",
    "df['baseline_create_date_temp'] = pd . to_datetime(df['baseline_create_date_str'])\n",
    "df['baseline_create_date']= df['baseline_create_date_temp']"
   ]
  },
  {
   "cell_type": "code",
   "execution_count": 282,
   "metadata": {},
   "outputs": [
    {
     "data": {
      "text/plain": [
       "cust_number                                 object\n",
       "name_customer                               object\n",
       "clear_date                          datetime64[ns]\n",
       "doc_id                                     float64\n",
       "posting_date                        datetime64[ns]\n",
       "document_create_date                datetime64[ns]\n",
       "document_create_date.1              datetime64[ns]\n",
       "due_in_date                         datetime64[ns]\n",
       "total_open_amount                          float64\n",
       "baseline_create_date                datetime64[ns]\n",
       "cust_payment_terms                          object\n",
       "invoice_id                                 float64\n",
       "isOpen                                       int64\n",
       "business_year                                int64\n",
       "baseline_create_date_year                    int64\n",
       "baseline_create_date_month                   int64\n",
       "baseline_create_date_day                     int64\n",
       "baseline_create_date_quarter                 int64\n",
       "baseline_create_date_day_of_week             int64\n",
       "baseline_create_date_isWeekand               int32\n",
       "CA02                                       float64\n",
       "U001                                       float64\n",
       "U002                                       float64\n",
       "U005                                       float64\n",
       "U007                                       float64\n",
       "U013                                       float64\n",
       "invoice_currency_numeric                     int32\n",
       "dtype: object"
      ]
     },
     "execution_count": 282,
     "metadata": {},
     "output_type": "execute_result"
    }
   ],
   "source": [
    "df.dtypes"
   ]
  },
  {
   "cell_type": "markdown",
   "metadata": {},
   "source": [
    "## Dropping multiple temporary columns "
   ]
  },
  {
   "cell_type": "code",
   "execution_count": 243,
   "metadata": {},
   "outputs": [],
   "source": [
    "df.drop(['due_in_date_int','due_in_date_str','due_in_date_temp','clear_date_str','clear_date_temp','posting_date_str','posting_date_temp','document_create_date_str','document_create_date_temp','document_create_date_int','document_create_date.1_str','document_create_date.1_int','document_create_date.1_temp'], axis=1, inplace=True)"
   ]
  },
  {
   "cell_type": "code",
   "execution_count": 244,
   "metadata": {},
   "outputs": [],
   "source": [
    "df.drop(['baseline_create_date_int','baseline_create_date_str','baseline_create_date_temp'] , axis=1, inplace= True)"
   ]
  },
  {
   "cell_type": "code",
   "execution_count": 283,
   "metadata": {},
   "outputs": [
    {
     "data": {
      "text/html": [
       "<div>\n",
       "<style scoped>\n",
       "    .dataframe tbody tr th:only-of-type {\n",
       "        vertical-align: middle;\n",
       "    }\n",
       "\n",
       "    .dataframe tbody tr th {\n",
       "        vertical-align: top;\n",
       "    }\n",
       "\n",
       "    .dataframe thead th {\n",
       "        text-align: right;\n",
       "    }\n",
       "</style>\n",
       "<table border=\"1\" class=\"dataframe\">\n",
       "  <thead>\n",
       "    <tr style=\"text-align: right;\">\n",
       "      <th></th>\n",
       "      <th>cust_number</th>\n",
       "      <th>name_customer</th>\n",
       "      <th>clear_date</th>\n",
       "      <th>doc_id</th>\n",
       "      <th>posting_date</th>\n",
       "      <th>document_create_date</th>\n",
       "      <th>document_create_date.1</th>\n",
       "      <th>due_in_date</th>\n",
       "      <th>total_open_amount</th>\n",
       "      <th>baseline_create_date</th>\n",
       "      <th>...</th>\n",
       "      <th>baseline_create_date_quarter</th>\n",
       "      <th>baseline_create_date_day_of_week</th>\n",
       "      <th>baseline_create_date_isWeekand</th>\n",
       "      <th>CA02</th>\n",
       "      <th>U001</th>\n",
       "      <th>U002</th>\n",
       "      <th>U005</th>\n",
       "      <th>U007</th>\n",
       "      <th>U013</th>\n",
       "      <th>invoice_currency_numeric</th>\n",
       "    </tr>\n",
       "  </thead>\n",
       "  <tbody>\n",
       "    <tr>\n",
       "      <th>0</th>\n",
       "      <td>0140104392</td>\n",
       "      <td>FLANAG foundation</td>\n",
       "      <td>2019-04-29</td>\n",
       "      <td>2.960541e+09</td>\n",
       "      <td>2019-04-11</td>\n",
       "      <td>2019-04-11</td>\n",
       "      <td>2019-04-11</td>\n",
       "      <td>2019-04-22</td>\n",
       "      <td>4398.10</td>\n",
       "      <td>2019-04-12</td>\n",
       "      <td>...</td>\n",
       "      <td>2</td>\n",
       "      <td>4</td>\n",
       "      <td>0</td>\n",
       "      <td>1.0</td>\n",
       "      <td>0.0</td>\n",
       "      <td>0.0</td>\n",
       "      <td>0.0</td>\n",
       "      <td>0.0</td>\n",
       "      <td>0.0</td>\n",
       "      <td>0</td>\n",
       "    </tr>\n",
       "    <tr>\n",
       "      <th>1</th>\n",
       "      <td>0200759878</td>\n",
       "      <td>SA in</td>\n",
       "      <td>2019-05-20</td>\n",
       "      <td>1.929233e+09</td>\n",
       "      <td>2019-05-02</td>\n",
       "      <td>2019-04-30</td>\n",
       "      <td>2019-05-02</td>\n",
       "      <td>2019-05-17</td>\n",
       "      <td>15725.29</td>\n",
       "      <td>2019-05-02</td>\n",
       "      <td>...</td>\n",
       "      <td>2</td>\n",
       "      <td>3</td>\n",
       "      <td>0</td>\n",
       "      <td>0.0</td>\n",
       "      <td>1.0</td>\n",
       "      <td>0.0</td>\n",
       "      <td>0.0</td>\n",
       "      <td>0.0</td>\n",
       "      <td>0.0</td>\n",
       "      <td>1</td>\n",
       "    </tr>\n",
       "    <tr>\n",
       "      <th>2</th>\n",
       "      <td>0200865666</td>\n",
       "      <td>RESTAU associates</td>\n",
       "      <td>2019-11-14</td>\n",
       "      <td>1.930077e+09</td>\n",
       "      <td>2019-10-30</td>\n",
       "      <td>2019-10-30</td>\n",
       "      <td>2019-10-30</td>\n",
       "      <td>2019-11-14</td>\n",
       "      <td>3816.99</td>\n",
       "      <td>2019-10-30</td>\n",
       "      <td>...</td>\n",
       "      <td>4</td>\n",
       "      <td>2</td>\n",
       "      <td>0</td>\n",
       "      <td>0.0</td>\n",
       "      <td>1.0</td>\n",
       "      <td>0.0</td>\n",
       "      <td>0.0</td>\n",
       "      <td>0.0</td>\n",
       "      <td>0.0</td>\n",
       "      <td>1</td>\n",
       "    </tr>\n",
       "    <tr>\n",
       "      <th>3</th>\n",
       "      <td>0200763152</td>\n",
       "      <td>PERFOR us</td>\n",
       "      <td>2019-02-15</td>\n",
       "      <td>1.928696e+09</td>\n",
       "      <td>2019-01-29</td>\n",
       "      <td>2019-01-28</td>\n",
       "      <td>2019-01-29</td>\n",
       "      <td>2019-02-13</td>\n",
       "      <td>25257.66</td>\n",
       "      <td>2019-01-29</td>\n",
       "      <td>...</td>\n",
       "      <td>1</td>\n",
       "      <td>1</td>\n",
       "      <td>0</td>\n",
       "      <td>0.0</td>\n",
       "      <td>1.0</td>\n",
       "      <td>0.0</td>\n",
       "      <td>0.0</td>\n",
       "      <td>0.0</td>\n",
       "      <td>0.0</td>\n",
       "      <td>1</td>\n",
       "    </tr>\n",
       "    <tr>\n",
       "      <th>4</th>\n",
       "      <td>0200742791</td>\n",
       "      <td>QUI co</td>\n",
       "      <td>2020-03-11</td>\n",
       "      <td>1.930561e+09</td>\n",
       "      <td>2020-02-25</td>\n",
       "      <td>2020-02-24</td>\n",
       "      <td>2020-02-25</td>\n",
       "      <td>2020-03-11</td>\n",
       "      <td>41741.70</td>\n",
       "      <td>2020-02-25</td>\n",
       "      <td>...</td>\n",
       "      <td>1</td>\n",
       "      <td>1</td>\n",
       "      <td>0</td>\n",
       "      <td>0.0</td>\n",
       "      <td>1.0</td>\n",
       "      <td>0.0</td>\n",
       "      <td>0.0</td>\n",
       "      <td>0.0</td>\n",
       "      <td>0.0</td>\n",
       "      <td>1</td>\n",
       "    </tr>\n",
       "  </tbody>\n",
       "</table>\n",
       "<p>5 rows × 27 columns</p>\n",
       "</div>"
      ],
      "text/plain": [
       "  cust_number      name_customer clear_date        doc_id posting_date  \\\n",
       "0  0140104392  FLANAG foundation 2019-04-29  2.960541e+09   2019-04-11   \n",
       "1  0200759878              SA in 2019-05-20  1.929233e+09   2019-05-02   \n",
       "2  0200865666  RESTAU associates 2019-11-14  1.930077e+09   2019-10-30   \n",
       "3  0200763152          PERFOR us 2019-02-15  1.928696e+09   2019-01-29   \n",
       "4  0200742791             QUI co 2020-03-11  1.930561e+09   2020-02-25   \n",
       "\n",
       "  document_create_date document_create_date.1 due_in_date  total_open_amount  \\\n",
       "0           2019-04-11             2019-04-11  2019-04-22            4398.10   \n",
       "1           2019-04-30             2019-05-02  2019-05-17           15725.29   \n",
       "2           2019-10-30             2019-10-30  2019-11-14            3816.99   \n",
       "3           2019-01-28             2019-01-29  2019-02-13           25257.66   \n",
       "4           2020-02-24             2020-02-25  2020-03-11           41741.70   \n",
       "\n",
       "  baseline_create_date  ... baseline_create_date_quarter  \\\n",
       "0           2019-04-12  ...                            2   \n",
       "1           2019-05-02  ...                            2   \n",
       "2           2019-10-30  ...                            4   \n",
       "3           2019-01-29  ...                            1   \n",
       "4           2020-02-25  ...                            1   \n",
       "\n",
       "   baseline_create_date_day_of_week  baseline_create_date_isWeekand  CA02  \\\n",
       "0                                 4                               0   1.0   \n",
       "1                                 3                               0   0.0   \n",
       "2                                 2                               0   0.0   \n",
       "3                                 1                               0   0.0   \n",
       "4                                 1                               0   0.0   \n",
       "\n",
       "   U001  U002  U005  U007  U013  invoice_currency_numeric  \n",
       "0   0.0   0.0   0.0   0.0   0.0                         0  \n",
       "1   1.0   0.0   0.0   0.0   0.0                         1  \n",
       "2   1.0   0.0   0.0   0.0   0.0                         1  \n",
       "3   1.0   0.0   0.0   0.0   0.0                         1  \n",
       "4   1.0   0.0   0.0   0.0   0.0                         1  \n",
       "\n",
       "[5 rows x 27 columns]"
      ]
     },
     "execution_count": 283,
     "metadata": {},
     "output_type": "execute_result"
    }
   ],
   "source": [
    "df.head()"
   ]
  },
  {
   "cell_type": "markdown",
   "metadata": {},
   "source": [
    "## Splitting dates "
   ]
  },
  {
   "cell_type": "code",
   "execution_count": 291,
   "metadata": {},
   "outputs": [],
   "source": [
    "df['document_create_date_year'] = df['document_create_date'].dt.year\n",
    "df['document_create_date_month'] = df['document_create_date'].dt.month\n",
    "df['document_create_date_day'] = df['document_create_date'].dt.day"
   ]
  },
  {
   "cell_type": "code",
   "execution_count": 292,
   "metadata": {},
   "outputs": [],
   "source": [
    "df['document_create_date.1_year'] = df['document_create_date.1'].dt.year\n",
    "df['document_create_date.1_month'] = df['document_create_date.1'].dt.month\n",
    "df['document_create_date.1_day'] = df['document_create_date.1'].dt.day"
   ]
  },
  {
   "cell_type": "code",
   "execution_count": 293,
   "metadata": {},
   "outputs": [],
   "source": [
    "df['due_in_date_year'] = df['due_in_date'].dt.year\n",
    "df['due_in_date_month'] = df['due_in_date'].dt.month\n",
    "df['due_in_date_day'] = df['due_in_date'].dt.day"
   ]
  },
  {
   "cell_type": "code",
   "execution_count": 294,
   "metadata": {},
   "outputs": [],
   "source": [
    "df['clear_date_year'] = df['clear_date'].dt.year\n",
    "df['clear_date_month'] = df['clear_date'].dt.month\n",
    "df['clear_date_day'] = df['clear_date'].dt.day"
   ]
  },
  {
   "cell_type": "markdown",
   "metadata": {},
   "source": [
    "## Splitting Baseline create date"
   ]
  },
  {
   "cell_type": "code",
   "execution_count": 246,
   "metadata": {},
   "outputs": [],
   "source": [
    "df['baseline_create_date_year'] = df['baseline_create_date'].dt.year\n",
    "df['baseline_create_date_month'] = df['baseline_create_date'].dt.month\n",
    "df['baseline_create_date_day'] = df['baseline_create_date'].dt.day\n",
    "df['baseline_create_date_quarter'] = df['baseline_create_date'].dt.quarter\n",
    "df['baseline_create_date_day_of_week'] = df['baseline_create_date'].dt.dayofweek\n",
    "df['baseline_create_date_isWeekand'] = np.where(df['baseline_create_date_day_of_week'].isin([5,6]),1,0)"
   ]
  },
  {
   "cell_type": "code",
   "execution_count": 247,
   "metadata": {},
   "outputs": [
    {
     "data": {
      "text/html": [
       "<div>\n",
       "<style scoped>\n",
       "    .dataframe tbody tr th:only-of-type {\n",
       "        vertical-align: middle;\n",
       "    }\n",
       "\n",
       "    .dataframe tbody tr th {\n",
       "        vertical-align: top;\n",
       "    }\n",
       "\n",
       "    .dataframe thead th {\n",
       "        text-align: right;\n",
       "    }\n",
       "</style>\n",
       "<table border=\"1\" class=\"dataframe\">\n",
       "  <thead>\n",
       "    <tr style=\"text-align: right;\">\n",
       "      <th></th>\n",
       "      <th>baseline_create_date</th>\n",
       "      <th>baseline_create_date_year</th>\n",
       "      <th>baseline_create_date_month</th>\n",
       "      <th>baseline_create_date_day</th>\n",
       "      <th>baseline_create_date_quarter</th>\n",
       "      <th>baseline_create_date_day_of_week</th>\n",
       "      <th>baseline_create_date_isWeekand</th>\n",
       "    </tr>\n",
       "  </thead>\n",
       "  <tbody>\n",
       "    <tr>\n",
       "      <th>0</th>\n",
       "      <td>2019-04-12</td>\n",
       "      <td>2019</td>\n",
       "      <td>4</td>\n",
       "      <td>12</td>\n",
       "      <td>2</td>\n",
       "      <td>4</td>\n",
       "      <td>0</td>\n",
       "    </tr>\n",
       "    <tr>\n",
       "      <th>1</th>\n",
       "      <td>2019-05-02</td>\n",
       "      <td>2019</td>\n",
       "      <td>5</td>\n",
       "      <td>2</td>\n",
       "      <td>2</td>\n",
       "      <td>3</td>\n",
       "      <td>0</td>\n",
       "    </tr>\n",
       "    <tr>\n",
       "      <th>2</th>\n",
       "      <td>2019-10-30</td>\n",
       "      <td>2019</td>\n",
       "      <td>10</td>\n",
       "      <td>30</td>\n",
       "      <td>4</td>\n",
       "      <td>2</td>\n",
       "      <td>0</td>\n",
       "    </tr>\n",
       "  </tbody>\n",
       "</table>\n",
       "</div>"
      ],
      "text/plain": [
       "  baseline_create_date  baseline_create_date_year  baseline_create_date_month  \\\n",
       "0           2019-04-12                       2019                           4   \n",
       "1           2019-05-02                       2019                           5   \n",
       "2           2019-10-30                       2019                          10   \n",
       "\n",
       "   baseline_create_date_day  baseline_create_date_quarter  \\\n",
       "0                        12                             2   \n",
       "1                         2                             2   \n",
       "2                        30                             4   \n",
       "\n",
       "   baseline_create_date_day_of_week  baseline_create_date_isWeekand  \n",
       "0                                 4                               0  \n",
       "1                                 3                               0  \n",
       "2                                 2                               0  "
      ]
     },
     "execution_count": 247,
     "metadata": {},
     "output_type": "execute_result"
    }
   ],
   "source": [
    "df[['baseline_create_date','baseline_create_date_year','baseline_create_date_month','baseline_create_date_day','baseline_create_date_quarter','baseline_create_date_day_of_week','baseline_create_date_isWeekand']].head(3)\n"
   ]
  },
  {
   "cell_type": "markdown",
   "metadata": {},
   "source": [
    "## One-Hot Encoding "
   ]
  },
  {
   "cell_type": "code",
   "execution_count": 248,
   "metadata": {},
   "outputs": [
    {
     "data": {
      "text/html": [
       "<div>\n",
       "<style scoped>\n",
       "    .dataframe tbody tr th:only-of-type {\n",
       "        vertical-align: middle;\n",
       "    }\n",
       "\n",
       "    .dataframe tbody tr th {\n",
       "        vertical-align: top;\n",
       "    }\n",
       "\n",
       "    .dataframe thead th {\n",
       "        text-align: right;\n",
       "    }\n",
       "</style>\n",
       "<table border=\"1\" class=\"dataframe\">\n",
       "  <thead>\n",
       "    <tr style=\"text-align: right;\">\n",
       "      <th></th>\n",
       "      <th>business_code</th>\n",
       "      <th>cust_number</th>\n",
       "      <th>name_customer</th>\n",
       "      <th>invoice_currency</th>\n",
       "      <th>document type</th>\n",
       "      <th>cust_payment_terms</th>\n",
       "    </tr>\n",
       "  </thead>\n",
       "  <tbody>\n",
       "    <tr>\n",
       "      <th>0</th>\n",
       "      <td>CA02</td>\n",
       "      <td>0140104392</td>\n",
       "      <td>FLANAG foundation</td>\n",
       "      <td>CAD</td>\n",
       "      <td>RV</td>\n",
       "      <td>CA10</td>\n",
       "    </tr>\n",
       "    <tr>\n",
       "      <th>1</th>\n",
       "      <td>U001</td>\n",
       "      <td>0200759878</td>\n",
       "      <td>SA in</td>\n",
       "      <td>USD</td>\n",
       "      <td>RV</td>\n",
       "      <td>NAH4</td>\n",
       "    </tr>\n",
       "    <tr>\n",
       "      <th>2</th>\n",
       "      <td>U001</td>\n",
       "      <td>0200865666</td>\n",
       "      <td>RESTAU associates</td>\n",
       "      <td>USD</td>\n",
       "      <td>RV</td>\n",
       "      <td>NAA8</td>\n",
       "    </tr>\n",
       "    <tr>\n",
       "      <th>3</th>\n",
       "      <td>U001</td>\n",
       "      <td>0200763152</td>\n",
       "      <td>PERFOR us</td>\n",
       "      <td>USD</td>\n",
       "      <td>RV</td>\n",
       "      <td>NAA8</td>\n",
       "    </tr>\n",
       "    <tr>\n",
       "      <th>4</th>\n",
       "      <td>U001</td>\n",
       "      <td>0200742791</td>\n",
       "      <td>QUI co</td>\n",
       "      <td>USD</td>\n",
       "      <td>RV</td>\n",
       "      <td>NAA8</td>\n",
       "    </tr>\n",
       "  </tbody>\n",
       "</table>\n",
       "</div>"
      ],
      "text/plain": [
       "  business_code cust_number      name_customer invoice_currency document type  \\\n",
       "0          CA02  0140104392  FLANAG foundation              CAD            RV   \n",
       "1          U001  0200759878              SA in              USD            RV   \n",
       "2          U001  0200865666  RESTAU associates              USD            RV   \n",
       "3          U001  0200763152          PERFOR us              USD            RV   \n",
       "4          U001  0200742791             QUI co              USD            RV   \n",
       "\n",
       "  cust_payment_terms  \n",
       "0               CA10  \n",
       "1               NAH4  \n",
       "2               NAA8  \n",
       "3               NAA8  \n",
       "4               NAA8  "
      ]
     },
     "execution_count": 248,
     "metadata": {},
     "output_type": "execute_result"
    }
   ],
   "source": [
    "obj_df = df.select_dtypes(include=['object']).copy()\n",
    "obj_df.head()"
   ]
  },
  {
   "cell_type": "code",
   "execution_count": 249,
   "metadata": {},
   "outputs": [
    {
     "data": {
      "text/html": [
       "<div>\n",
       "<style scoped>\n",
       "    .dataframe tbody tr th:only-of-type {\n",
       "        vertical-align: middle;\n",
       "    }\n",
       "\n",
       "    .dataframe tbody tr th {\n",
       "        vertical-align: top;\n",
       "    }\n",
       "\n",
       "    .dataframe thead th {\n",
       "        text-align: right;\n",
       "    }\n",
       "</style>\n",
       "<table border=\"1\" class=\"dataframe\">\n",
       "  <thead>\n",
       "    <tr style=\"text-align: right;\">\n",
       "      <th></th>\n",
       "    </tr>\n",
       "  </thead>\n",
       "  <tbody>\n",
       "    <tr>\n",
       "      <th>0</th>\n",
       "    </tr>\n",
       "    <tr>\n",
       "      <th>1</th>\n",
       "    </tr>\n",
       "    <tr>\n",
       "      <th>2</th>\n",
       "    </tr>\n",
       "    <tr>\n",
       "      <th>3</th>\n",
       "    </tr>\n",
       "    <tr>\n",
       "      <th>4</th>\n",
       "    </tr>\n",
       "  </tbody>\n",
       "</table>\n",
       "</div>"
      ],
      "text/plain": [
       "Empty DataFrame\n",
       "Columns: []\n",
       "Index: [0, 1, 2, 3, 4]"
      ]
     },
     "execution_count": 249,
     "metadata": {},
     "output_type": "execute_result"
    }
   ],
   "source": [
    "flt_df = obj_df.select_dtypes(include=['float64']).copy()\n",
    "flt_df.head()"
   ]
  },
  {
   "cell_type": "code",
   "execution_count": 250,
   "metadata": {},
   "outputs": [],
   "source": [
    "\n",
    "from sklearn.preprocessing import OneHotEncoder\n",
    "\n",
    "oe_style = OneHotEncoder()\n",
    "oe_results = oe_style.fit_transform(obj_df[[\"business_code\"]])\n",
    "obj_df = obj_df.join(pd.DataFrame(oe_results.toarray(), columns=oe_style.categories_))\n"
   ]
  },
  {
   "cell_type": "code",
   "execution_count": 251,
   "metadata": {},
   "outputs": [
    {
     "data": {
      "text/html": [
       "<div>\n",
       "<style scoped>\n",
       "    .dataframe tbody tr th:only-of-type {\n",
       "        vertical-align: middle;\n",
       "    }\n",
       "\n",
       "    .dataframe tbody tr th {\n",
       "        vertical-align: top;\n",
       "    }\n",
       "\n",
       "    .dataframe thead th {\n",
       "        text-align: right;\n",
       "    }\n",
       "</style>\n",
       "<table border=\"1\" class=\"dataframe\">\n",
       "  <thead>\n",
       "    <tr style=\"text-align: right;\">\n",
       "      <th></th>\n",
       "      <th>CA02</th>\n",
       "      <th>U001</th>\n",
       "      <th>U002</th>\n",
       "      <th>U005</th>\n",
       "      <th>U007</th>\n",
       "      <th>U013</th>\n",
       "    </tr>\n",
       "  </thead>\n",
       "  <tbody>\n",
       "    <tr>\n",
       "      <th>0</th>\n",
       "      <td>1.0</td>\n",
       "      <td>0.0</td>\n",
       "      <td>0.0</td>\n",
       "      <td>0.0</td>\n",
       "      <td>0.0</td>\n",
       "      <td>0.0</td>\n",
       "    </tr>\n",
       "    <tr>\n",
       "      <th>1</th>\n",
       "      <td>0.0</td>\n",
       "      <td>1.0</td>\n",
       "      <td>0.0</td>\n",
       "      <td>0.0</td>\n",
       "      <td>0.0</td>\n",
       "      <td>0.0</td>\n",
       "    </tr>\n",
       "    <tr>\n",
       "      <th>2</th>\n",
       "      <td>0.0</td>\n",
       "      <td>1.0</td>\n",
       "      <td>0.0</td>\n",
       "      <td>0.0</td>\n",
       "      <td>0.0</td>\n",
       "      <td>0.0</td>\n",
       "    </tr>\n",
       "    <tr>\n",
       "      <th>3</th>\n",
       "      <td>0.0</td>\n",
       "      <td>1.0</td>\n",
       "      <td>0.0</td>\n",
       "      <td>0.0</td>\n",
       "      <td>0.0</td>\n",
       "      <td>0.0</td>\n",
       "    </tr>\n",
       "    <tr>\n",
       "      <th>4</th>\n",
       "      <td>0.0</td>\n",
       "      <td>1.0</td>\n",
       "      <td>0.0</td>\n",
       "      <td>0.0</td>\n",
       "      <td>0.0</td>\n",
       "      <td>0.0</td>\n",
       "    </tr>\n",
       "  </tbody>\n",
       "</table>\n",
       "</div>"
      ],
      "text/plain": [
       "   CA02  U001  U002  U005  U007  U013\n",
       "0   1.0   0.0   0.0   0.0   0.0   0.0\n",
       "1   0.0   1.0   0.0   0.0   0.0   0.0\n",
       "2   0.0   1.0   0.0   0.0   0.0   0.0\n",
       "3   0.0   1.0   0.0   0.0   0.0   0.0\n",
       "4   0.0   1.0   0.0   0.0   0.0   0.0"
      ]
     },
     "execution_count": 251,
     "metadata": {},
     "output_type": "execute_result"
    }
   ],
   "source": [
    "flt_df = obj_df.select_dtypes(include=['float64']).copy()\n",
    "flt_df.head()\n",
    "flt_df.columns = ['CA02','U001','U002','U005','U007','U013']\n",
    "flt_df.head()"
   ]
  },
  {
   "cell_type": "code",
   "execution_count": 252,
   "metadata": {},
   "outputs": [],
   "source": [
    "df = pd.concat([df, flt_df], axis =1)\n"
   ]
  },
  {
   "cell_type": "code",
   "execution_count": 253,
   "metadata": {},
   "outputs": [
    {
     "data": {
      "text/html": [
       "<div>\n",
       "<style scoped>\n",
       "    .dataframe tbody tr th:only-of-type {\n",
       "        vertical-align: middle;\n",
       "    }\n",
       "\n",
       "    .dataframe tbody tr th {\n",
       "        vertical-align: top;\n",
       "    }\n",
       "\n",
       "    .dataframe thead th {\n",
       "        text-align: right;\n",
       "    }\n",
       "</style>\n",
       "<table border=\"1\" class=\"dataframe\">\n",
       "  <thead>\n",
       "    <tr style=\"text-align: right;\">\n",
       "      <th></th>\n",
       "      <th>business_code</th>\n",
       "      <th>cust_number</th>\n",
       "      <th>name_customer</th>\n",
       "      <th>clear_date</th>\n",
       "      <th>doc_id</th>\n",
       "      <th>posting_date</th>\n",
       "      <th>document_create_date</th>\n",
       "      <th>document_create_date.1</th>\n",
       "      <th>due_in_date</th>\n",
       "      <th>invoice_currency</th>\n",
       "      <th>...</th>\n",
       "      <th>baseline_create_date_day</th>\n",
       "      <th>baseline_create_date_quarter</th>\n",
       "      <th>baseline_create_date_day_of_week</th>\n",
       "      <th>baseline_create_date_isWeekand</th>\n",
       "      <th>CA02</th>\n",
       "      <th>U001</th>\n",
       "      <th>U002</th>\n",
       "      <th>U005</th>\n",
       "      <th>U007</th>\n",
       "      <th>U013</th>\n",
       "    </tr>\n",
       "  </thead>\n",
       "  <tbody>\n",
       "  </tbody>\n",
       "</table>\n",
       "<p>0 rows × 31 columns</p>\n",
       "</div>"
      ],
      "text/plain": [
       "Empty DataFrame\n",
       "Columns: [business_code, cust_number, name_customer, clear_date, doc_id, posting_date, document_create_date, document_create_date.1, due_in_date, invoice_currency, document type, posting_id, area_business, total_open_amount, baseline_create_date, cust_payment_terms, invoice_id, isOpen, business_year, baseline_create_date_year, baseline_create_date_month, baseline_create_date_day, baseline_create_date_quarter, baseline_create_date_day_of_week, baseline_create_date_isWeekand, CA02, U001, U002, U005, U007, U013]\n",
       "Index: []\n",
       "\n",
       "[0 rows x 31 columns]"
      ]
     },
     "execution_count": 253,
     "metadata": {},
     "output_type": "execute_result"
    }
   ],
   "source": [
    "df.loc[df['U002'].isnull(),:]"
   ]
  },
  {
   "cell_type": "code",
   "execution_count": 254,
   "metadata": {},
   "outputs": [],
   "source": [
    "df['U013'] = df['U013'].fillna(0)"
   ]
  },
  {
   "cell_type": "code",
   "execution_count": 278,
   "metadata": {},
   "outputs": [
    {
     "data": {
      "text/html": [
       "<div>\n",
       "<style scoped>\n",
       "    .dataframe tbody tr th:only-of-type {\n",
       "        vertical-align: middle;\n",
       "    }\n",
       "\n",
       "    .dataframe tbody tr th {\n",
       "        vertical-align: top;\n",
       "    }\n",
       "\n",
       "    .dataframe thead th {\n",
       "        text-align: right;\n",
       "    }\n",
       "</style>\n",
       "<table border=\"1\" class=\"dataframe\">\n",
       "  <thead>\n",
       "    <tr style=\"text-align: right;\">\n",
       "      <th></th>\n",
       "      <th>business_code</th>\n",
       "      <th>cust_number</th>\n",
       "      <th>name_customer</th>\n",
       "      <th>clear_date</th>\n",
       "      <th>doc_id</th>\n",
       "      <th>posting_date</th>\n",
       "      <th>document_create_date</th>\n",
       "      <th>document_create_date.1</th>\n",
       "      <th>due_in_date</th>\n",
       "      <th>invoice_currency</th>\n",
       "      <th>...</th>\n",
       "      <th>baseline_create_date_day</th>\n",
       "      <th>baseline_create_date_quarter</th>\n",
       "      <th>baseline_create_date_day_of_week</th>\n",
       "      <th>baseline_create_date_isWeekand</th>\n",
       "      <th>CA02</th>\n",
       "      <th>U001</th>\n",
       "      <th>U002</th>\n",
       "      <th>U005</th>\n",
       "      <th>U007</th>\n",
       "      <th>U013</th>\n",
       "    </tr>\n",
       "  </thead>\n",
       "  <tbody>\n",
       "    <tr>\n",
       "      <th>0</th>\n",
       "      <td>CA02</td>\n",
       "      <td>0140104392</td>\n",
       "      <td>FLANAG foundation</td>\n",
       "      <td>2019-04-29</td>\n",
       "      <td>2.960541e+09</td>\n",
       "      <td>2019-04-11</td>\n",
       "      <td>2019-04-11</td>\n",
       "      <td>2019-04-11</td>\n",
       "      <td>2019-04-22</td>\n",
       "      <td>CAD</td>\n",
       "      <td>...</td>\n",
       "      <td>12</td>\n",
       "      <td>2</td>\n",
       "      <td>4</td>\n",
       "      <td>0</td>\n",
       "      <td>1.0</td>\n",
       "      <td>0.0</td>\n",
       "      <td>0.0</td>\n",
       "      <td>0.0</td>\n",
       "      <td>0.0</td>\n",
       "      <td>0.0</td>\n",
       "    </tr>\n",
       "    <tr>\n",
       "      <th>1</th>\n",
       "      <td>U001</td>\n",
       "      <td>0200759878</td>\n",
       "      <td>SA in</td>\n",
       "      <td>2019-05-20</td>\n",
       "      <td>1.929233e+09</td>\n",
       "      <td>2019-05-02</td>\n",
       "      <td>2019-04-30</td>\n",
       "      <td>2019-05-02</td>\n",
       "      <td>2019-05-17</td>\n",
       "      <td>USD</td>\n",
       "      <td>...</td>\n",
       "      <td>2</td>\n",
       "      <td>2</td>\n",
       "      <td>3</td>\n",
       "      <td>0</td>\n",
       "      <td>0.0</td>\n",
       "      <td>1.0</td>\n",
       "      <td>0.0</td>\n",
       "      <td>0.0</td>\n",
       "      <td>0.0</td>\n",
       "      <td>0.0</td>\n",
       "    </tr>\n",
       "    <tr>\n",
       "      <th>2</th>\n",
       "      <td>U001</td>\n",
       "      <td>0200865666</td>\n",
       "      <td>RESTAU associates</td>\n",
       "      <td>2019-11-14</td>\n",
       "      <td>1.930077e+09</td>\n",
       "      <td>2019-10-30</td>\n",
       "      <td>2019-10-30</td>\n",
       "      <td>2019-10-30</td>\n",
       "      <td>2019-11-14</td>\n",
       "      <td>USD</td>\n",
       "      <td>...</td>\n",
       "      <td>30</td>\n",
       "      <td>4</td>\n",
       "      <td>2</td>\n",
       "      <td>0</td>\n",
       "      <td>0.0</td>\n",
       "      <td>1.0</td>\n",
       "      <td>0.0</td>\n",
       "      <td>0.0</td>\n",
       "      <td>0.0</td>\n",
       "      <td>0.0</td>\n",
       "    </tr>\n",
       "    <tr>\n",
       "      <th>3</th>\n",
       "      <td>U001</td>\n",
       "      <td>0200763152</td>\n",
       "      <td>PERFOR us</td>\n",
       "      <td>2019-02-15</td>\n",
       "      <td>1.928696e+09</td>\n",
       "      <td>2019-01-29</td>\n",
       "      <td>2019-01-28</td>\n",
       "      <td>2019-01-29</td>\n",
       "      <td>2019-02-13</td>\n",
       "      <td>USD</td>\n",
       "      <td>...</td>\n",
       "      <td>29</td>\n",
       "      <td>1</td>\n",
       "      <td>1</td>\n",
       "      <td>0</td>\n",
       "      <td>0.0</td>\n",
       "      <td>1.0</td>\n",
       "      <td>0.0</td>\n",
       "      <td>0.0</td>\n",
       "      <td>0.0</td>\n",
       "      <td>0.0</td>\n",
       "    </tr>\n",
       "    <tr>\n",
       "      <th>4</th>\n",
       "      <td>U001</td>\n",
       "      <td>0200742791</td>\n",
       "      <td>QUI co</td>\n",
       "      <td>2020-03-11</td>\n",
       "      <td>1.930561e+09</td>\n",
       "      <td>2020-02-25</td>\n",
       "      <td>2020-02-24</td>\n",
       "      <td>2020-02-25</td>\n",
       "      <td>2020-03-11</td>\n",
       "      <td>USD</td>\n",
       "      <td>...</td>\n",
       "      <td>25</td>\n",
       "      <td>1</td>\n",
       "      <td>1</td>\n",
       "      <td>0</td>\n",
       "      <td>0.0</td>\n",
       "      <td>1.0</td>\n",
       "      <td>0.0</td>\n",
       "      <td>0.0</td>\n",
       "      <td>0.0</td>\n",
       "      <td>0.0</td>\n",
       "    </tr>\n",
       "  </tbody>\n",
       "</table>\n",
       "<p>5 rows × 31 columns</p>\n",
       "</div>"
      ],
      "text/plain": [
       "  business_code cust_number      name_customer clear_date        doc_id  \\\n",
       "0          CA02  0140104392  FLANAG foundation 2019-04-29  2.960541e+09   \n",
       "1          U001  0200759878              SA in 2019-05-20  1.929233e+09   \n",
       "2          U001  0200865666  RESTAU associates 2019-11-14  1.930077e+09   \n",
       "3          U001  0200763152          PERFOR us 2019-02-15  1.928696e+09   \n",
       "4          U001  0200742791             QUI co 2020-03-11  1.930561e+09   \n",
       "\n",
       "  posting_date document_create_date document_create_date.1 due_in_date  \\\n",
       "0   2019-04-11           2019-04-11             2019-04-11  2019-04-22   \n",
       "1   2019-05-02           2019-04-30             2019-05-02  2019-05-17   \n",
       "2   2019-10-30           2019-10-30             2019-10-30  2019-11-14   \n",
       "3   2019-01-29           2019-01-28             2019-01-29  2019-02-13   \n",
       "4   2020-02-25           2020-02-24             2020-02-25  2020-03-11   \n",
       "\n",
       "  invoice_currency  ... baseline_create_date_day  \\\n",
       "0              CAD  ...                       12   \n",
       "1              USD  ...                        2   \n",
       "2              USD  ...                       30   \n",
       "3              USD  ...                       29   \n",
       "4              USD  ...                       25   \n",
       "\n",
       "   baseline_create_date_quarter  baseline_create_date_day_of_week  \\\n",
       "0                             2                                 4   \n",
       "1                             2                                 3   \n",
       "2                             4                                 2   \n",
       "3                             1                                 1   \n",
       "4                             1                                 1   \n",
       "\n",
       "   baseline_create_date_isWeekand CA02 U001  U002  U005  U007  U013  \n",
       "0                               0  1.0  0.0   0.0   0.0   0.0   0.0  \n",
       "1                               0  0.0  1.0   0.0   0.0   0.0   0.0  \n",
       "2                               0  0.0  1.0   0.0   0.0   0.0   0.0  \n",
       "3                               0  0.0  1.0   0.0   0.0   0.0   0.0  \n",
       "4                               0  0.0  1.0   0.0   0.0   0.0   0.0  \n",
       "\n",
       "[5 rows x 31 columns]"
      ]
     },
     "execution_count": 278,
     "metadata": {},
     "output_type": "execute_result"
    }
   ],
   "source": [
    "df1.head()"
   ]
  },
  {
   "cell_type": "code",
   "execution_count": 256,
   "metadata": {},
   "outputs": [
    {
     "data": {
      "text/html": [
       "<div>\n",
       "<style scoped>\n",
       "    .dataframe tbody tr th:only-of-type {\n",
       "        vertical-align: middle;\n",
       "    }\n",
       "\n",
       "    .dataframe tbody tr th {\n",
       "        vertical-align: top;\n",
       "    }\n",
       "\n",
       "    .dataframe thead th {\n",
       "        text-align: right;\n",
       "    }\n",
       "</style>\n",
       "<table border=\"1\" class=\"dataframe\">\n",
       "  <thead>\n",
       "    <tr style=\"text-align: right;\">\n",
       "      <th></th>\n",
       "      <th>business_code</th>\n",
       "      <th>cust_number</th>\n",
       "      <th>name_customer</th>\n",
       "      <th>clear_date</th>\n",
       "      <th>buisness_year</th>\n",
       "      <th>doc_id</th>\n",
       "      <th>posting_date</th>\n",
       "      <th>document_create_date</th>\n",
       "      <th>document_create_date.1</th>\n",
       "      <th>due_in_date</th>\n",
       "      <th>...</th>\n",
       "      <th>baseline_create_date</th>\n",
       "      <th>cust_payment_terms</th>\n",
       "      <th>invoice_id</th>\n",
       "      <th>isOpen</th>\n",
       "      <th>CA02</th>\n",
       "      <th>U001</th>\n",
       "      <th>U002</th>\n",
       "      <th>U005</th>\n",
       "      <th>U007</th>\n",
       "      <th>U013</th>\n",
       "    </tr>\n",
       "  </thead>\n",
       "  <tbody>\n",
       "  </tbody>\n",
       "</table>\n",
       "<p>0 rows × 23 columns</p>\n",
       "</div>"
      ],
      "text/plain": [
       "Empty DataFrame\n",
       "Columns: [business_code, cust_number, name_customer, clear_date, buisness_year, doc_id, posting_date, document_create_date, document_create_date.1, due_in_date, invoice_currency, document type, total_open_amount, baseline_create_date, cust_payment_terms, invoice_id, isOpen, CA02, U001, U002, U005, U007, U013]\n",
       "Index: []\n",
       "\n",
       "[0 rows x 23 columns]"
      ]
     },
     "execution_count": 256,
     "metadata": {},
     "output_type": "execute_result"
    }
   ],
   "source": [
    "df1.loc[df1['U002'].isnull(),:]"
   ]
  },
  {
   "cell_type": "code",
   "execution_count": 257,
   "metadata": {},
   "outputs": [
    {
     "data": {
      "text/html": [
       "<div>\n",
       "<style scoped>\n",
       "    .dataframe tbody tr th:only-of-type {\n",
       "        vertical-align: middle;\n",
       "    }\n",
       "\n",
       "    .dataframe tbody tr th {\n",
       "        vertical-align: top;\n",
       "    }\n",
       "\n",
       "    .dataframe thead th {\n",
       "        text-align: right;\n",
       "    }\n",
       "</style>\n",
       "<table border=\"1\" class=\"dataframe\">\n",
       "  <thead>\n",
       "    <tr style=\"text-align: right;\">\n",
       "      <th></th>\n",
       "      <th>business_code</th>\n",
       "      <th>cust_number</th>\n",
       "      <th>name_customer</th>\n",
       "      <th>clear_date</th>\n",
       "      <th>doc_id</th>\n",
       "      <th>posting_date</th>\n",
       "      <th>document_create_date</th>\n",
       "      <th>document_create_date.1</th>\n",
       "      <th>due_in_date</th>\n",
       "      <th>invoice_currency</th>\n",
       "      <th>...</th>\n",
       "      <th>baseline_create_date_day</th>\n",
       "      <th>baseline_create_date_quarter</th>\n",
       "      <th>baseline_create_date_day_of_week</th>\n",
       "      <th>baseline_create_date_isWeekand</th>\n",
       "      <th>CA02</th>\n",
       "      <th>U001</th>\n",
       "      <th>U002</th>\n",
       "      <th>U005</th>\n",
       "      <th>U007</th>\n",
       "      <th>U013</th>\n",
       "    </tr>\n",
       "  </thead>\n",
       "  <tbody>\n",
       "    <tr>\n",
       "      <th>0</th>\n",
       "      <td>CA02</td>\n",
       "      <td>0140104392</td>\n",
       "      <td>FLANAG foundation</td>\n",
       "      <td>2019-04-29</td>\n",
       "      <td>2.960541e+09</td>\n",
       "      <td>2019-04-11</td>\n",
       "      <td>2019-04-11</td>\n",
       "      <td>2019-04-11</td>\n",
       "      <td>2019-04-22</td>\n",
       "      <td>CAD</td>\n",
       "      <td>...</td>\n",
       "      <td>12</td>\n",
       "      <td>2</td>\n",
       "      <td>4</td>\n",
       "      <td>0</td>\n",
       "      <td>1.0</td>\n",
       "      <td>0.0</td>\n",
       "      <td>0.0</td>\n",
       "      <td>0.0</td>\n",
       "      <td>0.0</td>\n",
       "      <td>0.0</td>\n",
       "    </tr>\n",
       "    <tr>\n",
       "      <th>1</th>\n",
       "      <td>U001</td>\n",
       "      <td>0200759878</td>\n",
       "      <td>SA in</td>\n",
       "      <td>2019-05-20</td>\n",
       "      <td>1.929233e+09</td>\n",
       "      <td>2019-05-02</td>\n",
       "      <td>2019-04-30</td>\n",
       "      <td>2019-05-02</td>\n",
       "      <td>2019-05-17</td>\n",
       "      <td>USD</td>\n",
       "      <td>...</td>\n",
       "      <td>2</td>\n",
       "      <td>2</td>\n",
       "      <td>3</td>\n",
       "      <td>0</td>\n",
       "      <td>0.0</td>\n",
       "      <td>1.0</td>\n",
       "      <td>0.0</td>\n",
       "      <td>0.0</td>\n",
       "      <td>0.0</td>\n",
       "      <td>0.0</td>\n",
       "    </tr>\n",
       "    <tr>\n",
       "      <th>2</th>\n",
       "      <td>U001</td>\n",
       "      <td>0200865666</td>\n",
       "      <td>RESTAU associates</td>\n",
       "      <td>2019-11-14</td>\n",
       "      <td>1.930077e+09</td>\n",
       "      <td>2019-10-30</td>\n",
       "      <td>2019-10-30</td>\n",
       "      <td>2019-10-30</td>\n",
       "      <td>2019-11-14</td>\n",
       "      <td>USD</td>\n",
       "      <td>...</td>\n",
       "      <td>30</td>\n",
       "      <td>4</td>\n",
       "      <td>2</td>\n",
       "      <td>0</td>\n",
       "      <td>0.0</td>\n",
       "      <td>1.0</td>\n",
       "      <td>0.0</td>\n",
       "      <td>0.0</td>\n",
       "      <td>0.0</td>\n",
       "      <td>0.0</td>\n",
       "    </tr>\n",
       "    <tr>\n",
       "      <th>3</th>\n",
       "      <td>U001</td>\n",
       "      <td>0200763152</td>\n",
       "      <td>PERFOR us</td>\n",
       "      <td>2019-02-15</td>\n",
       "      <td>1.928696e+09</td>\n",
       "      <td>2019-01-29</td>\n",
       "      <td>2019-01-28</td>\n",
       "      <td>2019-01-29</td>\n",
       "      <td>2019-02-13</td>\n",
       "      <td>USD</td>\n",
       "      <td>...</td>\n",
       "      <td>29</td>\n",
       "      <td>1</td>\n",
       "      <td>1</td>\n",
       "      <td>0</td>\n",
       "      <td>0.0</td>\n",
       "      <td>1.0</td>\n",
       "      <td>0.0</td>\n",
       "      <td>0.0</td>\n",
       "      <td>0.0</td>\n",
       "      <td>0.0</td>\n",
       "    </tr>\n",
       "    <tr>\n",
       "      <th>4</th>\n",
       "      <td>U001</td>\n",
       "      <td>0200742791</td>\n",
       "      <td>QUI co</td>\n",
       "      <td>2020-03-11</td>\n",
       "      <td>1.930561e+09</td>\n",
       "      <td>2020-02-25</td>\n",
       "      <td>2020-02-24</td>\n",
       "      <td>2020-02-25</td>\n",
       "      <td>2020-03-11</td>\n",
       "      <td>USD</td>\n",
       "      <td>...</td>\n",
       "      <td>25</td>\n",
       "      <td>1</td>\n",
       "      <td>1</td>\n",
       "      <td>0</td>\n",
       "      <td>0.0</td>\n",
       "      <td>1.0</td>\n",
       "      <td>0.0</td>\n",
       "      <td>0.0</td>\n",
       "      <td>0.0</td>\n",
       "      <td>0.0</td>\n",
       "    </tr>\n",
       "  </tbody>\n",
       "</table>\n",
       "<p>5 rows × 31 columns</p>\n",
       "</div>"
      ],
      "text/plain": [
       "  business_code cust_number      name_customer clear_date        doc_id  \\\n",
       "0          CA02  0140104392  FLANAG foundation 2019-04-29  2.960541e+09   \n",
       "1          U001  0200759878              SA in 2019-05-20  1.929233e+09   \n",
       "2          U001  0200865666  RESTAU associates 2019-11-14  1.930077e+09   \n",
       "3          U001  0200763152          PERFOR us 2019-02-15  1.928696e+09   \n",
       "4          U001  0200742791             QUI co 2020-03-11  1.930561e+09   \n",
       "\n",
       "  posting_date document_create_date document_create_date.1 due_in_date  \\\n",
       "0   2019-04-11           2019-04-11             2019-04-11  2019-04-22   \n",
       "1   2019-05-02           2019-04-30             2019-05-02  2019-05-17   \n",
       "2   2019-10-30           2019-10-30             2019-10-30  2019-11-14   \n",
       "3   2019-01-29           2019-01-28             2019-01-29  2019-02-13   \n",
       "4   2020-02-25           2020-02-24             2020-02-25  2020-03-11   \n",
       "\n",
       "  invoice_currency  ... baseline_create_date_day  \\\n",
       "0              CAD  ...                       12   \n",
       "1              USD  ...                        2   \n",
       "2              USD  ...                       30   \n",
       "3              USD  ...                       29   \n",
       "4              USD  ...                       25   \n",
       "\n",
       "   baseline_create_date_quarter  baseline_create_date_day_of_week  \\\n",
       "0                             2                                 4   \n",
       "1                             2                                 3   \n",
       "2                             4                                 2   \n",
       "3                             1                                 1   \n",
       "4                             1                                 1   \n",
       "\n",
       "   baseline_create_date_isWeekand CA02 U001  U002  U005  U007  U013  \n",
       "0                               0  1.0  0.0   0.0   0.0   0.0   0.0  \n",
       "1                               0  0.0  1.0   0.0   0.0   0.0   0.0  \n",
       "2                               0  0.0  1.0   0.0   0.0   0.0   0.0  \n",
       "3                               0  0.0  1.0   0.0   0.0   0.0   0.0  \n",
       "4                               0  0.0  1.0   0.0   0.0   0.0   0.0  \n",
       "\n",
       "[5 rows x 31 columns]"
      ]
     },
     "execution_count": 257,
     "metadata": {},
     "output_type": "execute_result"
    }
   ],
   "source": [
    "df1 = df.copy()\n",
    "df1.head()"
   ]
  },
  {
   "cell_type": "code",
   "execution_count": 258,
   "metadata": {},
   "outputs": [],
   "source": [
    "df1['U002'] = df1['U002'].fillna(0)\n"
   ]
  },
  {
   "cell_type": "code",
   "execution_count": 259,
   "metadata": {},
   "outputs": [],
   "source": [
    "df.at[49992,'U001'] = 1"
   ]
  },
  {
   "cell_type": "code",
   "execution_count": 260,
   "metadata": {},
   "outputs": [],
   "source": [
    "df.at[49996,'CA02'] = 1\n",
    "df.at[49993,'U001'] = 1\n",
    "df.at[49994,'U001'] = 1\n",
    "df.at[49995,'U001'] = 1\n",
    "df.at[49997,'U001'] = 1\n",
    "df.at[49998,'U001'] = 1\n",
    "df.at[49999,'U001'] = int(1)\n"
   ]
  },
  {
   "cell_type": "markdown",
   "metadata": {},
   "source": [
    "## Dropping Business code "
   ]
  },
  {
   "cell_type": "code",
   "execution_count": 261,
   "metadata": {},
   "outputs": [],
   "source": [
    "df.drop(['business_code'],axis=1,inplace=True)"
   ]
  },
  {
   "cell_type": "markdown",
   "metadata": {},
   "source": [
    "## Dropping column with NaN value"
   ]
  },
  {
   "cell_type": "code",
   "execution_count": null,
   "metadata": {
    "scrolled": true
   },
   "outputs": [],
   "source": [
    "df.drop(['area_business'],axis=1,inplace=True)"
   ]
  },
  {
   "cell_type": "markdown",
   "metadata": {},
   "source": [
    "## Dropping rows with null invoice id "
   ]
  },
  {
   "cell_type": "code",
   "execution_count": 265,
   "metadata": {},
   "outputs": [],
   "source": [
    "df = df[df['invoice_id'].notna()]"
   ]
  },
  {
   "cell_type": "markdown",
   "metadata": {},
   "source": [
    "## Dropping Constant Columns"
   ]
  },
  {
   "cell_type": "code",
   "execution_count": 266,
   "metadata": {},
   "outputs": [
    {
     "name": "stderr",
     "output_type": "stream",
     "text": [
      "C:\\Users\\xyz\\anaconda3\\lib\\site-packages\\pandas\\core\\frame.py:4163: SettingWithCopyWarning: \n",
      "A value is trying to be set on a copy of a slice from a DataFrame\n",
      "\n",
      "See the caveats in the documentation: https://pandas.pydata.org/pandas-docs/stable/user_guide/indexing.html#returning-a-view-versus-a-copy\n",
      "  return super().drop(\n"
     ]
    }
   ],
   "source": [
    "uc= [x for x in df.columns if df[x].nunique()==1]\n",
    "df.drop(uc,axis=1,inplace=True)"
   ]
  },
  {
   "cell_type": "code",
   "execution_count": 290,
   "metadata": {},
   "outputs": [
    {
     "data": {
      "text/plain": [
       "0    45580\n",
       "1     4413\n",
       "Name: isOpen, dtype: int64"
      ]
     },
     "execution_count": 290,
     "metadata": {},
     "output_type": "execute_result"
    }
   ],
   "source": [
    "df['isOpen'].value_counts()"
   ]
  },
  {
   "cell_type": "code",
   "execution_count": 267,
   "metadata": {},
   "outputs": [
    {
     "data": {
      "text/html": [
       "<div>\n",
       "<style scoped>\n",
       "    .dataframe tbody tr th:only-of-type {\n",
       "        vertical-align: middle;\n",
       "    }\n",
       "\n",
       "    .dataframe tbody tr th {\n",
       "        vertical-align: top;\n",
       "    }\n",
       "\n",
       "    .dataframe thead th {\n",
       "        text-align: right;\n",
       "    }\n",
       "</style>\n",
       "<table border=\"1\" class=\"dataframe\">\n",
       "  <thead>\n",
       "    <tr style=\"text-align: right;\">\n",
       "      <th></th>\n",
       "      <th>cust_number</th>\n",
       "      <th>name_customer</th>\n",
       "      <th>clear_date</th>\n",
       "      <th>doc_id</th>\n",
       "      <th>posting_date</th>\n",
       "      <th>document_create_date</th>\n",
       "      <th>document_create_date.1</th>\n",
       "      <th>due_in_date</th>\n",
       "      <th>invoice_currency</th>\n",
       "      <th>total_open_amount</th>\n",
       "      <th>...</th>\n",
       "      <th>baseline_create_date_day</th>\n",
       "      <th>baseline_create_date_quarter</th>\n",
       "      <th>baseline_create_date_day_of_week</th>\n",
       "      <th>baseline_create_date_isWeekand</th>\n",
       "      <th>CA02</th>\n",
       "      <th>U001</th>\n",
       "      <th>U002</th>\n",
       "      <th>U005</th>\n",
       "      <th>U007</th>\n",
       "      <th>U013</th>\n",
       "    </tr>\n",
       "  </thead>\n",
       "  <tbody>\n",
       "    <tr>\n",
       "      <th>0</th>\n",
       "      <td>0140104392</td>\n",
       "      <td>FLANAG foundation</td>\n",
       "      <td>2019-04-29</td>\n",
       "      <td>2.960541e+09</td>\n",
       "      <td>2019-04-11</td>\n",
       "      <td>2019-04-11</td>\n",
       "      <td>2019-04-11</td>\n",
       "      <td>2019-04-22</td>\n",
       "      <td>CAD</td>\n",
       "      <td>4398.10</td>\n",
       "      <td>...</td>\n",
       "      <td>12</td>\n",
       "      <td>2</td>\n",
       "      <td>4</td>\n",
       "      <td>0</td>\n",
       "      <td>1.0</td>\n",
       "      <td>0.0</td>\n",
       "      <td>0.0</td>\n",
       "      <td>0.0</td>\n",
       "      <td>0.0</td>\n",
       "      <td>0.0</td>\n",
       "    </tr>\n",
       "    <tr>\n",
       "      <th>1</th>\n",
       "      <td>0200759878</td>\n",
       "      <td>SA in</td>\n",
       "      <td>2019-05-20</td>\n",
       "      <td>1.929233e+09</td>\n",
       "      <td>2019-05-02</td>\n",
       "      <td>2019-04-30</td>\n",
       "      <td>2019-05-02</td>\n",
       "      <td>2019-05-17</td>\n",
       "      <td>USD</td>\n",
       "      <td>15725.29</td>\n",
       "      <td>...</td>\n",
       "      <td>2</td>\n",
       "      <td>2</td>\n",
       "      <td>3</td>\n",
       "      <td>0</td>\n",
       "      <td>0.0</td>\n",
       "      <td>1.0</td>\n",
       "      <td>0.0</td>\n",
       "      <td>0.0</td>\n",
       "      <td>0.0</td>\n",
       "      <td>0.0</td>\n",
       "    </tr>\n",
       "    <tr>\n",
       "      <th>2</th>\n",
       "      <td>0200865666</td>\n",
       "      <td>RESTAU associates</td>\n",
       "      <td>2019-11-14</td>\n",
       "      <td>1.930077e+09</td>\n",
       "      <td>2019-10-30</td>\n",
       "      <td>2019-10-30</td>\n",
       "      <td>2019-10-30</td>\n",
       "      <td>2019-11-14</td>\n",
       "      <td>USD</td>\n",
       "      <td>3816.99</td>\n",
       "      <td>...</td>\n",
       "      <td>30</td>\n",
       "      <td>4</td>\n",
       "      <td>2</td>\n",
       "      <td>0</td>\n",
       "      <td>0.0</td>\n",
       "      <td>1.0</td>\n",
       "      <td>0.0</td>\n",
       "      <td>0.0</td>\n",
       "      <td>0.0</td>\n",
       "      <td>0.0</td>\n",
       "    </tr>\n",
       "  </tbody>\n",
       "</table>\n",
       "<p>3 rows × 27 columns</p>\n",
       "</div>"
      ],
      "text/plain": [
       "  cust_number      name_customer clear_date        doc_id posting_date  \\\n",
       "0  0140104392  FLANAG foundation 2019-04-29  2.960541e+09   2019-04-11   \n",
       "1  0200759878              SA in 2019-05-20  1.929233e+09   2019-05-02   \n",
       "2  0200865666  RESTAU associates 2019-11-14  1.930077e+09   2019-10-30   \n",
       "\n",
       "  document_create_date document_create_date.1 due_in_date invoice_currency  \\\n",
       "0           2019-04-11             2019-04-11  2019-04-22              CAD   \n",
       "1           2019-04-30             2019-05-02  2019-05-17              USD   \n",
       "2           2019-10-30             2019-10-30  2019-11-14              USD   \n",
       "\n",
       "   total_open_amount  ... baseline_create_date_day  \\\n",
       "0            4398.10  ...                       12   \n",
       "1           15725.29  ...                        2   \n",
       "2            3816.99  ...                       30   \n",
       "\n",
       "  baseline_create_date_quarter  baseline_create_date_day_of_week  \\\n",
       "0                            2                                 4   \n",
       "1                            2                                 3   \n",
       "2                            4                                 2   \n",
       "\n",
       "   baseline_create_date_isWeekand  CA02  U001  U002  U005  U007  U013  \n",
       "0                               0   1.0   0.0   0.0   0.0   0.0   0.0  \n",
       "1                               0   0.0   1.0   0.0   0.0   0.0   0.0  \n",
       "2                               0   0.0   1.0   0.0   0.0   0.0   0.0  \n",
       "\n",
       "[3 rows x 27 columns]"
      ]
     },
     "execution_count": 267,
     "metadata": {},
     "output_type": "execute_result"
    }
   ],
   "source": [
    "df.head(3)"
   ]
  },
  {
   "cell_type": "code",
   "execution_count": null,
   "metadata": {
    "scrolled": true
   },
   "outputs": [],
   "source": [
    "df['business_code'].value_counts()"
   ]
  },
  {
   "cell_type": "markdown",
   "metadata": {},
   "source": [
    "## Converting 'CAD' to 0 and 'USD' to 1 into a new column named 'invoice_currency_numeric'"
   ]
  },
  {
   "cell_type": "code",
   "execution_count": null,
   "metadata": {},
   "outputs": [],
   "source": [
    "df['invoice_currency_numeric'] = np.where(df['invoice_currency'] == 'CAD',0,1)"
   ]
  },
  {
   "cell_type": "code",
   "execution_count": 281,
   "metadata": {},
   "outputs": [
    {
     "data": {
      "text/plain": [
       "1    45989\n",
       "0     4004\n",
       "Name: invoice_currency_numeric, dtype: int64"
      ]
     },
     "execution_count": 281,
     "metadata": {},
     "output_type": "execute_result"
    }
   ],
   "source": [
    "df['invoice_currency_numeric'].value_counts()"
   ]
  },
  {
   "cell_type": "code",
   "execution_count": 272,
   "metadata": {},
   "outputs": [
    {
     "data": {
      "text/plain": [
       "0    45581\n",
       "1     4413\n",
       "Name: isOpen, dtype: int64"
      ]
     },
     "execution_count": 272,
     "metadata": {},
     "output_type": "execute_result"
    }
   ],
   "source": [
    "df['isOpen'].value_counts()"
   ]
  },
  {
   "cell_type": "code",
   "execution_count": 273,
   "metadata": {},
   "outputs": [
    {
     "data": {
      "text/plain": [
       "NAA8    20008\n",
       "NAH4    13299\n",
       "CA10     3899\n",
       "NAC6     1769\n",
       "NAM4     1327\n",
       "        ...  \n",
       "NATL        1\n",
       "NATV        1\n",
       "MC15        1\n",
       "NATH        1\n",
       "NA24        1\n",
       "Name: cust_payment_terms, Length: 75, dtype: int64"
      ]
     },
     "execution_count": 273,
     "metadata": {},
     "output_type": "execute_result"
    }
   ],
   "source": [
    "df['cust_payment_terms'].value_counts()"
   ]
  },
  {
   "cell_type": "markdown",
   "metadata": {},
   "source": [
    "## We can drop  the above row < 11246> as it's causing ambiguity \n",
    "## As there is a link between business_code and invoice_currency  column, we can drop invoice_currency "
   ]
  },
  {
   "cell_type": "code",
   "execution_count": null,
   "metadata": {},
   "outputs": [],
   "source": [
    "df['cmp'] = np.where((df.invoice_currency=='CAD') & (df.business_code != 'CA02'),1,0)\n",
    "df.iloc[[df['cmp'].argmax()]]"
   ]
  },
  {
   "cell_type": "code",
   "execution_count": 275,
   "metadata": {},
   "outputs": [],
   "source": [
    "df.drop(11246,inplace=True)"
   ]
  },
  {
   "cell_type": "code",
   "execution_count": null,
   "metadata": {},
   "outputs": [],
   "source": [
    "df.drop(['cmp'], axis = 1,inplace=True) "
   ]
  },
  {
   "cell_type": "code",
   "execution_count": 277,
   "metadata": {},
   "outputs": [],
   "source": [
    "df.drop(['invoice_currency'],axis=1,inplace=True)"
   ]
  },
  {
   "cell_type": "code",
   "execution_count": null,
   "metadata": {},
   "outputs": [],
   "source": [
    "df['document type'].value_counts()"
   ]
  },
  {
   "cell_type": "code",
   "execution_count": null,
   "metadata": {},
   "outputs": [],
   "source": [
    "df['document_type_numeric'] = np.where(df['document type'] == 'RV',1,0)\n",
    "df.drop(['document type'],axis=1,inplace=True)"
   ]
  },
  {
   "cell_type": "markdown",
   "metadata": {},
   "source": [
    "## Quasi Constant"
   ]
  },
  {
   "cell_type": "code",
   "execution_count": 369,
   "metadata": {},
   "outputs": [
    {
     "name": "stdout",
     "output_type": "stream",
     "text": [
      "<class 'pandas.core.frame.DataFrame'>\n",
      "Int64Index: 49993 entries, 0 to 49999\n",
      "Data columns (total 18 columns):\n",
      " #   Column                            Non-Null Count  Dtype  \n",
      "---  ------                            --------------  -----  \n",
      " 0   total_open_amount                 49993 non-null  float64\n",
      " 1   isOpen                            49993 non-null  int64  \n",
      " 2   baseline_create_date_year         49993 non-null  int64  \n",
      " 3   baseline_create_date_month        49993 non-null  int64  \n",
      " 4   baseline_create_date_day          49993 non-null  int64  \n",
      " 5   baseline_create_date_quarter      49993 non-null  int64  \n",
      " 6   baseline_create_date_day_of_week  49993 non-null  int64  \n",
      " 7   baseline_create_date_isWeekand    49993 non-null  int32  \n",
      " 8   CA02                              49993 non-null  float64\n",
      " 9   U001                              49993 non-null  float64\n",
      " 10  U002                              49993 non-null  float64\n",
      " 11  U005                              49993 non-null  float64\n",
      " 12  U007                              49993 non-null  float64\n",
      " 13  U013                              49993 non-null  float64\n",
      " 14  invoice_currency_numeric          49993 non-null  int32  \n",
      " 15  due_in_date_day                   49993 non-null  int64  \n",
      " 16  clear_date_day                    45580 non-null  float64\n",
      " 17  Delay                             45580 non-null  float64\n",
      "dtypes: float64(9), int32(2), int64(7)\n",
      "memory usage: 6.9 MB\n"
     ]
    }
   ],
   "source": [
    "df1 = df.select_dtypes(include=['float64','int64','int32']).copy()\n",
    "df1.info()"
   ]
  },
  {
   "cell_type": "code",
   "execution_count": 371,
   "metadata": {
    "scrolled": true
   },
   "outputs": [
    {
     "name": "stdout",
     "output_type": "stream",
     "text": [
      "3\n"
     ]
    },
    {
     "data": {
      "text/plain": [
       "['U002', 'U005', 'U007']"
      ]
     },
     "execution_count": 371,
     "metadata": {},
     "output_type": "execute_result"
    }
   ],
   "source": [
    "from sklearn.feature_selection import VarianceThreshold\n",
    "sel = VarianceThreshold(threshold=0.01)\n",
    "sel.fit(df1)\n",
    "print(\n",
    "    len([\n",
    "        x for x in df1.columns\n",
    "        if x not in df1.columns[sel.get_support()]\n",
    "    ]))\n",
    "\n",
    "[x for x in df1.columns if x not in df1.columns[sel.get_support()]]"
   ]
  },
  {
   "cell_type": "markdown",
   "metadata": {},
   "source": [
    "# ANAMOLY DELETE"
   ]
  },
  {
   "cell_type": "code",
   "execution_count": 287,
   "metadata": {},
   "outputs": [
    {
     "data": {
      "text/plain": [
       "133"
      ]
     },
     "execution_count": 287,
     "metadata": {},
     "output_type": "execute_result"
    }
   ],
   "source": [
    "(df['due_in_date'] < df['document_create_date.1']).sum()"
   ]
  },
  {
   "cell_type": "code",
   "execution_count": 286,
   "metadata": {},
   "outputs": [
    {
     "data": {
      "text/plain": [
       "7"
      ]
     },
     "execution_count": 286,
     "metadata": {},
     "output_type": "execute_result"
    }
   ],
   "source": [
    "(df['clear_date'] < df['baseline_create_date']).sum()"
   ]
  },
  {
   "cell_type": "code",
   "execution_count": 67,
   "metadata": {},
   "outputs": [
    {
     "ename": "TypeError",
     "evalue": "'NoneType' object is not subscriptable",
     "output_type": "error",
     "traceback": [
      "\u001b[1;31m---------------------------------------------------------------------------\u001b[0m",
      "\u001b[1;31mTypeError\u001b[0m                                 Traceback (most recent call last)",
      "\u001b[1;32m<ipython-input-67-e9a21bb4b0c7>\u001b[0m in \u001b[0;36m<module>\u001b[1;34m\u001b[0m\n\u001b[1;32m----> 1\u001b[1;33m \u001b[1;33m(\u001b[0m\u001b[0mdf\u001b[0m\u001b[1;33m[\u001b[0m\u001b[1;34m'invoice_id'\u001b[0m\u001b[1;33m]\u001b[0m\u001b[1;33m.\u001b[0m\u001b[0misnull\u001b[0m\u001b[1;33m(\u001b[0m\u001b[1;33m)\u001b[0m\u001b[1;33m)\u001b[0m\u001b[1;33m.\u001b[0m\u001b[0msum\u001b[0m\u001b[1;33m(\u001b[0m\u001b[1;33m)\u001b[0m\u001b[1;33m\u001b[0m\u001b[1;33m\u001b[0m\u001b[0m\n\u001b[0m\u001b[0;32m      2\u001b[0m \u001b[0mdf\u001b[0m\u001b[1;33m.\u001b[0m\u001b[0mloc\u001b[0m\u001b[1;33m[\u001b[0m\u001b[0mdf\u001b[0m\u001b[1;33m[\u001b[0m\u001b[1;34m'invoice_id'\u001b[0m\u001b[1;33m]\u001b[0m\u001b[1;33m.\u001b[0m\u001b[0misnull\u001b[0m\u001b[1;33m(\u001b[0m\u001b[1;33m)\u001b[0m\u001b[1;33m,\u001b[0m\u001b[1;33m:\u001b[0m\u001b[1;33m]\u001b[0m\u001b[1;33m\u001b[0m\u001b[1;33m\u001b[0m\u001b[0m\n",
      "\u001b[1;31mTypeError\u001b[0m: 'NoneType' object is not subscriptable"
     ]
    }
   ],
   "source": [
    "(df['invoice_id'].isnull()).sum()\n",
    "df.loc[df['invoice_id'].isnull(),:]"
   ]
  },
  {
   "cell_type": "code",
   "execution_count": 225,
   "metadata": {},
   "outputs": [],
   "source": [
    "df['anamoly_date'] = np.where(df['due_in_date'] < df['document_create_date.1'],1,0)\n",
    "df['anamoly_date_1'] = np.where((df['clear_date'] < df['baseline_create_date']),1,0)\n",
    "#df.loc[df['anamoly_date']==1,:]"
   ]
  },
  {
   "cell_type": "code",
   "execution_count": 226,
   "metadata": {},
   "outputs": [
    {
     "data": {
      "text/html": [
       "<div>\n",
       "<style scoped>\n",
       "    .dataframe tbody tr th:only-of-type {\n",
       "        vertical-align: middle;\n",
       "    }\n",
       "\n",
       "    .dataframe tbody tr th {\n",
       "        vertical-align: top;\n",
       "    }\n",
       "\n",
       "    .dataframe thead th {\n",
       "        text-align: right;\n",
       "    }\n",
       "</style>\n",
       "<table border=\"1\" class=\"dataframe\">\n",
       "  <thead>\n",
       "    <tr style=\"text-align: right;\">\n",
       "      <th></th>\n",
       "      <th>business_code</th>\n",
       "      <th>cust_number</th>\n",
       "      <th>name_customer</th>\n",
       "      <th>clear_date</th>\n",
       "      <th>doc_id</th>\n",
       "      <th>posting_date</th>\n",
       "      <th>document_create_date</th>\n",
       "      <th>document_create_date.1</th>\n",
       "      <th>due_in_date</th>\n",
       "      <th>total_open_amount</th>\n",
       "      <th>baseline_create_date</th>\n",
       "      <th>cust_payment_terms</th>\n",
       "      <th>invoice_id</th>\n",
       "      <th>isOpen</th>\n",
       "      <th>invoice_currency_numeric</th>\n",
       "      <th>business_year</th>\n",
       "      <th>anamoly_date</th>\n",
       "      <th>anamoly_date_1</th>\n",
       "    </tr>\n",
       "  </thead>\n",
       "  <tbody>\n",
       "    <tr>\n",
       "      <th>972</th>\n",
       "      <td>U001</td>\n",
       "      <td>0200803720</td>\n",
       "      <td>DEC</td>\n",
       "      <td>2019-05-25</td>\n",
       "      <td>1.929379e+09</td>\n",
       "      <td>2019-05-25</td>\n",
       "      <td>2019-05-25</td>\n",
       "      <td>2019-05-25</td>\n",
       "      <td>2019-05-23</td>\n",
       "      <td>297.80</td>\n",
       "      <td>2019-05-16</td>\n",
       "      <td>NAM1</td>\n",
       "      <td>1.929379e+09</td>\n",
       "      <td>0</td>\n",
       "      <td>1</td>\n",
       "      <td>2019</td>\n",
       "      <td>1</td>\n",
       "      <td>0</td>\n",
       "    </tr>\n",
       "    <tr>\n",
       "      <th>1278</th>\n",
       "      <td>U001</td>\n",
       "      <td>0200353024</td>\n",
       "      <td>DECA in</td>\n",
       "      <td>2020-01-27</td>\n",
       "      <td>1.930444e+09</td>\n",
       "      <td>2020-01-27</td>\n",
       "      <td>2020-01-27</td>\n",
       "      <td>2020-01-27</td>\n",
       "      <td>2020-01-26</td>\n",
       "      <td>27921.27</td>\n",
       "      <td>2020-01-16</td>\n",
       "      <td>NAM2</td>\n",
       "      <td>1.930444e+09</td>\n",
       "      <td>0</td>\n",
       "      <td>1</td>\n",
       "      <td>2020</td>\n",
       "      <td>1</td>\n",
       "      <td>0</td>\n",
       "    </tr>\n",
       "    <tr>\n",
       "      <th>1621</th>\n",
       "      <td>U001</td>\n",
       "      <td>0200353024</td>\n",
       "      <td>DECA associates</td>\n",
       "      <td>2020-01-27</td>\n",
       "      <td>1.930444e+09</td>\n",
       "      <td>2020-01-27</td>\n",
       "      <td>2020-01-27</td>\n",
       "      <td>2020-01-27</td>\n",
       "      <td>2020-01-23</td>\n",
       "      <td>29563.52</td>\n",
       "      <td>2020-01-16</td>\n",
       "      <td>NAM1</td>\n",
       "      <td>1.930444e+09</td>\n",
       "      <td>0</td>\n",
       "      <td>1</td>\n",
       "      <td>2020</td>\n",
       "      <td>1</td>\n",
       "      <td>0</td>\n",
       "    </tr>\n",
       "    <tr>\n",
       "      <th>1660</th>\n",
       "      <td>CA02</td>\n",
       "      <td>0140104409</td>\n",
       "      <td>LOB systems</td>\n",
       "      <td>2019-02-21</td>\n",
       "      <td>2.960529e+09</td>\n",
       "      <td>2019-02-15</td>\n",
       "      <td>2019-02-15</td>\n",
       "      <td>2019-02-15</td>\n",
       "      <td>2019-01-25</td>\n",
       "      <td>1751.04</td>\n",
       "      <td>2019-01-15</td>\n",
       "      <td>CA10</td>\n",
       "      <td>2.960529e+09</td>\n",
       "      <td>0</td>\n",
       "      <td>0</td>\n",
       "      <td>2019</td>\n",
       "      <td>1</td>\n",
       "      <td>0</td>\n",
       "    </tr>\n",
       "    <tr>\n",
       "      <th>1801</th>\n",
       "      <td>U001</td>\n",
       "      <td>0200353024</td>\n",
       "      <td>DECA corporation</td>\n",
       "      <td>2019-05-13</td>\n",
       "      <td>1.929280e+09</td>\n",
       "      <td>2019-05-08</td>\n",
       "      <td>2019-05-08</td>\n",
       "      <td>2019-05-08</td>\n",
       "      <td>2019-04-24</td>\n",
       "      <td>20.64</td>\n",
       "      <td>2019-04-01</td>\n",
       "      <td>NAM4</td>\n",
       "      <td>1.929280e+09</td>\n",
       "      <td>0</td>\n",
       "      <td>1</td>\n",
       "      <td>2019</td>\n",
       "      <td>1</td>\n",
       "      <td>0</td>\n",
       "    </tr>\n",
       "    <tr>\n",
       "      <th>...</th>\n",
       "      <td>...</td>\n",
       "      <td>...</td>\n",
       "      <td>...</td>\n",
       "      <td>...</td>\n",
       "      <td>...</td>\n",
       "      <td>...</td>\n",
       "      <td>...</td>\n",
       "      <td>...</td>\n",
       "      <td>...</td>\n",
       "      <td>...</td>\n",
       "      <td>...</td>\n",
       "      <td>...</td>\n",
       "      <td>...</td>\n",
       "      <td>...</td>\n",
       "      <td>...</td>\n",
       "      <td>...</td>\n",
       "      <td>...</td>\n",
       "      <td>...</td>\n",
       "    </tr>\n",
       "    <tr>\n",
       "      <th>49178</th>\n",
       "      <td>U001</td>\n",
       "      <td>0200754118</td>\n",
       "      <td>ARMY co</td>\n",
       "      <td>NaT</td>\n",
       "      <td>1.930861e+09</td>\n",
       "      <td>2020-05-06</td>\n",
       "      <td>2020-05-06</td>\n",
       "      <td>2020-05-06</td>\n",
       "      <td>2020-04-16</td>\n",
       "      <td>90.05</td>\n",
       "      <td>2020-04-01</td>\n",
       "      <td>NAM3</td>\n",
       "      <td>1.930861e+09</td>\n",
       "      <td>1</td>\n",
       "      <td>1</td>\n",
       "      <td>2020</td>\n",
       "      <td>1</td>\n",
       "      <td>0</td>\n",
       "    </tr>\n",
       "    <tr>\n",
       "      <th>49464</th>\n",
       "      <td>U001</td>\n",
       "      <td>0200230690</td>\n",
       "      <td>DECA foundation</td>\n",
       "      <td>NaT</td>\n",
       "      <td>1.930789e+09</td>\n",
       "      <td>2020-04-15</td>\n",
       "      <td>2020-04-15</td>\n",
       "      <td>2020-04-15</td>\n",
       "      <td>2020-04-08</td>\n",
       "      <td>1281.62</td>\n",
       "      <td>2020-03-16</td>\n",
       "      <td>NAM4</td>\n",
       "      <td>1.930789e+09</td>\n",
       "      <td>1</td>\n",
       "      <td>1</td>\n",
       "      <td>2020</td>\n",
       "      <td>1</td>\n",
       "      <td>0</td>\n",
       "    </tr>\n",
       "    <tr>\n",
       "      <th>49567</th>\n",
       "      <td>U001</td>\n",
       "      <td>0200754118</td>\n",
       "      <td>ARMY</td>\n",
       "      <td>NaT</td>\n",
       "      <td>1.930861e+09</td>\n",
       "      <td>2020-05-06</td>\n",
       "      <td>2020-05-06</td>\n",
       "      <td>2020-05-06</td>\n",
       "      <td>2020-04-16</td>\n",
       "      <td>391.79</td>\n",
       "      <td>2020-04-01</td>\n",
       "      <td>NAM3</td>\n",
       "      <td>1.930861e+09</td>\n",
       "      <td>1</td>\n",
       "      <td>1</td>\n",
       "      <td>2020</td>\n",
       "      <td>1</td>\n",
       "      <td>0</td>\n",
       "    </tr>\n",
       "    <tr>\n",
       "      <th>49703</th>\n",
       "      <td>U001</td>\n",
       "      <td>0200754118</td>\n",
       "      <td>ARMY corporation</td>\n",
       "      <td>NaT</td>\n",
       "      <td>1.930861e+09</td>\n",
       "      <td>2020-05-06</td>\n",
       "      <td>2020-05-06</td>\n",
       "      <td>2020-05-06</td>\n",
       "      <td>2020-04-16</td>\n",
       "      <td>223.33</td>\n",
       "      <td>2020-04-01</td>\n",
       "      <td>NAM3</td>\n",
       "      <td>1.930861e+09</td>\n",
       "      <td>1</td>\n",
       "      <td>1</td>\n",
       "      <td>2020</td>\n",
       "      <td>1</td>\n",
       "      <td>0</td>\n",
       "    </tr>\n",
       "    <tr>\n",
       "      <th>49983</th>\n",
       "      <td>U001</td>\n",
       "      <td>0200020431</td>\n",
       "      <td>DEC in</td>\n",
       "      <td>NaT</td>\n",
       "      <td>1.930765e+09</td>\n",
       "      <td>2020-04-09</td>\n",
       "      <td>2020-04-09</td>\n",
       "      <td>2020-04-09</td>\n",
       "      <td>2020-04-08</td>\n",
       "      <td>11049.92</td>\n",
       "      <td>2020-04-01</td>\n",
       "      <td>NAM1</td>\n",
       "      <td>1.930765e+09</td>\n",
       "      <td>1</td>\n",
       "      <td>1</td>\n",
       "      <td>2020</td>\n",
       "      <td>1</td>\n",
       "      <td>0</td>\n",
       "    </tr>\n",
       "  </tbody>\n",
       "</table>\n",
       "<p>133 rows × 18 columns</p>\n",
       "</div>"
      ],
      "text/plain": [
       "      business_code cust_number     name_customer clear_date        doc_id  \\\n",
       "972            U001  0200803720              DEC  2019-05-25  1.929379e+09   \n",
       "1278           U001  0200353024           DECA in 2020-01-27  1.930444e+09   \n",
       "1621           U001  0200353024   DECA associates 2020-01-27  1.930444e+09   \n",
       "1660           CA02  0140104409       LOB systems 2019-02-21  2.960529e+09   \n",
       "1801           U001  0200353024  DECA corporation 2019-05-13  1.929280e+09   \n",
       "...             ...         ...               ...        ...           ...   \n",
       "49178          U001  0200754118           ARMY co        NaT  1.930861e+09   \n",
       "49464          U001  0200230690   DECA foundation        NaT  1.930789e+09   \n",
       "49567          U001  0200754118             ARMY         NaT  1.930861e+09   \n",
       "49703          U001  0200754118  ARMY corporation        NaT  1.930861e+09   \n",
       "49983          U001  0200020431            DEC in        NaT  1.930765e+09   \n",
       "\n",
       "      posting_date document_create_date document_create_date.1 due_in_date  \\\n",
       "972     2019-05-25           2019-05-25             2019-05-25  2019-05-23   \n",
       "1278    2020-01-27           2020-01-27             2020-01-27  2020-01-26   \n",
       "1621    2020-01-27           2020-01-27             2020-01-27  2020-01-23   \n",
       "1660    2019-02-15           2019-02-15             2019-02-15  2019-01-25   \n",
       "1801    2019-05-08           2019-05-08             2019-05-08  2019-04-24   \n",
       "...            ...                  ...                    ...         ...   \n",
       "49178   2020-05-06           2020-05-06             2020-05-06  2020-04-16   \n",
       "49464   2020-04-15           2020-04-15             2020-04-15  2020-04-08   \n",
       "49567   2020-05-06           2020-05-06             2020-05-06  2020-04-16   \n",
       "49703   2020-05-06           2020-05-06             2020-05-06  2020-04-16   \n",
       "49983   2020-04-09           2020-04-09             2020-04-09  2020-04-08   \n",
       "\n",
       "       total_open_amount baseline_create_date cust_payment_terms  \\\n",
       "972               297.80           2019-05-16               NAM1   \n",
       "1278            27921.27           2020-01-16               NAM2   \n",
       "1621            29563.52           2020-01-16               NAM1   \n",
       "1660             1751.04           2019-01-15               CA10   \n",
       "1801               20.64           2019-04-01               NAM4   \n",
       "...                  ...                  ...                ...   \n",
       "49178              90.05           2020-04-01               NAM3   \n",
       "49464            1281.62           2020-03-16               NAM4   \n",
       "49567             391.79           2020-04-01               NAM3   \n",
       "49703             223.33           2020-04-01               NAM3   \n",
       "49983           11049.92           2020-04-01               NAM1   \n",
       "\n",
       "         invoice_id  isOpen  invoice_currency_numeric  business_year  \\\n",
       "972    1.929379e+09       0                         1           2019   \n",
       "1278   1.930444e+09       0                         1           2020   \n",
       "1621   1.930444e+09       0                         1           2020   \n",
       "1660   2.960529e+09       0                         0           2019   \n",
       "1801   1.929280e+09       0                         1           2019   \n",
       "...             ...     ...                       ...            ...   \n",
       "49178  1.930861e+09       1                         1           2020   \n",
       "49464  1.930789e+09       1                         1           2020   \n",
       "49567  1.930861e+09       1                         1           2020   \n",
       "49703  1.930861e+09       1                         1           2020   \n",
       "49983  1.930765e+09       1                         1           2020   \n",
       "\n",
       "       anamoly_date  anamoly_date_1  \n",
       "972               1               0  \n",
       "1278              1               0  \n",
       "1621              1               0  \n",
       "1660              1               0  \n",
       "1801              1               0  \n",
       "...             ...             ...  \n",
       "49178             1               0  \n",
       "49464             1               0  \n",
       "49567             1               0  \n",
       "49703             1               0  \n",
       "49983             1               0  \n",
       "\n",
       "[133 rows x 18 columns]"
      ]
     },
     "execution_count": 226,
     "metadata": {},
     "output_type": "execute_result"
    }
   ],
   "source": [
    "df.loc[df['anamoly_date']==1,:]"
   ]
  },
  {
   "cell_type": "code",
   "execution_count": 228,
   "metadata": {},
   "outputs": [],
   "source": [
    "#df= df.drop(df[df['anamoly_date_1'] == 1].index,inplace=True)"
   ]
  },
  {
   "cell_type": "code",
   "execution_count": null,
   "metadata": {},
   "outputs": [],
   "source": [
    "#df= df.drop(df[df['anamoly_date'] == 1].index,inplace=True)"
   ]
  },
  {
   "cell_type": "code",
   "execution_count": 288,
   "metadata": {},
   "outputs": [
    {
     "data": {
      "text/plain": [
       "0"
      ]
     },
     "execution_count": 288,
     "metadata": {},
     "output_type": "execute_result"
    }
   ],
   "source": [
    "(df['total_open_amount'] < 0).sum()"
   ]
  },
  {
   "cell_type": "code",
   "execution_count": 324,
   "metadata": {},
   "outputs": [
    {
     "data": {
      "text/plain": [
       "cust_number                                 object\n",
       "name_customer                               object\n",
       "clear_date                          datetime64[ns]\n",
       "doc_id                                     float64\n",
       "posting_date                        datetime64[ns]\n",
       "document_create_date                datetime64[ns]\n",
       "document_create_date.1              datetime64[ns]\n",
       "due_in_date                         datetime64[ns]\n",
       "total_open_amount                          float64\n",
       "baseline_create_date                datetime64[ns]\n",
       "cust_payment_terms                          object\n",
       "invoice_id                                 float64\n",
       "isOpen                                       int64\n",
       "baseline_create_date_year                    int64\n",
       "baseline_create_date_month                   int64\n",
       "baseline_create_date_day                     int64\n",
       "baseline_create_date_quarter                 int64\n",
       "baseline_create_date_day_of_week             int64\n",
       "baseline_create_date_isWeekand               int32\n",
       "CA02                                       float64\n",
       "U001                                       float64\n",
       "U002                                       float64\n",
       "U005                                       float64\n",
       "U007                                       float64\n",
       "U013                                       float64\n",
       "invoice_currency_numeric                     int32\n",
       "due_in_date_day                              int64\n",
       "clear_date_day                             float64\n",
       "dtype: object"
      ]
     },
     "execution_count": 324,
     "metadata": {},
     "output_type": "execute_result"
    }
   ],
   "source": [
    "df.dtypes"
   ]
  },
  {
   "cell_type": "code",
   "execution_count": 321,
   "metadata": {},
   "outputs": [
    {
     "data": {
      "text/html": [
       "<style  type=\"text/css\" >\n",
       "#T_70080bdf_6359_11eb_99c9_7c2a31444de0row0_col0,#T_70080bdf_6359_11eb_99c9_7c2a31444de0row1_col1,#T_70080bdf_6359_11eb_99c9_7c2a31444de0row2_col2,#T_70080bdf_6359_11eb_99c9_7c2a31444de0row3_col3,#T_70080bdf_6359_11eb_99c9_7c2a31444de0row4_col4{\n",
       "            background-color:  #b40426;\n",
       "            color:  #f1f1f1;\n",
       "        }#T_70080bdf_6359_11eb_99c9_7c2a31444de0row0_col1,#T_70080bdf_6359_11eb_99c9_7c2a31444de0row1_col0{\n",
       "            background-color:  #e67259;\n",
       "            color:  #000000;\n",
       "        }#T_70080bdf_6359_11eb_99c9_7c2a31444de0row0_col2{\n",
       "            background-color:  #de614d;\n",
       "            color:  #000000;\n",
       "        }#T_70080bdf_6359_11eb_99c9_7c2a31444de0row0_col3,#T_70080bdf_6359_11eb_99c9_7c2a31444de0row0_col4,#T_70080bdf_6359_11eb_99c9_7c2a31444de0row2_col4,#T_70080bdf_6359_11eb_99c9_7c2a31444de0row3_col0,#T_70080bdf_6359_11eb_99c9_7c2a31444de0row3_col1,#T_70080bdf_6359_11eb_99c9_7c2a31444de0row3_col2{\n",
       "            background-color:  #3b4cc0;\n",
       "            color:  #f1f1f1;\n",
       "        }#T_70080bdf_6359_11eb_99c9_7c2a31444de0row1_col2,#T_70080bdf_6359_11eb_99c9_7c2a31444de0row2_col1{\n",
       "            background-color:  #c12b30;\n",
       "            color:  #f1f1f1;\n",
       "        }#T_70080bdf_6359_11eb_99c9_7c2a31444de0row1_col3,#T_70080bdf_6359_11eb_99c9_7c2a31444de0row1_col4{\n",
       "            background-color:  #3d50c3;\n",
       "            color:  #f1f1f1;\n",
       "        }#T_70080bdf_6359_11eb_99c9_7c2a31444de0row2_col0{\n",
       "            background-color:  #dd5f4b;\n",
       "            color:  #000000;\n",
       "        }#T_70080bdf_6359_11eb_99c9_7c2a31444de0row2_col3{\n",
       "            background-color:  #3c4ec2;\n",
       "            color:  #f1f1f1;\n",
       "        }#T_70080bdf_6359_11eb_99c9_7c2a31444de0row3_col4{\n",
       "            background-color:  #f7ba9f;\n",
       "            color:  #000000;\n",
       "        }#T_70080bdf_6359_11eb_99c9_7c2a31444de0row4_col0,#T_70080bdf_6359_11eb_99c9_7c2a31444de0row4_col1{\n",
       "            background-color:  #445acc;\n",
       "            color:  #f1f1f1;\n",
       "        }#T_70080bdf_6359_11eb_99c9_7c2a31444de0row4_col2{\n",
       "            background-color:  #4257c9;\n",
       "            color:  #f1f1f1;\n",
       "        }#T_70080bdf_6359_11eb_99c9_7c2a31444de0row4_col3{\n",
       "            background-color:  #f7b89c;\n",
       "            color:  #000000;\n",
       "        }</style><table id=\"T_70080bdf_6359_11eb_99c9_7c2a31444de0\" ><thead>    <tr>        <th class=\"blank level0\" ></th>        <th class=\"col_heading level0 col0\" >document_create_date_day</th>        <th class=\"col_heading level0 col1\" >baseline_create_date_day</th>        <th class=\"col_heading level0 col2\" >document_create_date.1_day</th>        <th class=\"col_heading level0 col3\" >due_in_date_day</th>        <th class=\"col_heading level0 col4\" >clear_date_day</th>    </tr></thead><tbody>\n",
       "                <tr>\n",
       "                        <th id=\"T_70080bdf_6359_11eb_99c9_7c2a31444de0level0_row0\" class=\"row_heading level0 row0\" >document_create_date_day</th>\n",
       "                        <td id=\"T_70080bdf_6359_11eb_99c9_7c2a31444de0row0_col0\" class=\"data row0 col0\" >1.00</td>\n",
       "                        <td id=\"T_70080bdf_6359_11eb_99c9_7c2a31444de0row0_col1\" class=\"data row0 col1\" >0.78</td>\n",
       "                        <td id=\"T_70080bdf_6359_11eb_99c9_7c2a31444de0row0_col2\" class=\"data row0 col2\" >0.83</td>\n",
       "                        <td id=\"T_70080bdf_6359_11eb_99c9_7c2a31444de0row0_col3\" class=\"data row0 col3\" >-0.39</td>\n",
       "                        <td id=\"T_70080bdf_6359_11eb_99c9_7c2a31444de0row0_col4\" class=\"data row0 col4\" >-0.34</td>\n",
       "            </tr>\n",
       "            <tr>\n",
       "                        <th id=\"T_70080bdf_6359_11eb_99c9_7c2a31444de0level0_row1\" class=\"row_heading level0 row1\" >baseline_create_date_day</th>\n",
       "                        <td id=\"T_70080bdf_6359_11eb_99c9_7c2a31444de0row1_col0\" class=\"data row1 col0\" >0.78</td>\n",
       "                        <td id=\"T_70080bdf_6359_11eb_99c9_7c2a31444de0row1_col1\" class=\"data row1 col1\" >1.00</td>\n",
       "                        <td id=\"T_70080bdf_6359_11eb_99c9_7c2a31444de0row1_col2\" class=\"data row1 col2\" >0.95</td>\n",
       "                        <td id=\"T_70080bdf_6359_11eb_99c9_7c2a31444de0row1_col3\" class=\"data row1 col3\" >-0.37</td>\n",
       "                        <td id=\"T_70080bdf_6359_11eb_99c9_7c2a31444de0row1_col4\" class=\"data row1 col4\" >-0.33</td>\n",
       "            </tr>\n",
       "            <tr>\n",
       "                        <th id=\"T_70080bdf_6359_11eb_99c9_7c2a31444de0level0_row2\" class=\"row_heading level0 row2\" >document_create_date.1_day</th>\n",
       "                        <td id=\"T_70080bdf_6359_11eb_99c9_7c2a31444de0row2_col0\" class=\"data row2 col0\" >0.83</td>\n",
       "                        <td id=\"T_70080bdf_6359_11eb_99c9_7c2a31444de0row2_col1\" class=\"data row2 col1\" >0.95</td>\n",
       "                        <td id=\"T_70080bdf_6359_11eb_99c9_7c2a31444de0row2_col2\" class=\"data row2 col2\" >1.00</td>\n",
       "                        <td id=\"T_70080bdf_6359_11eb_99c9_7c2a31444de0row2_col3\" class=\"data row2 col3\" >-0.38</td>\n",
       "                        <td id=\"T_70080bdf_6359_11eb_99c9_7c2a31444de0row2_col4\" class=\"data row2 col4\" >-0.34</td>\n",
       "            </tr>\n",
       "            <tr>\n",
       "                        <th id=\"T_70080bdf_6359_11eb_99c9_7c2a31444de0level0_row3\" class=\"row_heading level0 row3\" >due_in_date_day</th>\n",
       "                        <td id=\"T_70080bdf_6359_11eb_99c9_7c2a31444de0row3_col0\" class=\"data row3 col0\" >-0.39</td>\n",
       "                        <td id=\"T_70080bdf_6359_11eb_99c9_7c2a31444de0row3_col1\" class=\"data row3 col1\" >-0.37</td>\n",
       "                        <td id=\"T_70080bdf_6359_11eb_99c9_7c2a31444de0row3_col2\" class=\"data row3 col2\" >-0.38</td>\n",
       "                        <td id=\"T_70080bdf_6359_11eb_99c9_7c2a31444de0row3_col3\" class=\"data row3 col3\" >1.00</td>\n",
       "                        <td id=\"T_70080bdf_6359_11eb_99c9_7c2a31444de0row3_col4\" class=\"data row3 col4\" >0.54</td>\n",
       "            </tr>\n",
       "            <tr>\n",
       "                        <th id=\"T_70080bdf_6359_11eb_99c9_7c2a31444de0level0_row4\" class=\"row_heading level0 row4\" >clear_date_day</th>\n",
       "                        <td id=\"T_70080bdf_6359_11eb_99c9_7c2a31444de0row4_col0\" class=\"data row4 col0\" >-0.34</td>\n",
       "                        <td id=\"T_70080bdf_6359_11eb_99c9_7c2a31444de0row4_col1\" class=\"data row4 col1\" >-0.33</td>\n",
       "                        <td id=\"T_70080bdf_6359_11eb_99c9_7c2a31444de0row4_col2\" class=\"data row4 col2\" >-0.34</td>\n",
       "                        <td id=\"T_70080bdf_6359_11eb_99c9_7c2a31444de0row4_col3\" class=\"data row4 col3\" >0.54</td>\n",
       "                        <td id=\"T_70080bdf_6359_11eb_99c9_7c2a31444de0row4_col4\" class=\"data row4 col4\" >1.00</td>\n",
       "            </tr>\n",
       "    </tbody></table>"
      ],
      "text/plain": [
       "<pandas.io.formats.style.Styler at 0x1770bb8a250>"
      ]
     },
     "execution_count": 321,
     "metadata": {},
     "output_type": "execute_result"
    }
   ],
   "source": [
    "corr = df[['document_create_date_day','baseline_create_date_day','document_create_date.1_day','due_in_date_day','clear_date_day']].corr()\n",
    "corr.style.background_gradient(cmap='coolwarm').set_precision(2)"
   ]
  },
  {
   "cell_type": "code",
   "execution_count": 323,
   "metadata": {},
   "outputs": [],
   "source": [
    "#dropping columns\n",
    "df.drop(['document_create_date_day','document_create_date.1_day'] , axis=1, inplace= True)"
   ]
  },
  {
   "cell_type": "code",
   "execution_count": 319,
   "metadata": {},
   "outputs": [
    {
     "data": {
      "text/html": [
       "<style  type=\"text/css\" >\n",
       "#T_190dd22f_6359_11eb_80a1_7c2a31444de0row0_col0,#T_190dd22f_6359_11eb_80a1_7c2a31444de0row1_col1,#T_190dd22f_6359_11eb_80a1_7c2a31444de0row2_col2,#T_190dd22f_6359_11eb_80a1_7c2a31444de0row3_col3,#T_190dd22f_6359_11eb_80a1_7c2a31444de0row4_col4{\n",
       "            background-color:  #b40426;\n",
       "            color:  #f1f1f1;\n",
       "        }#T_190dd22f_6359_11eb_80a1_7c2a31444de0row0_col1{\n",
       "            background-color:  #f7a98b;\n",
       "            color:  #000000;\n",
       "        }#T_190dd22f_6359_11eb_80a1_7c2a31444de0row0_col2{\n",
       "            background-color:  #f59c7d;\n",
       "            color:  #000000;\n",
       "        }#T_190dd22f_6359_11eb_80a1_7c2a31444de0row0_col3,#T_190dd22f_6359_11eb_80a1_7c2a31444de0row0_col4,#T_190dd22f_6359_11eb_80a1_7c2a31444de0row3_col0,#T_190dd22f_6359_11eb_80a1_7c2a31444de0row3_col1,#T_190dd22f_6359_11eb_80a1_7c2a31444de0row3_col2{\n",
       "            background-color:  #3b4cc0;\n",
       "            color:  #f1f1f1;\n",
       "        }#T_190dd22f_6359_11eb_80a1_7c2a31444de0row1_col0{\n",
       "            background-color:  #f29274;\n",
       "            color:  #000000;\n",
       "        }#T_190dd22f_6359_11eb_80a1_7c2a31444de0row1_col2,#T_190dd22f_6359_11eb_80a1_7c2a31444de0row2_col1{\n",
       "            background-color:  #be242e;\n",
       "            color:  #f1f1f1;\n",
       "        }#T_190dd22f_6359_11eb_80a1_7c2a31444de0row1_col3{\n",
       "            background-color:  #7b9ff9;\n",
       "            color:  #000000;\n",
       "        }#T_190dd22f_6359_11eb_80a1_7c2a31444de0row1_col4{\n",
       "            background-color:  #8fb1fe;\n",
       "            color:  #000000;\n",
       "        }#T_190dd22f_6359_11eb_80a1_7c2a31444de0row2_col0{\n",
       "            background-color:  #ef886b;\n",
       "            color:  #000000;\n",
       "        }#T_190dd22f_6359_11eb_80a1_7c2a31444de0row2_col3{\n",
       "            background-color:  #7699f6;\n",
       "            color:  #000000;\n",
       "        }#T_190dd22f_6359_11eb_80a1_7c2a31444de0row2_col4{\n",
       "            background-color:  #8badfd;\n",
       "            color:  #000000;\n",
       "        }#T_190dd22f_6359_11eb_80a1_7c2a31444de0row3_col4{\n",
       "            background-color:  #f1cdba;\n",
       "            color:  #000000;\n",
       "        }#T_190dd22f_6359_11eb_80a1_7c2a31444de0row4_col0{\n",
       "            background-color:  #7ea1fa;\n",
       "            color:  #000000;\n",
       "        }#T_190dd22f_6359_11eb_80a1_7c2a31444de0row4_col1,#T_190dd22f_6359_11eb_80a1_7c2a31444de0row4_col2{\n",
       "            background-color:  #92b4fe;\n",
       "            color:  #000000;\n",
       "        }#T_190dd22f_6359_11eb_80a1_7c2a31444de0row4_col3{\n",
       "            background-color:  #f7b599;\n",
       "            color:  #000000;\n",
       "        }</style><table id=\"T_190dd22f_6359_11eb_80a1_7c2a31444de0\" ><thead>    <tr>        <th class=\"blank level0\" ></th>        <th class=\"col_heading level0 col0\" >document_create_date_month</th>        <th class=\"col_heading level0 col1\" >baseline_create_date_month</th>        <th class=\"col_heading level0 col2\" >document_create_date.1_month</th>        <th class=\"col_heading level0 col3\" >due_in_date_month</th>        <th class=\"col_heading level0 col4\" >clear_date_month</th>    </tr></thead><tbody>\n",
       "                <tr>\n",
       "                        <th id=\"T_190dd22f_6359_11eb_80a1_7c2a31444de0level0_row0\" class=\"row_heading level0 row0\" >document_create_date_month</th>\n",
       "                        <td id=\"T_190dd22f_6359_11eb_80a1_7c2a31444de0row0_col0\" class=\"data row0 col0\" >1.00</td>\n",
       "                        <td id=\"T_190dd22f_6359_11eb_80a1_7c2a31444de0row0_col1\" class=\"data row0 col1\" >0.98</td>\n",
       "                        <td id=\"T_190dd22f_6359_11eb_80a1_7c2a31444de0row0_col2\" class=\"data row0 col2\" >0.98</td>\n",
       "                        <td id=\"T_190dd22f_6359_11eb_80a1_7c2a31444de0row0_col3\" class=\"data row0 col3\" >0.90</td>\n",
       "                        <td id=\"T_190dd22f_6359_11eb_80a1_7c2a31444de0row0_col4\" class=\"data row0 col4\" >0.92</td>\n",
       "            </tr>\n",
       "            <tr>\n",
       "                        <th id=\"T_190dd22f_6359_11eb_80a1_7c2a31444de0level0_row1\" class=\"row_heading level0 row1\" >baseline_create_date_month</th>\n",
       "                        <td id=\"T_190dd22f_6359_11eb_80a1_7c2a31444de0row1_col0\" class=\"data row1 col0\" >0.98</td>\n",
       "                        <td id=\"T_190dd22f_6359_11eb_80a1_7c2a31444de0row1_col1\" class=\"data row1 col1\" >1.00</td>\n",
       "                        <td id=\"T_190dd22f_6359_11eb_80a1_7c2a31444de0row1_col2\" class=\"data row1 col2\" >1.00</td>\n",
       "                        <td id=\"T_190dd22f_6359_11eb_80a1_7c2a31444de0row1_col3\" class=\"data row1 col3\" >0.92</td>\n",
       "                        <td id=\"T_190dd22f_6359_11eb_80a1_7c2a31444de0row1_col4\" class=\"data row1 col4\" >0.94</td>\n",
       "            </tr>\n",
       "            <tr>\n",
       "                        <th id=\"T_190dd22f_6359_11eb_80a1_7c2a31444de0level0_row2\" class=\"row_heading level0 row2\" >document_create_date.1_month</th>\n",
       "                        <td id=\"T_190dd22f_6359_11eb_80a1_7c2a31444de0row2_col0\" class=\"data row2 col0\" >0.98</td>\n",
       "                        <td id=\"T_190dd22f_6359_11eb_80a1_7c2a31444de0row2_col1\" class=\"data row2 col1\" >1.00</td>\n",
       "                        <td id=\"T_190dd22f_6359_11eb_80a1_7c2a31444de0row2_col2\" class=\"data row2 col2\" >1.00</td>\n",
       "                        <td id=\"T_190dd22f_6359_11eb_80a1_7c2a31444de0row2_col3\" class=\"data row2 col3\" >0.92</td>\n",
       "                        <td id=\"T_190dd22f_6359_11eb_80a1_7c2a31444de0row2_col4\" class=\"data row2 col4\" >0.94</td>\n",
       "            </tr>\n",
       "            <tr>\n",
       "                        <th id=\"T_190dd22f_6359_11eb_80a1_7c2a31444de0level0_row3\" class=\"row_heading level0 row3\" >due_in_date_month</th>\n",
       "                        <td id=\"T_190dd22f_6359_11eb_80a1_7c2a31444de0row3_col0\" class=\"data row3 col0\" >0.90</td>\n",
       "                        <td id=\"T_190dd22f_6359_11eb_80a1_7c2a31444de0row3_col1\" class=\"data row3 col1\" >0.92</td>\n",
       "                        <td id=\"T_190dd22f_6359_11eb_80a1_7c2a31444de0row3_col2\" class=\"data row3 col2\" >0.92</td>\n",
       "                        <td id=\"T_190dd22f_6359_11eb_80a1_7c2a31444de0row3_col3\" class=\"data row3 col3\" >1.00</td>\n",
       "                        <td id=\"T_190dd22f_6359_11eb_80a1_7c2a31444de0row3_col4\" class=\"data row3 col4\" >0.97</td>\n",
       "            </tr>\n",
       "            <tr>\n",
       "                        <th id=\"T_190dd22f_6359_11eb_80a1_7c2a31444de0level0_row4\" class=\"row_heading level0 row4\" >clear_date_month</th>\n",
       "                        <td id=\"T_190dd22f_6359_11eb_80a1_7c2a31444de0row4_col0\" class=\"data row4 col0\" >0.92</td>\n",
       "                        <td id=\"T_190dd22f_6359_11eb_80a1_7c2a31444de0row4_col1\" class=\"data row4 col1\" >0.94</td>\n",
       "                        <td id=\"T_190dd22f_6359_11eb_80a1_7c2a31444de0row4_col2\" class=\"data row4 col2\" >0.94</td>\n",
       "                        <td id=\"T_190dd22f_6359_11eb_80a1_7c2a31444de0row4_col3\" class=\"data row4 col3\" >0.97</td>\n",
       "                        <td id=\"T_190dd22f_6359_11eb_80a1_7c2a31444de0row4_col4\" class=\"data row4 col4\" >1.00</td>\n",
       "            </tr>\n",
       "    </tbody></table>"
      ],
      "text/plain": [
       "<pandas.io.formats.style.Styler at 0x1770bb8a0d0>"
      ]
     },
     "execution_count": 319,
     "metadata": {},
     "output_type": "execute_result"
    }
   ],
   "source": [
    "corr = df[['document_create_date_month','baseline_create_date_month','document_create_date.1_month','due_in_date_month','clear_date_month']].corr()\n",
    "corr.style.background_gradient(cmap='coolwarm').set_precision(2)"
   ]
  },
  {
   "cell_type": "code",
   "execution_count": 320,
   "metadata": {},
   "outputs": [],
   "source": [
    "#dropping columns\n",
    "df.drop(['document_create_date_month','document_create_date.1_month','due_in_date_month','clear_date_month'] , axis=1, inplace= True)"
   ]
  },
  {
   "cell_type": "code",
   "execution_count": 312,
   "metadata": {},
   "outputs": [
    {
     "data": {
      "text/html": [
       "<style  type=\"text/css\" >\n",
       "#T_a7b282e7_6355_11eb_952e_7c2a31444de0row0_col0,#T_a7b282e7_6355_11eb_952e_7c2a31444de0row0_col5,#T_a7b282e7_6355_11eb_952e_7c2a31444de0row1_col1,#T_a7b282e7_6355_11eb_952e_7c2a31444de0row2_col2,#T_a7b282e7_6355_11eb_952e_7c2a31444de0row3_col3,#T_a7b282e7_6355_11eb_952e_7c2a31444de0row4_col4,#T_a7b282e7_6355_11eb_952e_7c2a31444de0row5_col0,#T_a7b282e7_6355_11eb_952e_7c2a31444de0row5_col5{\n",
       "            background-color:  #b40426;\n",
       "            color:  #f1f1f1;\n",
       "        }#T_a7b282e7_6355_11eb_952e_7c2a31444de0row0_col1,#T_a7b282e7_6355_11eb_952e_7c2a31444de0row0_col2,#T_a7b282e7_6355_11eb_952e_7c2a31444de0row0_col3{\n",
       "            background-color:  #b7cff9;\n",
       "            color:  #000000;\n",
       "        }#T_a7b282e7_6355_11eb_952e_7c2a31444de0row0_col4{\n",
       "            background-color:  #f7b093;\n",
       "            color:  #000000;\n",
       "        }#T_a7b282e7_6355_11eb_952e_7c2a31444de0row1_col0,#T_a7b282e7_6355_11eb_952e_7c2a31444de0row1_col4,#T_a7b282e7_6355_11eb_952e_7c2a31444de0row1_col5,#T_a7b282e7_6355_11eb_952e_7c2a31444de0row4_col3,#T_a7b282e7_6355_11eb_952e_7c2a31444de0row5_col1,#T_a7b282e7_6355_11eb_952e_7c2a31444de0row5_col2,#T_a7b282e7_6355_11eb_952e_7c2a31444de0row5_col3{\n",
       "            background-color:  #3b4cc0;\n",
       "            color:  #f1f1f1;\n",
       "        }#T_a7b282e7_6355_11eb_952e_7c2a31444de0row1_col2{\n",
       "            background-color:  #f5c1a9;\n",
       "            color:  #000000;\n",
       "        }#T_a7b282e7_6355_11eb_952e_7c2a31444de0row1_col3{\n",
       "            background-color:  #f7b599;\n",
       "            color:  #000000;\n",
       "        }#T_a7b282e7_6355_11eb_952e_7c2a31444de0row2_col0,#T_a7b282e7_6355_11eb_952e_7c2a31444de0row2_col5{\n",
       "            background-color:  #a6c4fe;\n",
       "            color:  #000000;\n",
       "        }#T_a7b282e7_6355_11eb_952e_7c2a31444de0row2_col1{\n",
       "            background-color:  #f4987a;\n",
       "            color:  #000000;\n",
       "        }#T_a7b282e7_6355_11eb_952e_7c2a31444de0row2_col3,#T_a7b282e7_6355_11eb_952e_7c2a31444de0row3_col2{\n",
       "            background-color:  #c0282f;\n",
       "            color:  #f1f1f1;\n",
       "        }#T_a7b282e7_6355_11eb_952e_7c2a31444de0row2_col4{\n",
       "            background-color:  #86a9fc;\n",
       "            color:  #000000;\n",
       "        }#T_a7b282e7_6355_11eb_952e_7c2a31444de0row3_col0,#T_a7b282e7_6355_11eb_952e_7c2a31444de0row3_col5{\n",
       "            background-color:  #a2c1ff;\n",
       "            color:  #000000;\n",
       "        }#T_a7b282e7_6355_11eb_952e_7c2a31444de0row3_col1{\n",
       "            background-color:  #f18f71;\n",
       "            color:  #000000;\n",
       "        }#T_a7b282e7_6355_11eb_952e_7c2a31444de0row3_col4{\n",
       "            background-color:  #81a4fb;\n",
       "            color:  #000000;\n",
       "        }#T_a7b282e7_6355_11eb_952e_7c2a31444de0row4_col0{\n",
       "            background-color:  #ecd3c5;\n",
       "            color:  #000000;\n",
       "        }#T_a7b282e7_6355_11eb_952e_7c2a31444de0row4_col1{\n",
       "            background-color:  #5f7fe8;\n",
       "            color:  #000000;\n",
       "        }#T_a7b282e7_6355_11eb_952e_7c2a31444de0row4_col2{\n",
       "            background-color:  #3c4ec2;\n",
       "            color:  #f1f1f1;\n",
       "        }#T_a7b282e7_6355_11eb_952e_7c2a31444de0row4_col5{\n",
       "            background-color:  #edd1c2;\n",
       "            color:  #000000;\n",
       "        }#T_a7b282e7_6355_11eb_952e_7c2a31444de0row5_col4{\n",
       "            background-color:  #e0dbd8;\n",
       "            color:  #000000;\n",
       "        }</style><table id=\"T_a7b282e7_6355_11eb_952e_7c2a31444de0\" ><thead>    <tr>        <th class=\"blank level0\" ></th>        <th class=\"col_heading level0 col0\" >business_year</th>        <th class=\"col_heading level0 col1\" >document_create_date_year</th>        <th class=\"col_heading level0 col2\" >baseline_create_date_year</th>        <th class=\"col_heading level0 col3\" >document_create_date.1_year</th>        <th class=\"col_heading level0 col4\" >due_in_date_year</th>        <th class=\"col_heading level0 col5\" >clear_date_year</th>    </tr></thead><tbody>\n",
       "                <tr>\n",
       "                        <th id=\"T_a7b282e7_6355_11eb_952e_7c2a31444de0level0_row0\" class=\"row_heading level0 row0\" >business_year</th>\n",
       "                        <td id=\"T_a7b282e7_6355_11eb_952e_7c2a31444de0row0_col0\" class=\"data row0 col0\" >1.00</td>\n",
       "                        <td id=\"T_a7b282e7_6355_11eb_952e_7c2a31444de0row0_col1\" class=\"data row0 col1\" >0.97</td>\n",
       "                        <td id=\"T_a7b282e7_6355_11eb_952e_7c2a31444de0row0_col2\" class=\"data row0 col2\" >0.98</td>\n",
       "                        <td id=\"T_a7b282e7_6355_11eb_952e_7c2a31444de0row0_col3\" class=\"data row0 col3\" >0.98</td>\n",
       "                        <td id=\"T_a7b282e7_6355_11eb_952e_7c2a31444de0row0_col4\" class=\"data row0 col4\" >0.99</td>\n",
       "                        <td id=\"T_a7b282e7_6355_11eb_952e_7c2a31444de0row0_col5\" class=\"data row0 col5\" >1.00</td>\n",
       "            </tr>\n",
       "            <tr>\n",
       "                        <th id=\"T_a7b282e7_6355_11eb_952e_7c2a31444de0level0_row1\" class=\"row_heading level0 row1\" >document_create_date_year</th>\n",
       "                        <td id=\"T_a7b282e7_6355_11eb_952e_7c2a31444de0row1_col0\" class=\"data row1 col0\" >0.97</td>\n",
       "                        <td id=\"T_a7b282e7_6355_11eb_952e_7c2a31444de0row1_col1\" class=\"data row1 col1\" >1.00</td>\n",
       "                        <td id=\"T_a7b282e7_6355_11eb_952e_7c2a31444de0row1_col2\" class=\"data row1 col2\" >0.99</td>\n",
       "                        <td id=\"T_a7b282e7_6355_11eb_952e_7c2a31444de0row1_col3\" class=\"data row1 col3\" >0.99</td>\n",
       "                        <td id=\"T_a7b282e7_6355_11eb_952e_7c2a31444de0row1_col4\" class=\"data row1 col4\" >0.96</td>\n",
       "                        <td id=\"T_a7b282e7_6355_11eb_952e_7c2a31444de0row1_col5\" class=\"data row1 col5\" >0.95</td>\n",
       "            </tr>\n",
       "            <tr>\n",
       "                        <th id=\"T_a7b282e7_6355_11eb_952e_7c2a31444de0level0_row2\" class=\"row_heading level0 row2\" >baseline_create_date_year</th>\n",
       "                        <td id=\"T_a7b282e7_6355_11eb_952e_7c2a31444de0row2_col0\" class=\"data row2 col0\" >0.98</td>\n",
       "                        <td id=\"T_a7b282e7_6355_11eb_952e_7c2a31444de0row2_col1\" class=\"data row2 col1\" >0.99</td>\n",
       "                        <td id=\"T_a7b282e7_6355_11eb_952e_7c2a31444de0row2_col2\" class=\"data row2 col2\" >1.00</td>\n",
       "                        <td id=\"T_a7b282e7_6355_11eb_952e_7c2a31444de0row2_col3\" class=\"data row2 col3\" >1.00</td>\n",
       "                        <td id=\"T_a7b282e7_6355_11eb_952e_7c2a31444de0row2_col4\" class=\"data row2 col4\" >0.97</td>\n",
       "                        <td id=\"T_a7b282e7_6355_11eb_952e_7c2a31444de0row2_col5\" class=\"data row2 col5\" >0.97</td>\n",
       "            </tr>\n",
       "            <tr>\n",
       "                        <th id=\"T_a7b282e7_6355_11eb_952e_7c2a31444de0level0_row3\" class=\"row_heading level0 row3\" >document_create_date.1_year</th>\n",
       "                        <td id=\"T_a7b282e7_6355_11eb_952e_7c2a31444de0row3_col0\" class=\"data row3 col0\" >0.98</td>\n",
       "                        <td id=\"T_a7b282e7_6355_11eb_952e_7c2a31444de0row3_col1\" class=\"data row3 col1\" >0.99</td>\n",
       "                        <td id=\"T_a7b282e7_6355_11eb_952e_7c2a31444de0row3_col2\" class=\"data row3 col2\" >1.00</td>\n",
       "                        <td id=\"T_a7b282e7_6355_11eb_952e_7c2a31444de0row3_col3\" class=\"data row3 col3\" >1.00</td>\n",
       "                        <td id=\"T_a7b282e7_6355_11eb_952e_7c2a31444de0row3_col4\" class=\"data row3 col4\" >0.97</td>\n",
       "                        <td id=\"T_a7b282e7_6355_11eb_952e_7c2a31444de0row3_col5\" class=\"data row3 col5\" >0.97</td>\n",
       "            </tr>\n",
       "            <tr>\n",
       "                        <th id=\"T_a7b282e7_6355_11eb_952e_7c2a31444de0level0_row4\" class=\"row_heading level0 row4\" >due_in_date_year</th>\n",
       "                        <td id=\"T_a7b282e7_6355_11eb_952e_7c2a31444de0row4_col0\" class=\"data row4 col0\" >0.99</td>\n",
       "                        <td id=\"T_a7b282e7_6355_11eb_952e_7c2a31444de0row4_col1\" class=\"data row4 col1\" >0.96</td>\n",
       "                        <td id=\"T_a7b282e7_6355_11eb_952e_7c2a31444de0row4_col2\" class=\"data row4 col2\" >0.97</td>\n",
       "                        <td id=\"T_a7b282e7_6355_11eb_952e_7c2a31444de0row4_col3\" class=\"data row4 col3\" >0.97</td>\n",
       "                        <td id=\"T_a7b282e7_6355_11eb_952e_7c2a31444de0row4_col4\" class=\"data row4 col4\" >1.00</td>\n",
       "                        <td id=\"T_a7b282e7_6355_11eb_952e_7c2a31444de0row4_col5\" class=\"data row4 col5\" >0.98</td>\n",
       "            </tr>\n",
       "            <tr>\n",
       "                        <th id=\"T_a7b282e7_6355_11eb_952e_7c2a31444de0level0_row5\" class=\"row_heading level0 row5\" >clear_date_year</th>\n",
       "                        <td id=\"T_a7b282e7_6355_11eb_952e_7c2a31444de0row5_col0\" class=\"data row5 col0\" >1.00</td>\n",
       "                        <td id=\"T_a7b282e7_6355_11eb_952e_7c2a31444de0row5_col1\" class=\"data row5 col1\" >0.95</td>\n",
       "                        <td id=\"T_a7b282e7_6355_11eb_952e_7c2a31444de0row5_col2\" class=\"data row5 col2\" >0.97</td>\n",
       "                        <td id=\"T_a7b282e7_6355_11eb_952e_7c2a31444de0row5_col3\" class=\"data row5 col3\" >0.97</td>\n",
       "                        <td id=\"T_a7b282e7_6355_11eb_952e_7c2a31444de0row5_col4\" class=\"data row5 col4\" >0.98</td>\n",
       "                        <td id=\"T_a7b282e7_6355_11eb_952e_7c2a31444de0row5_col5\" class=\"data row5 col5\" >1.00</td>\n",
       "            </tr>\n",
       "    </tbody></table>"
      ],
      "text/plain": [
       "<pandas.io.formats.style.Styler at 0x17703212df0>"
      ]
     },
     "execution_count": 312,
     "metadata": {},
     "output_type": "execute_result"
    }
   ],
   "source": [
    "corr = df[['business_year','document_create_date_year','baseline_create_date_year','document_create_date.1_year','due_in_date_year','clear_date_year']].corr()\n",
    "corr.style.background_gradient(cmap='coolwarm').set_precision(2)"
   ]
  },
  {
   "cell_type": "code",
   "execution_count": 318,
   "metadata": {},
   "outputs": [],
   "source": [
    "#dropping columns\n",
    "df.drop(['business_year','document_create_date_year','due_in_date_year','clear_date_year','document_create_date.1_year'] , axis=1, inplace= True)"
   ]
  },
  {
   "cell_type": "code",
   "execution_count": 325,
   "metadata": {},
   "outputs": [],
   "source": [
    "#dropping columns\n",
    "df.drop(['document_create_date','document_create_date.1','posting_date'] , axis=1, inplace= True)"
   ]
  },
  {
   "cell_type": "code",
   "execution_count": 370,
   "metadata": {},
   "outputs": [
    {
     "data": {
      "text/plain": [
       "cust_number                                 object\n",
       "name_customer                               object\n",
       "clear_date                          datetime64[ns]\n",
       "due_in_date                         datetime64[ns]\n",
       "total_open_amount                          float64\n",
       "baseline_create_date                datetime64[ns]\n",
       "cust_payment_terms                          object\n",
       "isOpen                                       int64\n",
       "baseline_create_date_year                    int64\n",
       "baseline_create_date_month                   int64\n",
       "baseline_create_date_day                     int64\n",
       "baseline_create_date_quarter                 int64\n",
       "baseline_create_date_day_of_week             int64\n",
       "baseline_create_date_isWeekand               int32\n",
       "CA02                                       float64\n",
       "U001                                       float64\n",
       "U002                                       float64\n",
       "U005                                       float64\n",
       "U007                                       float64\n",
       "U013                                       float64\n",
       "invoice_currency_numeric                     int32\n",
       "due_in_date_day                              int64\n",
       "clear_date_day                             float64\n",
       "Delay                                      float64\n",
       "dtype: object"
      ]
     },
     "execution_count": 370,
     "metadata": {},
     "output_type": "execute_result"
    }
   ],
   "source": [
    "df.dtypes"
   ]
  },
  {
   "cell_type": "code",
   "execution_count": 328,
   "metadata": {},
   "outputs": [
    {
     "data": {
      "text/plain": [
       "0    45580\n",
       "1     4413\n",
       "Name: isOpen, dtype: int64"
      ]
     },
     "execution_count": 328,
     "metadata": {},
     "output_type": "execute_result"
    }
   ],
   "source": [
    "df['isOpen'].value_counts()"
   ]
  },
  {
   "cell_type": "markdown",
   "metadata": {},
   "source": [
    "## creating Delay Column"
   ]
  },
  {
   "cell_type": "code",
   "execution_count": 348,
   "metadata": {},
   "outputs": [],
   "source": [
    "df['Delay']=df['clear_date'] - df['due_in_date']"
   ]
  },
  {
   "cell_type": "code",
   "execution_count": 355,
   "metadata": {},
   "outputs": [],
   "source": [
    "df['Delay'] = df['Delay'].astype('timedelta64[D]')"
   ]
  },
  {
   "cell_type": "code",
   "execution_count": 356,
   "metadata": {},
   "outputs": [
    {
     "data": {
      "text/html": [
       "<div>\n",
       "<style scoped>\n",
       "    .dataframe tbody tr th:only-of-type {\n",
       "        vertical-align: middle;\n",
       "    }\n",
       "\n",
       "    .dataframe tbody tr th {\n",
       "        vertical-align: top;\n",
       "    }\n",
       "\n",
       "    .dataframe thead th {\n",
       "        text-align: right;\n",
       "    }\n",
       "</style>\n",
       "<table border=\"1\" class=\"dataframe\">\n",
       "  <thead>\n",
       "    <tr style=\"text-align: right;\">\n",
       "      <th></th>\n",
       "      <th>cust_number</th>\n",
       "      <th>name_customer</th>\n",
       "      <th>clear_date</th>\n",
       "      <th>doc_id</th>\n",
       "      <th>due_in_date</th>\n",
       "      <th>total_open_amount</th>\n",
       "      <th>baseline_create_date</th>\n",
       "      <th>cust_payment_terms</th>\n",
       "      <th>invoice_id</th>\n",
       "      <th>isOpen</th>\n",
       "      <th>...</th>\n",
       "      <th>CA02</th>\n",
       "      <th>U001</th>\n",
       "      <th>U002</th>\n",
       "      <th>U005</th>\n",
       "      <th>U007</th>\n",
       "      <th>U013</th>\n",
       "      <th>invoice_currency_numeric</th>\n",
       "      <th>due_in_date_day</th>\n",
       "      <th>clear_date_day</th>\n",
       "      <th>Delay</th>\n",
       "    </tr>\n",
       "  </thead>\n",
       "  <tbody>\n",
       "    <tr>\n",
       "      <th>0</th>\n",
       "      <td>0140104392</td>\n",
       "      <td>FLANAG foundation</td>\n",
       "      <td>2019-04-29</td>\n",
       "      <td>2.960541e+09</td>\n",
       "      <td>2019-04-22</td>\n",
       "      <td>4398.10</td>\n",
       "      <td>2019-04-12</td>\n",
       "      <td>CA10</td>\n",
       "      <td>2.960541e+09</td>\n",
       "      <td>0</td>\n",
       "      <td>...</td>\n",
       "      <td>1.0</td>\n",
       "      <td>0.0</td>\n",
       "      <td>0.0</td>\n",
       "      <td>0.0</td>\n",
       "      <td>0.0</td>\n",
       "      <td>0.0</td>\n",
       "      <td>0</td>\n",
       "      <td>22</td>\n",
       "      <td>29.0</td>\n",
       "      <td>7.0</td>\n",
       "    </tr>\n",
       "    <tr>\n",
       "      <th>1</th>\n",
       "      <td>0200759878</td>\n",
       "      <td>SA in</td>\n",
       "      <td>2019-05-20</td>\n",
       "      <td>1.929233e+09</td>\n",
       "      <td>2019-05-17</td>\n",
       "      <td>15725.29</td>\n",
       "      <td>2019-05-02</td>\n",
       "      <td>NAH4</td>\n",
       "      <td>1.929233e+09</td>\n",
       "      <td>0</td>\n",
       "      <td>...</td>\n",
       "      <td>0.0</td>\n",
       "      <td>1.0</td>\n",
       "      <td>0.0</td>\n",
       "      <td>0.0</td>\n",
       "      <td>0.0</td>\n",
       "      <td>0.0</td>\n",
       "      <td>1</td>\n",
       "      <td>17</td>\n",
       "      <td>20.0</td>\n",
       "      <td>3.0</td>\n",
       "    </tr>\n",
       "    <tr>\n",
       "      <th>2</th>\n",
       "      <td>0200865666</td>\n",
       "      <td>RESTAU associates</td>\n",
       "      <td>2019-11-14</td>\n",
       "      <td>1.930077e+09</td>\n",
       "      <td>2019-11-14</td>\n",
       "      <td>3816.99</td>\n",
       "      <td>2019-10-30</td>\n",
       "      <td>NAA8</td>\n",
       "      <td>1.930077e+09</td>\n",
       "      <td>0</td>\n",
       "      <td>...</td>\n",
       "      <td>0.0</td>\n",
       "      <td>1.0</td>\n",
       "      <td>0.0</td>\n",
       "      <td>0.0</td>\n",
       "      <td>0.0</td>\n",
       "      <td>0.0</td>\n",
       "      <td>1</td>\n",
       "      <td>14</td>\n",
       "      <td>14.0</td>\n",
       "      <td>0.0</td>\n",
       "    </tr>\n",
       "    <tr>\n",
       "      <th>3</th>\n",
       "      <td>0200763152</td>\n",
       "      <td>PERFOR us</td>\n",
       "      <td>2019-02-15</td>\n",
       "      <td>1.928696e+09</td>\n",
       "      <td>2019-02-13</td>\n",
       "      <td>25257.66</td>\n",
       "      <td>2019-01-29</td>\n",
       "      <td>NAA8</td>\n",
       "      <td>1.928696e+09</td>\n",
       "      <td>0</td>\n",
       "      <td>...</td>\n",
       "      <td>0.0</td>\n",
       "      <td>1.0</td>\n",
       "      <td>0.0</td>\n",
       "      <td>0.0</td>\n",
       "      <td>0.0</td>\n",
       "      <td>0.0</td>\n",
       "      <td>1</td>\n",
       "      <td>13</td>\n",
       "      <td>15.0</td>\n",
       "      <td>2.0</td>\n",
       "    </tr>\n",
       "    <tr>\n",
       "      <th>4</th>\n",
       "      <td>0200742791</td>\n",
       "      <td>QUI co</td>\n",
       "      <td>2020-03-11</td>\n",
       "      <td>1.930561e+09</td>\n",
       "      <td>2020-03-11</td>\n",
       "      <td>41741.70</td>\n",
       "      <td>2020-02-25</td>\n",
       "      <td>NAA8</td>\n",
       "      <td>1.930561e+09</td>\n",
       "      <td>0</td>\n",
       "      <td>...</td>\n",
       "      <td>0.0</td>\n",
       "      <td>1.0</td>\n",
       "      <td>0.0</td>\n",
       "      <td>0.0</td>\n",
       "      <td>0.0</td>\n",
       "      <td>0.0</td>\n",
       "      <td>1</td>\n",
       "      <td>11</td>\n",
       "      <td>11.0</td>\n",
       "      <td>0.0</td>\n",
       "    </tr>\n",
       "    <tr>\n",
       "      <th>5</th>\n",
       "      <td>CC3411</td>\n",
       "      <td>H.J. HEI us</td>\n",
       "      <td>2019-10-29</td>\n",
       "      <td>1.991833e+09</td>\n",
       "      <td>2019-11-03</td>\n",
       "      <td>15273.64</td>\n",
       "      <td>2019-09-19</td>\n",
       "      <td>NAVF</td>\n",
       "      <td>1.991833e+09</td>\n",
       "      <td>0</td>\n",
       "      <td>...</td>\n",
       "      <td>0.0</td>\n",
       "      <td>0.0</td>\n",
       "      <td>0.0</td>\n",
       "      <td>0.0</td>\n",
       "      <td>0.0</td>\n",
       "      <td>1.0</td>\n",
       "      <td>1</td>\n",
       "      <td>3</td>\n",
       "      <td>29.0</td>\n",
       "      <td>-5.0</td>\n",
       "    </tr>\n",
       "    <tr>\n",
       "      <th>6</th>\n",
       "      <td>0100026809</td>\n",
       "      <td>PRES in</td>\n",
       "      <td>2019-11-29</td>\n",
       "      <td>1.930195e+09</td>\n",
       "      <td>2019-12-06</td>\n",
       "      <td>201.25</td>\n",
       "      <td>2019-11-26</td>\n",
       "      <td>NA10</td>\n",
       "      <td>1.930195e+09</td>\n",
       "      <td>0</td>\n",
       "      <td>...</td>\n",
       "      <td>0.0</td>\n",
       "      <td>1.0</td>\n",
       "      <td>0.0</td>\n",
       "      <td>0.0</td>\n",
       "      <td>0.0</td>\n",
       "      <td>0.0</td>\n",
       "      <td>1</td>\n",
       "      <td>6</td>\n",
       "      <td>29.0</td>\n",
       "      <td>-7.0</td>\n",
       "    </tr>\n",
       "    <tr>\n",
       "      <th>7</th>\n",
       "      <td>0200769623</td>\n",
       "      <td>WAL-MAR in</td>\n",
       "      <td>2019-07-23</td>\n",
       "      <td>1.929609e+09</td>\n",
       "      <td>2019-07-27</td>\n",
       "      <td>48481.61</td>\n",
       "      <td>2019-07-12</td>\n",
       "      <td>NAH4</td>\n",
       "      <td>1.929609e+09</td>\n",
       "      <td>0</td>\n",
       "      <td>...</td>\n",
       "      <td>0.0</td>\n",
       "      <td>1.0</td>\n",
       "      <td>0.0</td>\n",
       "      <td>0.0</td>\n",
       "      <td>0.0</td>\n",
       "      <td>0.0</td>\n",
       "      <td>1</td>\n",
       "      <td>27</td>\n",
       "      <td>23.0</td>\n",
       "      <td>-4.0</td>\n",
       "    </tr>\n",
       "    <tr>\n",
       "      <th>8</th>\n",
       "      <td>0200353024</td>\n",
       "      <td>DECA corp</td>\n",
       "      <td>2019-10-16</td>\n",
       "      <td>1.929957e+09</td>\n",
       "      <td>2019-10-24</td>\n",
       "      <td>8333.78</td>\n",
       "      <td>2019-10-01</td>\n",
       "      <td>NAM4</td>\n",
       "      <td>1.929957e+09</td>\n",
       "      <td>0</td>\n",
       "      <td>...</td>\n",
       "      <td>0.0</td>\n",
       "      <td>1.0</td>\n",
       "      <td>0.0</td>\n",
       "      <td>0.0</td>\n",
       "      <td>0.0</td>\n",
       "      <td>0.0</td>\n",
       "      <td>1</td>\n",
       "      <td>24</td>\n",
       "      <td>16.0</td>\n",
       "      <td>-8.0</td>\n",
       "    </tr>\n",
       "    <tr>\n",
       "      <th>9</th>\n",
       "      <td>0200769623</td>\n",
       "      <td>WAL-MAR systems</td>\n",
       "      <td>2019-08-06</td>\n",
       "      <td>1.929655e+09</td>\n",
       "      <td>2019-08-09</td>\n",
       "      <td>34650.50</td>\n",
       "      <td>2019-07-25</td>\n",
       "      <td>NAH4</td>\n",
       "      <td>1.929655e+09</td>\n",
       "      <td>0</td>\n",
       "      <td>...</td>\n",
       "      <td>0.0</td>\n",
       "      <td>1.0</td>\n",
       "      <td>0.0</td>\n",
       "      <td>0.0</td>\n",
       "      <td>0.0</td>\n",
       "      <td>0.0</td>\n",
       "      <td>1</td>\n",
       "      <td>9</td>\n",
       "      <td>6.0</td>\n",
       "      <td>-3.0</td>\n",
       "    </tr>\n",
       "  </tbody>\n",
       "</table>\n",
       "<p>10 rows × 26 columns</p>\n",
       "</div>"
      ],
      "text/plain": [
       "  cust_number      name_customer clear_date        doc_id due_in_date  \\\n",
       "0  0140104392  FLANAG foundation 2019-04-29  2.960541e+09  2019-04-22   \n",
       "1  0200759878              SA in 2019-05-20  1.929233e+09  2019-05-17   \n",
       "2  0200865666  RESTAU associates 2019-11-14  1.930077e+09  2019-11-14   \n",
       "3  0200763152          PERFOR us 2019-02-15  1.928696e+09  2019-02-13   \n",
       "4  0200742791             QUI co 2020-03-11  1.930561e+09  2020-03-11   \n",
       "5      CC3411        H.J. HEI us 2019-10-29  1.991833e+09  2019-11-03   \n",
       "6  0100026809            PRES in 2019-11-29  1.930195e+09  2019-12-06   \n",
       "7  0200769623         WAL-MAR in 2019-07-23  1.929609e+09  2019-07-27   \n",
       "8  0200353024          DECA corp 2019-10-16  1.929957e+09  2019-10-24   \n",
       "9  0200769623    WAL-MAR systems 2019-08-06  1.929655e+09  2019-08-09   \n",
       "\n",
       "   total_open_amount baseline_create_date cust_payment_terms    invoice_id  \\\n",
       "0            4398.10           2019-04-12               CA10  2.960541e+09   \n",
       "1           15725.29           2019-05-02               NAH4  1.929233e+09   \n",
       "2            3816.99           2019-10-30               NAA8  1.930077e+09   \n",
       "3           25257.66           2019-01-29               NAA8  1.928696e+09   \n",
       "4           41741.70           2020-02-25               NAA8  1.930561e+09   \n",
       "5           15273.64           2019-09-19               NAVF  1.991833e+09   \n",
       "6             201.25           2019-11-26               NA10  1.930195e+09   \n",
       "7           48481.61           2019-07-12               NAH4  1.929609e+09   \n",
       "8            8333.78           2019-10-01               NAM4  1.929957e+09   \n",
       "9           34650.50           2019-07-25               NAH4  1.929655e+09   \n",
       "\n",
       "   isOpen  ...  CA02  U001  U002  U005  U007  U013  invoice_currency_numeric  \\\n",
       "0       0  ...   1.0   0.0   0.0   0.0   0.0   0.0                         0   \n",
       "1       0  ...   0.0   1.0   0.0   0.0   0.0   0.0                         1   \n",
       "2       0  ...   0.0   1.0   0.0   0.0   0.0   0.0                         1   \n",
       "3       0  ...   0.0   1.0   0.0   0.0   0.0   0.0                         1   \n",
       "4       0  ...   0.0   1.0   0.0   0.0   0.0   0.0                         1   \n",
       "5       0  ...   0.0   0.0   0.0   0.0   0.0   1.0                         1   \n",
       "6       0  ...   0.0   1.0   0.0   0.0   0.0   0.0                         1   \n",
       "7       0  ...   0.0   1.0   0.0   0.0   0.0   0.0                         1   \n",
       "8       0  ...   0.0   1.0   0.0   0.0   0.0   0.0                         1   \n",
       "9       0  ...   0.0   1.0   0.0   0.0   0.0   0.0                         1   \n",
       "\n",
       "   due_in_date_day  clear_date_day  Delay  \n",
       "0               22            29.0    7.0  \n",
       "1               17            20.0    3.0  \n",
       "2               14            14.0    0.0  \n",
       "3               13            15.0    2.0  \n",
       "4               11            11.0    0.0  \n",
       "5                3            29.0   -5.0  \n",
       "6                6            29.0   -7.0  \n",
       "7               27            23.0   -4.0  \n",
       "8               24            16.0   -8.0  \n",
       "9                9             6.0   -3.0  \n",
       "\n",
       "[10 rows x 26 columns]"
      ]
     },
     "execution_count": 356,
     "metadata": {},
     "output_type": "execute_result"
    }
   ],
   "source": [
    "df.head(10)"
   ]
  },
  {
   "cell_type": "code",
   "execution_count": 363,
   "metadata": {},
   "outputs": [
    {
     "data": {
      "text/html": [
       "<style  type=\"text/css\" >\n",
       "#T_568922bd_635c_11eb_bd63_7c2a31444de0row0_col0,#T_568922bd_635c_11eb_bd63_7c2a31444de0row0_col1,#T_568922bd_635c_11eb_bd63_7c2a31444de0row1_col0,#T_568922bd_635c_11eb_bd63_7c2a31444de0row1_col1,#T_568922bd_635c_11eb_bd63_7c2a31444de0row2_col2{\n",
       "            background-color:  #b40426;\n",
       "            color:  #f1f1f1;\n",
       "        }#T_568922bd_635c_11eb_bd63_7c2a31444de0row0_col2,#T_568922bd_635c_11eb_bd63_7c2a31444de0row1_col2,#T_568922bd_635c_11eb_bd63_7c2a31444de0row2_col0,#T_568922bd_635c_11eb_bd63_7c2a31444de0row2_col1{\n",
       "            background-color:  #3b4cc0;\n",
       "            color:  #f1f1f1;\n",
       "        }</style><table id=\"T_568922bd_635c_11eb_bd63_7c2a31444de0\" ><thead>    <tr>        <th class=\"blank level0\" ></th>        <th class=\"col_heading level0 col0\" >doc_id</th>        <th class=\"col_heading level0 col1\" >invoice_id</th>        <th class=\"col_heading level0 col2\" >Delay</th>    </tr></thead><tbody>\n",
       "                <tr>\n",
       "                        <th id=\"T_568922bd_635c_11eb_bd63_7c2a31444de0level0_row0\" class=\"row_heading level0 row0\" >doc_id</th>\n",
       "                        <td id=\"T_568922bd_635c_11eb_bd63_7c2a31444de0row0_col0\" class=\"data row0 col0\" >1.00</td>\n",
       "                        <td id=\"T_568922bd_635c_11eb_bd63_7c2a31444de0row0_col1\" class=\"data row0 col1\" >1.00</td>\n",
       "                        <td id=\"T_568922bd_635c_11eb_bd63_7c2a31444de0row0_col2\" class=\"data row0 col2\" >0.12</td>\n",
       "            </tr>\n",
       "            <tr>\n",
       "                        <th id=\"T_568922bd_635c_11eb_bd63_7c2a31444de0level0_row1\" class=\"row_heading level0 row1\" >invoice_id</th>\n",
       "                        <td id=\"T_568922bd_635c_11eb_bd63_7c2a31444de0row1_col0\" class=\"data row1 col0\" >1.00</td>\n",
       "                        <td id=\"T_568922bd_635c_11eb_bd63_7c2a31444de0row1_col1\" class=\"data row1 col1\" >1.00</td>\n",
       "                        <td id=\"T_568922bd_635c_11eb_bd63_7c2a31444de0row1_col2\" class=\"data row1 col2\" >0.12</td>\n",
       "            </tr>\n",
       "            <tr>\n",
       "                        <th id=\"T_568922bd_635c_11eb_bd63_7c2a31444de0level0_row2\" class=\"row_heading level0 row2\" >Delay</th>\n",
       "                        <td id=\"T_568922bd_635c_11eb_bd63_7c2a31444de0row2_col0\" class=\"data row2 col0\" >0.12</td>\n",
       "                        <td id=\"T_568922bd_635c_11eb_bd63_7c2a31444de0row2_col1\" class=\"data row2 col1\" >0.12</td>\n",
       "                        <td id=\"T_568922bd_635c_11eb_bd63_7c2a31444de0row2_col2\" class=\"data row2 col2\" >1.00</td>\n",
       "            </tr>\n",
       "    </tbody></table>"
      ],
      "text/plain": [
       "<pandas.io.formats.style.Styler at 0x1770b4b9c10>"
      ]
     },
     "execution_count": 363,
     "metadata": {},
     "output_type": "execute_result"
    }
   ],
   "source": [
    "corr =df[['doc_id','invoice_id','Delay']].corr()\n",
    "corr.style.background_gradient(cmap='coolwarm').set_precision(2)"
   ]
  },
  {
   "cell_type": "code",
   "execution_count": 364,
   "metadata": {},
   "outputs": [],
   "source": [
    "df.drop(['doc_id','invoice_id'],axis=1,inplace=True)"
   ]
  },
  {
   "cell_type": "code",
   "execution_count": 367,
   "metadata": {},
   "outputs": [
    {
     "data": {
      "text/html": [
       "<style  type=\"text/css\" >\n",
       "#T_a97763e2_635c_11eb_9afa_7c2a31444de0row0_col0,#T_a97763e2_635c_11eb_9afa_7c2a31444de0row0_col1,#T_a97763e2_635c_11eb_9afa_7c2a31444de0row1_col0,#T_a97763e2_635c_11eb_9afa_7c2a31444de0row1_col1{\n",
       "            background-color:  #3b4cc0;\n",
       "            color:  #f1f1f1;\n",
       "        }</style><table id=\"T_a97763e2_635c_11eb_9afa_7c2a31444de0\" ><thead>    <tr>        <th class=\"blank level0\" ></th>        <th class=\"col_heading level0 col0\" >isOpen</th>        <th class=\"col_heading level0 col1\" >Delay</th>    </tr></thead><tbody>\n",
       "                <tr>\n",
       "                        <th id=\"T_a97763e2_635c_11eb_9afa_7c2a31444de0level0_row0\" class=\"row_heading level0 row0\" >isOpen</th>\n",
       "                        <td id=\"T_a97763e2_635c_11eb_9afa_7c2a31444de0row0_col0\" class=\"data row0 col0\" >1.00</td>\n",
       "                        <td id=\"T_a97763e2_635c_11eb_9afa_7c2a31444de0row0_col1\" class=\"data row0 col1\" >nan</td>\n",
       "            </tr>\n",
       "            <tr>\n",
       "                        <th id=\"T_a97763e2_635c_11eb_9afa_7c2a31444de0level0_row1\" class=\"row_heading level0 row1\" >Delay</th>\n",
       "                        <td id=\"T_a97763e2_635c_11eb_9afa_7c2a31444de0row1_col0\" class=\"data row1 col0\" >nan</td>\n",
       "                        <td id=\"T_a97763e2_635c_11eb_9afa_7c2a31444de0row1_col1\" class=\"data row1 col1\" >1.00</td>\n",
       "            </tr>\n",
       "    </tbody></table>"
      ],
      "text/plain": [
       "<pandas.io.formats.style.Styler at 0x17709f66490>"
      ]
     },
     "execution_count": 367,
     "metadata": {},
     "output_type": "execute_result"
    }
   ],
   "source": [
    "corr =df[['isOpen','Delay']].corr()\n",
    "corr.style.background_gradient(cmap='coolwarm').set_precision(2)"
   ]
  },
  {
   "cell_type": "code",
   "execution_count": 368,
   "metadata": {},
   "outputs": [
    {
     "data": {
      "text/plain": [
       "0    45580\n",
       "1     4413\n",
       "Name: isOpen, dtype: int64"
      ]
     },
     "execution_count": 368,
     "metadata": {},
     "output_type": "execute_result"
    }
   ],
   "source": [
    "df['isOpen'].value_counts()"
   ]
  },
  {
   "cell_type": "code",
   "execution_count": 377,
   "metadata": {},
   "outputs": [
    {
     "data": {
      "text/html": [
       "<div>\n",
       "<style scoped>\n",
       "    .dataframe tbody tr th:only-of-type {\n",
       "        vertical-align: middle;\n",
       "    }\n",
       "\n",
       "    .dataframe tbody tr th {\n",
       "        vertical-align: top;\n",
       "    }\n",
       "\n",
       "    .dataframe thead th {\n",
       "        text-align: right;\n",
       "    }\n",
       "</style>\n",
       "<table border=\"1\" class=\"dataframe\">\n",
       "  <thead>\n",
       "    <tr style=\"text-align: right;\">\n",
       "      <th></th>\n",
       "      <th>cust_number</th>\n",
       "      <th>name_customer</th>\n",
       "      <th>clear_date</th>\n",
       "      <th>due_in_date</th>\n",
       "      <th>total_open_amount</th>\n",
       "      <th>baseline_create_date</th>\n",
       "      <th>cust_payment_terms</th>\n",
       "      <th>isOpen</th>\n",
       "      <th>baseline_create_date_year</th>\n",
       "      <th>baseline_create_date_month</th>\n",
       "      <th>...</th>\n",
       "      <th>CA02</th>\n",
       "      <th>U001</th>\n",
       "      <th>U002</th>\n",
       "      <th>U005</th>\n",
       "      <th>U007</th>\n",
       "      <th>U013</th>\n",
       "      <th>invoice_currency_numeric</th>\n",
       "      <th>due_in_date_day</th>\n",
       "      <th>clear_date_day</th>\n",
       "      <th>Delay</th>\n",
       "    </tr>\n",
       "  </thead>\n",
       "  <tbody>\n",
       "    <tr>\n",
       "      <th>0</th>\n",
       "      <td>0140104392</td>\n",
       "      <td>FLANAG foundation</td>\n",
       "      <td>2019-04-29</td>\n",
       "      <td>2019-04-22</td>\n",
       "      <td>4398.10</td>\n",
       "      <td>2019-04-12</td>\n",
       "      <td>CA10</td>\n",
       "      <td>0</td>\n",
       "      <td>2019</td>\n",
       "      <td>4</td>\n",
       "      <td>...</td>\n",
       "      <td>1.0</td>\n",
       "      <td>0.0</td>\n",
       "      <td>0.0</td>\n",
       "      <td>0.0</td>\n",
       "      <td>0.0</td>\n",
       "      <td>0.0</td>\n",
       "      <td>0</td>\n",
       "      <td>22</td>\n",
       "      <td>29.0</td>\n",
       "      <td>7.0</td>\n",
       "    </tr>\n",
       "    <tr>\n",
       "      <th>1</th>\n",
       "      <td>0200759878</td>\n",
       "      <td>SA in</td>\n",
       "      <td>2019-05-20</td>\n",
       "      <td>2019-05-17</td>\n",
       "      <td>15725.29</td>\n",
       "      <td>2019-05-02</td>\n",
       "      <td>NAH4</td>\n",
       "      <td>0</td>\n",
       "      <td>2019</td>\n",
       "      <td>5</td>\n",
       "      <td>...</td>\n",
       "      <td>0.0</td>\n",
       "      <td>1.0</td>\n",
       "      <td>0.0</td>\n",
       "      <td>0.0</td>\n",
       "      <td>0.0</td>\n",
       "      <td>0.0</td>\n",
       "      <td>1</td>\n",
       "      <td>17</td>\n",
       "      <td>20.0</td>\n",
       "      <td>3.0</td>\n",
       "    </tr>\n",
       "    <tr>\n",
       "      <th>2</th>\n",
       "      <td>0200865666</td>\n",
       "      <td>RESTAU associates</td>\n",
       "      <td>2019-11-14</td>\n",
       "      <td>2019-11-14</td>\n",
       "      <td>3816.99</td>\n",
       "      <td>2019-10-30</td>\n",
       "      <td>NAA8</td>\n",
       "      <td>0</td>\n",
       "      <td>2019</td>\n",
       "      <td>10</td>\n",
       "      <td>...</td>\n",
       "      <td>0.0</td>\n",
       "      <td>1.0</td>\n",
       "      <td>0.0</td>\n",
       "      <td>0.0</td>\n",
       "      <td>0.0</td>\n",
       "      <td>0.0</td>\n",
       "      <td>1</td>\n",
       "      <td>14</td>\n",
       "      <td>14.0</td>\n",
       "      <td>0.0</td>\n",
       "    </tr>\n",
       "    <tr>\n",
       "      <th>3</th>\n",
       "      <td>0200763152</td>\n",
       "      <td>PERFOR us</td>\n",
       "      <td>2019-02-15</td>\n",
       "      <td>2019-02-13</td>\n",
       "      <td>25257.66</td>\n",
       "      <td>2019-01-29</td>\n",
       "      <td>NAA8</td>\n",
       "      <td>0</td>\n",
       "      <td>2019</td>\n",
       "      <td>1</td>\n",
       "      <td>...</td>\n",
       "      <td>0.0</td>\n",
       "      <td>1.0</td>\n",
       "      <td>0.0</td>\n",
       "      <td>0.0</td>\n",
       "      <td>0.0</td>\n",
       "      <td>0.0</td>\n",
       "      <td>1</td>\n",
       "      <td>13</td>\n",
       "      <td>15.0</td>\n",
       "      <td>2.0</td>\n",
       "    </tr>\n",
       "    <tr>\n",
       "      <th>4</th>\n",
       "      <td>0200742791</td>\n",
       "      <td>QUI co</td>\n",
       "      <td>2020-03-11</td>\n",
       "      <td>2020-03-11</td>\n",
       "      <td>41741.70</td>\n",
       "      <td>2020-02-25</td>\n",
       "      <td>NAA8</td>\n",
       "      <td>0</td>\n",
       "      <td>2020</td>\n",
       "      <td>2</td>\n",
       "      <td>...</td>\n",
       "      <td>0.0</td>\n",
       "      <td>1.0</td>\n",
       "      <td>0.0</td>\n",
       "      <td>0.0</td>\n",
       "      <td>0.0</td>\n",
       "      <td>0.0</td>\n",
       "      <td>1</td>\n",
       "      <td>11</td>\n",
       "      <td>11.0</td>\n",
       "      <td>0.0</td>\n",
       "    </tr>\n",
       "    <tr>\n",
       "      <th>...</th>\n",
       "      <td>...</td>\n",
       "      <td>...</td>\n",
       "      <td>...</td>\n",
       "      <td>...</td>\n",
       "      <td>...</td>\n",
       "      <td>...</td>\n",
       "      <td>...</td>\n",
       "      <td>...</td>\n",
       "      <td>...</td>\n",
       "      <td>...</td>\n",
       "      <td>...</td>\n",
       "      <td>...</td>\n",
       "      <td>...</td>\n",
       "      <td>...</td>\n",
       "      <td>...</td>\n",
       "      <td>...</td>\n",
       "      <td>...</td>\n",
       "      <td>...</td>\n",
       "      <td>...</td>\n",
       "      <td>...</td>\n",
       "      <td>...</td>\n",
       "    </tr>\n",
       "    <tr>\n",
       "      <th>49995</th>\n",
       "      <td>0200744019</td>\n",
       "      <td>TARG corp</td>\n",
       "      <td>NaT</td>\n",
       "      <td>2020-04-03</td>\n",
       "      <td>5582.43</td>\n",
       "      <td>2020-03-19</td>\n",
       "      <td>NAA8</td>\n",
       "      <td>1</td>\n",
       "      <td>2020</td>\n",
       "      <td>3</td>\n",
       "      <td>...</td>\n",
       "      <td>0.0</td>\n",
       "      <td>1.0</td>\n",
       "      <td>0.0</td>\n",
       "      <td>0.0</td>\n",
       "      <td>0.0</td>\n",
       "      <td>0.0</td>\n",
       "      <td>1</td>\n",
       "      <td>3</td>\n",
       "      <td>NaN</td>\n",
       "      <td>NaN</td>\n",
       "    </tr>\n",
       "    <tr>\n",
       "      <th>49996</th>\n",
       "      <td>0140106408</td>\n",
       "      <td>WAL-M associates</td>\n",
       "      <td>NaT</td>\n",
       "      <td>2020-03-14</td>\n",
       "      <td>62217.04</td>\n",
       "      <td>2020-03-04</td>\n",
       "      <td>CA10</td>\n",
       "      <td>1</td>\n",
       "      <td>2020</td>\n",
       "      <td>3</td>\n",
       "      <td>...</td>\n",
       "      <td>1.0</td>\n",
       "      <td>0.0</td>\n",
       "      <td>0.0</td>\n",
       "      <td>0.0</td>\n",
       "      <td>0.0</td>\n",
       "      <td>0.0</td>\n",
       "      <td>0</td>\n",
       "      <td>14</td>\n",
       "      <td>NaN</td>\n",
       "      <td>NaN</td>\n",
       "    </tr>\n",
       "    <tr>\n",
       "      <th>49997</th>\n",
       "      <td>0200772595</td>\n",
       "      <td>SAFEW</td>\n",
       "      <td>NaT</td>\n",
       "      <td>2020-05-12</td>\n",
       "      <td>50506.99</td>\n",
       "      <td>2020-04-27</td>\n",
       "      <td>NAA8</td>\n",
       "      <td>1</td>\n",
       "      <td>2020</td>\n",
       "      <td>4</td>\n",
       "      <td>...</td>\n",
       "      <td>0.0</td>\n",
       "      <td>1.0</td>\n",
       "      <td>0.0</td>\n",
       "      <td>0.0</td>\n",
       "      <td>0.0</td>\n",
       "      <td>0.0</td>\n",
       "      <td>1</td>\n",
       "      <td>12</td>\n",
       "      <td>NaN</td>\n",
       "      <td>NaN</td>\n",
       "    </tr>\n",
       "    <tr>\n",
       "      <th>49998</th>\n",
       "      <td>0200780383</td>\n",
       "      <td>MEIJ corporation</td>\n",
       "      <td>NaT</td>\n",
       "      <td>2020-04-10</td>\n",
       "      <td>50574.87</td>\n",
       "      <td>2020-03-26</td>\n",
       "      <td>NAA8</td>\n",
       "      <td>1</td>\n",
       "      <td>2020</td>\n",
       "      <td>3</td>\n",
       "      <td>...</td>\n",
       "      <td>0.0</td>\n",
       "      <td>1.0</td>\n",
       "      <td>0.0</td>\n",
       "      <td>0.0</td>\n",
       "      <td>0.0</td>\n",
       "      <td>0.0</td>\n",
       "      <td>1</td>\n",
       "      <td>10</td>\n",
       "      <td>NaN</td>\n",
       "      <td>NaN</td>\n",
       "    </tr>\n",
       "    <tr>\n",
       "      <th>49999</th>\n",
       "      <td>0200744019</td>\n",
       "      <td>TARG corporation</td>\n",
       "      <td>NaT</td>\n",
       "      <td>2020-05-16</td>\n",
       "      <td>5175.54</td>\n",
       "      <td>2020-05-01</td>\n",
       "      <td>NAA8</td>\n",
       "      <td>1</td>\n",
       "      <td>2020</td>\n",
       "      <td>5</td>\n",
       "      <td>...</td>\n",
       "      <td>0.0</td>\n",
       "      <td>1.0</td>\n",
       "      <td>0.0</td>\n",
       "      <td>0.0</td>\n",
       "      <td>0.0</td>\n",
       "      <td>0.0</td>\n",
       "      <td>1</td>\n",
       "      <td>16</td>\n",
       "      <td>NaN</td>\n",
       "      <td>NaN</td>\n",
       "    </tr>\n",
       "  </tbody>\n",
       "</table>\n",
       "<p>49972 rows × 24 columns</p>\n",
       "</div>"
      ],
      "text/plain": [
       "      cust_number      name_customer clear_date due_in_date  \\\n",
       "0      0140104392  FLANAG foundation 2019-04-29  2019-04-22   \n",
       "1      0200759878              SA in 2019-05-20  2019-05-17   \n",
       "2      0200865666  RESTAU associates 2019-11-14  2019-11-14   \n",
       "3      0200763152          PERFOR us 2019-02-15  2019-02-13   \n",
       "4      0200742791             QUI co 2020-03-11  2020-03-11   \n",
       "...           ...                ...        ...         ...   \n",
       "49995  0200744019          TARG corp        NaT  2020-04-03   \n",
       "49996  0140106408   WAL-M associates        NaT  2020-03-14   \n",
       "49997  0200772595             SAFEW         NaT  2020-05-12   \n",
       "49998  0200780383   MEIJ corporation        NaT  2020-04-10   \n",
       "49999  0200744019   TARG corporation        NaT  2020-05-16   \n",
       "\n",
       "       total_open_amount baseline_create_date cust_payment_terms  isOpen  \\\n",
       "0                4398.10           2019-04-12               CA10       0   \n",
       "1               15725.29           2019-05-02               NAH4       0   \n",
       "2                3816.99           2019-10-30               NAA8       0   \n",
       "3               25257.66           2019-01-29               NAA8       0   \n",
       "4               41741.70           2020-02-25               NAA8       0   \n",
       "...                  ...                  ...                ...     ...   \n",
       "49995            5582.43           2020-03-19               NAA8       1   \n",
       "49996           62217.04           2020-03-04               CA10       1   \n",
       "49997           50506.99           2020-04-27               NAA8       1   \n",
       "49998           50574.87           2020-03-26               NAA8       1   \n",
       "49999            5175.54           2020-05-01               NAA8       1   \n",
       "\n",
       "       baseline_create_date_year  baseline_create_date_month  ...  CA02  U001  \\\n",
       "0                           2019                           4  ...   1.0   0.0   \n",
       "1                           2019                           5  ...   0.0   1.0   \n",
       "2                           2019                          10  ...   0.0   1.0   \n",
       "3                           2019                           1  ...   0.0   1.0   \n",
       "4                           2020                           2  ...   0.0   1.0   \n",
       "...                          ...                         ...  ...   ...   ...   \n",
       "49995                       2020                           3  ...   0.0   1.0   \n",
       "49996                       2020                           3  ...   1.0   0.0   \n",
       "49997                       2020                           4  ...   0.0   1.0   \n",
       "49998                       2020                           3  ...   0.0   1.0   \n",
       "49999                       2020                           5  ...   0.0   1.0   \n",
       "\n",
       "       U002  U005  U007  U013  invoice_currency_numeric  due_in_date_day  \\\n",
       "0       0.0   0.0   0.0   0.0                         0               22   \n",
       "1       0.0   0.0   0.0   0.0                         1               17   \n",
       "2       0.0   0.0   0.0   0.0                         1               14   \n",
       "3       0.0   0.0   0.0   0.0                         1               13   \n",
       "4       0.0   0.0   0.0   0.0                         1               11   \n",
       "...     ...   ...   ...   ...                       ...              ...   \n",
       "49995   0.0   0.0   0.0   0.0                         1                3   \n",
       "49996   0.0   0.0   0.0   0.0                         0               14   \n",
       "49997   0.0   0.0   0.0   0.0                         1               12   \n",
       "49998   0.0   0.0   0.0   0.0                         1               10   \n",
       "49999   0.0   0.0   0.0   0.0                         1               16   \n",
       "\n",
       "       clear_date_day  Delay  \n",
       "0                29.0    7.0  \n",
       "1                20.0    3.0  \n",
       "2                14.0    0.0  \n",
       "3                15.0    2.0  \n",
       "4                11.0    0.0  \n",
       "...               ...    ...  \n",
       "49995             NaN    NaN  \n",
       "49996             NaN    NaN  \n",
       "49997             NaN    NaN  \n",
       "49998             NaN    NaN  \n",
       "49999             NaN    NaN  \n",
       "\n",
       "[49972 rows x 24 columns]"
      ]
     },
     "execution_count": 377,
     "metadata": {},
     "output_type": "execute_result"
    }
   ],
   "source": [
    "#Finding & Removing duplicate records\n",
    "df.duplicated().sum()\n",
    "df.drop_duplicates(keep='first')"
   ]
  },
  {
   "cell_type": "code",
   "execution_count": 452,
   "metadata": {},
   "outputs": [
    {
     "data": {
      "text/plain": [
       "2019    39707\n",
       "2020    10144\n",
       "2018      142\n",
       "Name: baseline_create_date_year, dtype: int64"
      ]
     },
     "execution_count": 452,
     "metadata": {},
     "output_type": "execute_result"
    }
   ],
   "source": [
    "df['baseline_create_date_year'].value_counts()"
   ]
  },
  {
   "cell_type": "code",
   "execution_count": 453,
   "metadata": {},
   "outputs": [
    {
     "data": {
      "text/plain": [
       "1     6121\n",
       "2     6111\n",
       "3     5868\n",
       "4     5202\n",
       "5     4084\n",
       "10    3494\n",
       "6     3488\n",
       "8     3480\n",
       "9     3407\n",
       "7     3380\n",
       "11    3143\n",
       "12    2215\n",
       "Name: baseline_create_date_month, dtype: int64"
      ]
     },
     "execution_count": 453,
     "metadata": {},
     "output_type": "execute_result"
    }
   ],
   "source": [
    "df['baseline_create_date_month'].value_counts()"
   ]
  },
  {
   "cell_type": "code",
   "execution_count": 460,
   "metadata": {},
   "outputs": [
    {
     "data": {
      "text/plain": [
       "total_open_amount                   0.002595\n",
       "baseline_create_date_year          -0.012696\n",
       "baseline_create_date_month         -0.029901\n",
       "baseline_create_date_day            0.007287\n",
       "baseline_create_date_quarter       -0.025318\n",
       "baseline_create_date_day_of_week    0.008081\n",
       "baseline_create_date_isWeekand     -0.014635\n",
       "CA02                                0.122171\n",
       "U001                               -0.151642\n",
       "U002                                0.023867\n",
       "U005                                0.008105\n",
       "U007                                0.014440\n",
       "U013                                0.088188\n",
       "invoice_currency_numeric           -0.122171\n",
       "due_in_date_day                    -0.009969\n",
       "clear_date_day                      0.052336\n",
       "Delay                               1.000000\n",
       "total_open_amount_log               0.010347\n",
       "total_open_amount_cube              0.008016\n",
       "Avg_delay                           0.674147\n",
       "Avg_amount_cube                     0.133769\n",
       "Avg_amount                          0.126426\n",
       "Avg_amount_log                      0.130999\n",
       "Name: Delay, dtype: float64"
      ]
     },
     "execution_count": 460,
     "metadata": {},
     "output_type": "execute_result"
    }
   ],
   "source": [
    "df.corr().loc['Delay',:]"
   ]
  },
  {
   "cell_type": "markdown",
   "metadata": {},
   "source": [
    "## Dropping isOpen"
   ]
  },
  {
   "cell_type": "code",
   "execution_count": 450,
   "metadata": {},
   "outputs": [],
   "source": [
    "df.drop(['isOpen'],axis=1,inplace=True)"
   ]
  },
  {
   "cell_type": "code",
   "execution_count": 448,
   "metadata": {},
   "outputs": [],
   "source": [
    "df.drop(['avg_total_open_amount','Avg_delay_temp','A1'] ,axis=1,inplace=True)"
   ]
  },
  {
   "cell_type": "code",
   "execution_count": 381,
   "metadata": {},
   "outputs": [
    {
     "data": {
      "text/plain": [
       "count    45580.000000\n",
       "mean         0.902962\n",
       "std         10.872892\n",
       "min        -90.000000\n",
       "25%         -3.000000\n",
       "50%          0.000000\n",
       "75%          2.000000\n",
       "max        199.000000\n",
       "Name: Delay, dtype: float64"
      ]
     },
     "execution_count": 381,
     "metadata": {},
     "output_type": "execute_result"
    }
   ],
   "source": [
    "df['Delay'].describe()"
   ]
  },
  {
   "cell_type": "code",
   "execution_count": 380,
   "metadata": {},
   "outputs": [
    {
     "name": "stderr",
     "output_type": "stream",
     "text": [
      "C:\\Users\\xyz\\anaconda3\\lib\\site-packages\\seaborn\\_decorators.py:36: FutureWarning: Pass the following variables as keyword args: x, y. From version 0.12, the only valid positional argument will be `data`, and passing other arguments without an explicit keyword will result in an error or misinterpretation.\n",
      "  warnings.warn(\n"
     ]
    },
    {
     "data": {
      "text/plain": [
       "<AxesSubplot:xlabel='CA02', ylabel='Delay'>"
      ]
     },
     "execution_count": 380,
     "metadata": {},
     "output_type": "execute_result"
    },
    {
     "data": {
      "image/png": "[encoded data removed]",
      "text/plain": [
       "<Figure size 432x288 with 1 Axes>"
      ]
     },
     "metadata": {
      "needs_background": "light"
     },
     "output_type": "display_data"
    }
   ],
   "source": [
    "sns.scatterplot(df['CA02'],df['Delay'])"
   ]
  },
  {
   "cell_type": "code",
   "execution_count": 382,
   "metadata": {},
   "outputs": [
    {
     "name": "stderr",
     "output_type": "stream",
     "text": [
      "C:\\Users\\xyz\\anaconda3\\lib\\site-packages\\seaborn\\distributions.py:2551: FutureWarning: `distplot` is a deprecated function and will be removed in a future version. Please adapt your code to use either `displot` (a figure-level function with similar flexibility) or `histplot` (an axes-level function for histograms).\n",
      "  warnings.warn(msg, FutureWarning)\n"
     ]
    },
    {
     "data": {
      "text/plain": [
       "<AxesSubplot:xlabel='Delay', ylabel='Density'>"
      ]
     },
     "execution_count": 382,
     "metadata": {},
     "output_type": "execute_result"
    },
    {
     "data": {
      "image/png": "[encoded data removed]",
      "text/plain": [
       "<Figure size 432x288 with 1 Axes>"
      ]
     },
     "metadata": {
      "needs_background": "light"
     },
     "output_type": "display_data"
    }
   ],
   "source": [
    "\n",
    "sns.distplot(df['Delay'])"
   ]
  },
  {
   "cell_type": "code",
   "execution_count": 387,
   "metadata": {},
   "outputs": [
    {
     "name": "stderr",
     "output_type": "stream",
     "text": [
      "C:\\Users\\xyz\\anaconda3\\lib\\site-packages\\seaborn\\distributions.py:2551: FutureWarning: `distplot` is a deprecated function and will be removed in a future version. Please adapt your code to use either `displot` (a figure-level function with similar flexibility) or `histplot` (an axes-level function for histograms).\n",
      "  warnings.warn(msg, FutureWarning)\n"
     ]
    },
    {
     "data": {
      "text/plain": [
       "<AxesSubplot:xlabel='baseline_create_date_day_of_week', ylabel='Density'>"
      ]
     },
     "execution_count": 387,
     "metadata": {},
     "output_type": "execute_result"
    },
    {
     "data": {
      "image/png": "[encoded data removed]",
      "text/plain": [
       "<Figure size 432x288 with 1 Axes>"
      ]
     },
     "metadata": {
      "needs_background": "light"
     },
     "output_type": "display_data"
    }
   ],
   "source": [
    "sns.distplot(df['baseline_create_date_day_of_week'])"
   ]
  },
  {
   "cell_type": "code",
   "execution_count": 396,
   "metadata": {},
   "outputs": [
    {
     "name": "stderr",
     "output_type": "stream",
     "text": [
      "C:\\Users\\xyz\\anaconda3\\lib\\site-packages\\seaborn\\distributions.py:2551: FutureWarning: `distplot` is a deprecated function and will be removed in a future version. Please adapt your code to use either `displot` (a figure-level function with similar flexibility) or `histplot` (an axes-level function for histograms).\n",
      "  warnings.warn(msg, FutureWarning)\n"
     ]
    },
    {
     "data": {
      "text/plain": [
       "<AxesSubplot:xlabel='total_open_amount', ylabel='Density'>"
      ]
     },
     "execution_count": 396,
     "metadata": {},
     "output_type": "execute_result"
    },
    {
     "data": {
      "image/png": "[encoded data removed]",
      "text/plain": [
       "<Figure size 432x288 with 1 Axes>"
      ]
     },
     "metadata": {
      "needs_background": "light"
     },
     "output_type": "display_data"
    }
   ],
   "source": [
    "sns.distplot(df['total_open_amount'])"
   ]
  },
  {
   "cell_type": "code",
   "execution_count": null,
   "metadata": {},
   "outputs": [],
   "source": []
  },
  {
   "cell_type": "code",
   "execution_count": 397,
   "metadata": {},
   "outputs": [
    {
     "name": "stderr",
     "output_type": "stream",
     "text": [
      "C:\\Users\\xyz\\anaconda3\\lib\\site-packages\\seaborn\\distributions.py:2551: FutureWarning: `distplot` is a deprecated function and will be removed in a future version. Please adapt your code to use either `displot` (a figure-level function with similar flexibility) or `histplot` (an axes-level function for histograms).\n",
      "  warnings.warn(msg, FutureWarning)\n"
     ]
    },
    {
     "data": {
      "text/plain": [
       "<AxesSubplot:xlabel='total_open_amount_log', ylabel='Density'>"
      ]
     },
     "execution_count": 397,
     "metadata": {},
     "output_type": "execute_result"
    },
    {
     "data": {
      "image/png": "[encoded data removed]",
      "text/plain": [
       "<Figure size 432x288 with 1 Axes>"
      ]
     },
     "metadata": {
      "needs_background": "light"
     },
     "output_type": "display_data"
    }
   ],
   "source": [
    "df['total_open_amount_log'] = np.log(df['total_open_amount'])\n",
    "sns.distplot(df['total_open_amount_log'])\n",
    "#fig = plt.figure()"
   ]
  },
  {
   "cell_type": "code",
   "execution_count": 402,
   "metadata": {},
   "outputs": [
    {
     "data": {
      "text/plain": [
       "count    49993.000000\n",
       "mean         9.410743\n",
       "std          1.784782\n",
       "min          0.029559\n",
       "25%          8.468522\n",
       "50%          9.756964\n",
       "75%         10.758294\n",
       "max         13.639678\n",
       "Name: total_open_amount_log, dtype: float64"
      ]
     },
     "execution_count": 402,
     "metadata": {},
     "output_type": "execute_result"
    }
   ],
   "source": [
    "df['total_open_amount_log'].describe()"
   ]
  },
  {
   "cell_type": "code",
   "execution_count": 399,
   "metadata": {},
   "outputs": [
    {
     "data": {
      "text/plain": [
       "0.2344017728935461"
      ]
     },
     "execution_count": 399,
     "metadata": {},
     "output_type": "execute_result"
    }
   ],
   "source": [
    "df['total_open_amount_cube']=df['total_open_amount']**(1/3)\n",
    "df['total_open_amount_cube'].skew()"
   ]
  },
  {
   "cell_type": "code",
   "execution_count": 400,
   "metadata": {},
   "outputs": [
    {
     "name": "stderr",
     "output_type": "stream",
     "text": [
      "C:\\Users\\xyz\\anaconda3\\lib\\site-packages\\seaborn\\distributions.py:2551: FutureWarning: `distplot` is a deprecated function and will be removed in a future version. Please adapt your code to use either `displot` (a figure-level function with similar flexibility) or `histplot` (an axes-level function for histograms).\n",
      "  warnings.warn(msg, FutureWarning)\n"
     ]
    },
    {
     "data": {
      "text/plain": [
       "<AxesSubplot:xlabel='total_open_amount_cube', ylabel='Density'>"
      ]
     },
     "execution_count": 400,
     "metadata": {},
     "output_type": "execute_result"
    },
    {
     "data": {
      "image/png": "[encoded data removed]",
      "text/plain": [
       "<Figure size 432x288 with 1 Axes>"
      ]
     },
     "metadata": {
      "needs_background": "light"
     },
     "output_type": "display_data"
    }
   ],
   "source": [
    "sns.distplot(df['total_open_amount_cube'])"
   ]
  },
  {
   "cell_type": "code",
   "execution_count": 403,
   "metadata": {},
   "outputs": [
    {
     "data": {
      "text/plain": [
       "count    49993.000000\n",
       "mean        26.667731\n",
       "std         12.670099\n",
       "min          1.009902\n",
       "25%         16.824574\n",
       "50%         25.850274\n",
       "75%         36.092970\n",
       "max         94.307368\n",
       "Name: total_open_amount_cube, dtype: float64"
      ]
     },
     "execution_count": 403,
     "metadata": {},
     "output_type": "execute_result"
    }
   ],
   "source": [
    "df['total_open_amount_cube'].describe()"
   ]
  },
  {
   "cell_type": "code",
   "execution_count": 398,
   "metadata": {},
   "outputs": [
    {
     "data": {
      "text/plain": [
       "-0.9788580119876549"
      ]
     },
     "execution_count": 398,
     "metadata": {},
     "output_type": "execute_result"
    }
   ],
   "source": [
    "df['total_open_amount_log'].skew()"
   ]
  },
  {
   "cell_type": "code",
   "execution_count": 388,
   "metadata": {},
   "outputs": [
    {
     "data": {
      "text/plain": [
       "2.85419333636931"
      ]
     },
     "execution_count": 388,
     "metadata": {},
     "output_type": "execute_result"
    }
   ],
   "source": [
    "df['total_open_amount'].skew()"
   ]
  },
  {
   "cell_type": "code",
   "execution_count": 314,
   "metadata": {},
   "outputs": [
    {
     "name": "stderr",
     "output_type": "stream",
     "text": [
      "C:\\Users\\xyz\\anaconda3\\lib\\site-packages\\seaborn\\_decorators.py:36: FutureWarning: Pass the following variable as a keyword arg: x. From version 0.12, the only valid positional argument will be `data`, and passing other arguments without an explicit keyword will result in an error or misinterpretation.\n",
      "  warnings.warn(\n"
     ]
    },
    {
     "data": {
      "text/plain": [
       "<AxesSubplot:xlabel='total_open_amount'>"
      ]
     },
     "execution_count": 314,
     "metadata": {},
     "output_type": "execute_result"
    },
    {
     "data": {
      "image/png": "[encoded data removed]",
      "text/plain": [
       "<Figure size 432x288 with 1 Axes>"
      ]
     },
     "metadata": {
      "needs_background": "light"
     },
     "output_type": "display_data"
    }
   ],
   "source": [
    "sns.boxplot(df['total_open_amount'])"
   ]
  },
  {
   "cell_type": "code",
   "execution_count": 390,
   "metadata": {},
   "outputs": [
    {
     "data": {
      "text/html": [
       "<div>\n",
       "<style scoped>\n",
       "    .dataframe tbody tr th:only-of-type {\n",
       "        vertical-align: middle;\n",
       "    }\n",
       "\n",
       "    .dataframe tbody tr th {\n",
       "        vertical-align: top;\n",
       "    }\n",
       "\n",
       "    .dataframe thead th {\n",
       "        text-align: right;\n",
       "    }\n",
       "</style>\n",
       "<table border=\"1\" class=\"dataframe\">\n",
       "  <thead>\n",
       "    <tr style=\"text-align: right;\">\n",
       "      <th></th>\n",
       "      <th>total_open_amount</th>\n",
       "      <th>isOpen</th>\n",
       "      <th>baseline_create_date_year</th>\n",
       "      <th>baseline_create_date_month</th>\n",
       "      <th>baseline_create_date_day</th>\n",
       "      <th>baseline_create_date_quarter</th>\n",
       "      <th>baseline_create_date_day_of_week</th>\n",
       "      <th>baseline_create_date_isWeekand</th>\n",
       "      <th>CA02</th>\n",
       "      <th>U001</th>\n",
       "      <th>U002</th>\n",
       "      <th>U005</th>\n",
       "      <th>U007</th>\n",
       "      <th>U013</th>\n",
       "      <th>invoice_currency_numeric</th>\n",
       "      <th>due_in_date_day</th>\n",
       "      <th>clear_date_day</th>\n",
       "      <th>Delay</th>\n",
       "    </tr>\n",
       "  </thead>\n",
       "  <tbody>\n",
       "    <tr>\n",
       "      <th>count</th>\n",
       "      <td>49993.000000</td>\n",
       "      <td>49993.000000</td>\n",
       "      <td>49993.000000</td>\n",
       "      <td>49993.000000</td>\n",
       "      <td>49993.000000</td>\n",
       "      <td>49993.000000</td>\n",
       "      <td>49993.000000</td>\n",
       "      <td>49993.000000</td>\n",
       "      <td>49993.000000</td>\n",
       "      <td>49993.000000</td>\n",
       "      <td>49993.000000</td>\n",
       "      <td>49993.000000</td>\n",
       "      <td>49993.000000</td>\n",
       "      <td>49993.000000</td>\n",
       "      <td>49993.000000</td>\n",
       "      <td>49993.000000</td>\n",
       "      <td>45580.000000</td>\n",
       "      <td>45580.000000</td>\n",
       "    </tr>\n",
       "    <tr>\n",
       "      <th>mean</th>\n",
       "      <td>32284.734302</td>\n",
       "      <td>0.088272</td>\n",
       "      <td>2019.200068</td>\n",
       "      <td>5.527954</td>\n",
       "      <td>15.292161</td>\n",
       "      <td>2.197448</td>\n",
       "      <td>2.698058</td>\n",
       "      <td>0.187486</td>\n",
       "      <td>0.080091</td>\n",
       "      <td>0.904107</td>\n",
       "      <td>0.003100</td>\n",
       "      <td>0.000280</td>\n",
       "      <td>0.000160</td>\n",
       "      <td>0.012262</td>\n",
       "      <td>0.919909</td>\n",
       "      <td>15.960294</td>\n",
       "      <td>15.949188</td>\n",
       "      <td>0.902962</td>\n",
       "    </tr>\n",
       "    <tr>\n",
       "      <th>std</th>\n",
       "      <td>39745.604488</td>\n",
       "      <td>0.283693</td>\n",
       "      <td>0.407093</td>\n",
       "      <td>3.404820</td>\n",
       "      <td>8.864817</td>\n",
       "      <td>1.112078</td>\n",
       "      <td>1.832157</td>\n",
       "      <td>0.390305</td>\n",
       "      <td>0.271437</td>\n",
       "      <td>0.294448</td>\n",
       "      <td>0.055596</td>\n",
       "      <td>0.016732</td>\n",
       "      <td>0.012649</td>\n",
       "      <td>0.110053</td>\n",
       "      <td>0.271437</td>\n",
       "      <td>8.693953</td>\n",
       "      <td>8.939441</td>\n",
       "      <td>10.872892</td>\n",
       "    </tr>\n",
       "    <tr>\n",
       "      <th>min</th>\n",
       "      <td>1.030000</td>\n",
       "      <td>0.000000</td>\n",
       "      <td>2018.000000</td>\n",
       "      <td>1.000000</td>\n",
       "      <td>1.000000</td>\n",
       "      <td>1.000000</td>\n",
       "      <td>0.000000</td>\n",
       "      <td>0.000000</td>\n",
       "      <td>0.000000</td>\n",
       "      <td>0.000000</td>\n",
       "      <td>0.000000</td>\n",
       "      <td>0.000000</td>\n",
       "      <td>0.000000</td>\n",
       "      <td>0.000000</td>\n",
       "      <td>0.000000</td>\n",
       "      <td>1.000000</td>\n",
       "      <td>1.000000</td>\n",
       "      <td>-90.000000</td>\n",
       "    </tr>\n",
       "    <tr>\n",
       "      <th>25%</th>\n",
       "      <td>4762.470000</td>\n",
       "      <td>0.000000</td>\n",
       "      <td>2019.000000</td>\n",
       "      <td>3.000000</td>\n",
       "      <td>8.000000</td>\n",
       "      <td>1.000000</td>\n",
       "      <td>1.000000</td>\n",
       "      <td>0.000000</td>\n",
       "      <td>0.000000</td>\n",
       "      <td>1.000000</td>\n",
       "      <td>0.000000</td>\n",
       "      <td>0.000000</td>\n",
       "      <td>0.000000</td>\n",
       "      <td>0.000000</td>\n",
       "      <td>1.000000</td>\n",
       "      <td>8.000000</td>\n",
       "      <td>8.000000</td>\n",
       "      <td>-3.000000</td>\n",
       "    </tr>\n",
       "    <tr>\n",
       "      <th>50%</th>\n",
       "      <td>17274.100000</td>\n",
       "      <td>0.000000</td>\n",
       "      <td>2019.000000</td>\n",
       "      <td>5.000000</td>\n",
       "      <td>15.000000</td>\n",
       "      <td>2.000000</td>\n",
       "      <td>3.000000</td>\n",
       "      <td>0.000000</td>\n",
       "      <td>0.000000</td>\n",
       "      <td>1.000000</td>\n",
       "      <td>0.000000</td>\n",
       "      <td>0.000000</td>\n",
       "      <td>0.000000</td>\n",
       "      <td>0.000000</td>\n",
       "      <td>1.000000</td>\n",
       "      <td>16.000000</td>\n",
       "      <td>16.000000</td>\n",
       "      <td>0.000000</td>\n",
       "    </tr>\n",
       "    <tr>\n",
       "      <th>75%</th>\n",
       "      <td>47018.400000</td>\n",
       "      <td>0.000000</td>\n",
       "      <td>2019.000000</td>\n",
       "      <td>8.000000</td>\n",
       "      <td>23.000000</td>\n",
       "      <td>3.000000</td>\n",
       "      <td>4.000000</td>\n",
       "      <td>0.000000</td>\n",
       "      <td>0.000000</td>\n",
       "      <td>1.000000</td>\n",
       "      <td>0.000000</td>\n",
       "      <td>0.000000</td>\n",
       "      <td>0.000000</td>\n",
       "      <td>0.000000</td>\n",
       "      <td>1.000000</td>\n",
       "      <td>24.000000</td>\n",
       "      <td>24.000000</td>\n",
       "      <td>2.000000</td>\n",
       "    </tr>\n",
       "    <tr>\n",
       "      <th>max</th>\n",
       "      <td>838758.370000</td>\n",
       "      <td>1.000000</td>\n",
       "      <td>2020.000000</td>\n",
       "      <td>12.000000</td>\n",
       "      <td>31.000000</td>\n",
       "      <td>4.000000</td>\n",
       "      <td>6.000000</td>\n",
       "      <td>1.000000</td>\n",
       "      <td>1.000000</td>\n",
       "      <td>1.000000</td>\n",
       "      <td>1.000000</td>\n",
       "      <td>1.000000</td>\n",
       "      <td>1.000000</td>\n",
       "      <td>1.000000</td>\n",
       "      <td>1.000000</td>\n",
       "      <td>31.000000</td>\n",
       "      <td>31.000000</td>\n",
       "      <td>199.000000</td>\n",
       "    </tr>\n",
       "  </tbody>\n",
       "</table>\n",
       "</div>"
      ],
      "text/plain": [
       "       total_open_amount        isOpen  baseline_create_date_year  \\\n",
       "count       49993.000000  49993.000000               49993.000000   \n",
       "mean        32284.734302      0.088272                2019.200068   \n",
       "std         39745.604488      0.283693                   0.407093   \n",
       "min             1.030000      0.000000                2018.000000   \n",
       "25%          4762.470000      0.000000                2019.000000   \n",
       "50%         17274.100000      0.000000                2019.000000   \n",
       "75%         47018.400000      0.000000                2019.000000   \n",
       "max        838758.370000      1.000000                2020.000000   \n",
       "\n",
       "       baseline_create_date_month  baseline_create_date_day  \\\n",
       "count                49993.000000              49993.000000   \n",
       "mean                     5.527954                 15.292161   \n",
       "std                      3.404820                  8.864817   \n",
       "min                      1.000000                  1.000000   \n",
       "25%                      3.000000                  8.000000   \n",
       "50%                      5.000000                 15.000000   \n",
       "75%                      8.000000                 23.000000   \n",
       "max                     12.000000                 31.000000   \n",
       "\n",
       "       baseline_create_date_quarter  baseline_create_date_day_of_week  \\\n",
       "count                  49993.000000                      49993.000000   \n",
       "mean                       2.197448                          2.698058   \n",
       "std                        1.112078                          1.832157   \n",
       "min                        1.000000                          0.000000   \n",
       "25%                        1.000000                          1.000000   \n",
       "50%                        2.000000                          3.000000   \n",
       "75%                        3.000000                          4.000000   \n",
       "max                        4.000000                          6.000000   \n",
       "\n",
       "       baseline_create_date_isWeekand          CA02          U001  \\\n",
       "count                    49993.000000  49993.000000  49993.000000   \n",
       "mean                         0.187486      0.080091      0.904107   \n",
       "std                          0.390305      0.271437      0.294448   \n",
       "min                          0.000000      0.000000      0.000000   \n",
       "25%                          0.000000      0.000000      1.000000   \n",
       "50%                          0.000000      0.000000      1.000000   \n",
       "75%                          0.000000      0.000000      1.000000   \n",
       "max                          1.000000      1.000000      1.000000   \n",
       "\n",
       "               U002          U005          U007          U013  \\\n",
       "count  49993.000000  49993.000000  49993.000000  49993.000000   \n",
       "mean       0.003100      0.000280      0.000160      0.012262   \n",
       "std        0.055596      0.016732      0.012649      0.110053   \n",
       "min        0.000000      0.000000      0.000000      0.000000   \n",
       "25%        0.000000      0.000000      0.000000      0.000000   \n",
       "50%        0.000000      0.000000      0.000000      0.000000   \n",
       "75%        0.000000      0.000000      0.000000      0.000000   \n",
       "max        1.000000      1.000000      1.000000      1.000000   \n",
       "\n",
       "       invoice_currency_numeric  due_in_date_day  clear_date_day         Delay  \n",
       "count              49993.000000     49993.000000    45580.000000  45580.000000  \n",
       "mean                   0.919909        15.960294       15.949188      0.902962  \n",
       "std                    0.271437         8.693953        8.939441     10.872892  \n",
       "min                    0.000000         1.000000        1.000000    -90.000000  \n",
       "25%                    1.000000         8.000000        8.000000     -3.000000  \n",
       "50%                    1.000000        16.000000       16.000000      0.000000  \n",
       "75%                    1.000000        24.000000       24.000000      2.000000  \n",
       "max                    1.000000        31.000000       31.000000    199.000000  "
      ]
     },
     "execution_count": 390,
     "metadata": {},
     "output_type": "execute_result"
    }
   ],
   "source": [
    "df.describe()"
   ]
  },
  {
   "cell_type": "code",
   "execution_count": 410,
   "metadata": {},
   "outputs": [
    {
     "data": {
      "text/plain": [
       "cust_number                                 object\n",
       "name_customer                               object\n",
       "clear_date                          datetime64[ns]\n",
       "due_in_date                         datetime64[ns]\n",
       "total_open_amount                          float64\n",
       "baseline_create_date                datetime64[ns]\n",
       "cust_payment_terms                          object\n",
       "isOpen                                       int64\n",
       "baseline_create_date_year                    int64\n",
       "baseline_create_date_month                   int64\n",
       "baseline_create_date_day                     int64\n",
       "baseline_create_date_quarter                 int64\n",
       "baseline_create_date_day_of_week             int64\n",
       "baseline_create_date_isWeekand               int32\n",
       "CA02                                       float64\n",
       "U001                                       float64\n",
       "U002                                       float64\n",
       "U005                                       float64\n",
       "U007                                       float64\n",
       "U013                                       float64\n",
       "invoice_currency_numeric                     int32\n",
       "due_in_date_day                              int64\n",
       "clear_date_day                             float64\n",
       "Delay                                      float64\n",
       "total_open_amount_log                      float64\n",
       "total_open_amount_cube                     float64\n",
       "Avg_delay                                  float64\n",
       "dtype: object"
      ]
     },
     "execution_count": 410,
     "metadata": {},
     "output_type": "execute_result"
    }
   ],
   "source": [
    "df.dtypes"
   ]
  },
  {
   "cell_type": "markdown",
   "metadata": {},
   "source": [
    "## Target Encoding"
   ]
  },
  {
   "cell_type": "code",
   "execution_count": 441,
   "metadata": {},
   "outputs": [],
   "source": [
    "mapper = df.groupby('cust_number')['Delay'].mean().to_dict()"
   ]
  },
  {
   "cell_type": "code",
   "execution_count": 442,
   "metadata": {},
   "outputs": [],
   "source": [
    "df['Avg_delay'] = df['cust_number'].map(mapper)"
   ]
  },
  {
   "cell_type": "code",
   "execution_count": 443,
   "metadata": {},
   "outputs": [],
   "source": [
    "mapper1 = df.groupby('cust_payment_terms')['total_open_amount_cube'].mean().to_dict()"
   ]
  },
  {
   "cell_type": "code",
   "execution_count": 444,
   "metadata": {},
   "outputs": [],
   "source": [
    "df['Avg_amount_cube'] = df['cust_payment_terms'].map(mapper1)"
   ]
  },
  {
   "cell_type": "code",
   "execution_count": 445,
   "metadata": {},
   "outputs": [],
   "source": [
    "mapper2 = df.groupby('cust_payment_terms')['total_open_amount'].mean().to_dict()"
   ]
  },
  {
   "cell_type": "code",
   "execution_count": 446,
   "metadata": {},
   "outputs": [],
   "source": [
    "df['Avg_amount'] = df['cust_payment_terms'].map(mapper2)"
   ]
  },
  {
   "cell_type": "code",
   "execution_count": 455,
   "metadata": {},
   "outputs": [],
   "source": [
    "mapper3 = df.groupby('cust_payment_terms')['total_open_amount_log'].mean().to_dict()"
   ]
  },
  {
   "cell_type": "code",
   "execution_count": 456,
   "metadata": {},
   "outputs": [],
   "source": [
    "df['Avg_amount_log'] = df['cust_payment_terms'].map(mapper3)"
   ]
  },
  {
   "cell_type": "code",
   "execution_count": 435,
   "metadata": {},
   "outputs": [],
   "source": [
    "#mapper1 = df.groupby('cust_payment_terms')['total_open_amount_cube'].mean().to_dict()"
   ]
  },
  {
   "cell_type": "code",
   "execution_count": 409,
   "metadata": {},
   "outputs": [],
   "source": [
    "#df['Avg_delay']= df['cust_number'].map(mapper)"
   ]
  },
  {
   "cell_type": "code",
   "execution_count": 436,
   "metadata": {},
   "outputs": [],
   "source": [
    "#df['A1'] =df['cust_payment_terms'].map(mapper1)"
   ]
  },
  {
   "cell_type": "code",
   "execution_count": null,
   "metadata": {},
   "outputs": [],
   "source": []
  },
  {
   "cell_type": "code",
   "execution_count": 412,
   "metadata": {},
   "outputs": [
    {
     "data": {
      "text/plain": [
       "count    49957.000000\n",
       "mean         0.831791\n",
       "std          7.176217\n",
       "min        -79.000000\n",
       "25%         -2.236299\n",
       "50%          0.333333\n",
       "75%          1.642327\n",
       "max        197.000000\n",
       "Name: Avg_delay, dtype: float64"
      ]
     },
     "execution_count": 412,
     "metadata": {},
     "output_type": "execute_result"
    }
   ],
   "source": [
    "df['Avg_delay'].describe()"
   ]
  },
  {
   "cell_type": "code",
   "execution_count": 424,
   "metadata": {},
   "outputs": [
    {
     "data": {
      "text/plain": [
       "-2.662502292878049"
      ]
     },
     "execution_count": 424,
     "metadata": {},
     "output_type": "execute_result"
    }
   ],
   "source": [
    "df['avg_total_open_amount'].skew()"
   ]
  },
  {
   "cell_type": "code",
   "execution_count": 426,
   "metadata": {},
   "outputs": [
    {
     "name": "stderr",
     "output_type": "stream",
     "text": [
      "C:\\Users\\xyz\\anaconda3\\lib\\site-packages\\seaborn\\distributions.py:2551: FutureWarning: `distplot` is a deprecated function and will be removed in a future version. Please adapt your code to use either `displot` (a figure-level function with similar flexibility) or `histplot` (an axes-level function for histograms).\n",
      "  warnings.warn(msg, FutureWarning)\n"
     ]
    },
    {
     "data": {
      "text/plain": [
       "<AxesSubplot:xlabel='Avg_delay', ylabel='Density'>"
      ]
     },
     "execution_count": 426,
     "metadata": {},
     "output_type": "execute_result"
    },
    {
     "data": {
      "image/png": "[encoded data removed]",
      "text/plain": [
       "<Figure size 432x288 with 1 Axes>"
      ]
     },
     "metadata": {
      "needs_background": "light"
     },
     "output_type": "display_data"
    }
   ],
   "source": [
    "sns.distplot((df['Avg_delay']))"
   ]
  },
  {
   "cell_type": "code",
   "execution_count": 425,
   "metadata": {},
   "outputs": [
    {
     "name": "stderr",
     "output_type": "stream",
     "text": [
      "C:\\Users\\xyz\\anaconda3\\lib\\site-packages\\seaborn\\distributions.py:2551: FutureWarning: `distplot` is a deprecated function and will be removed in a future version. Please adapt your code to use either `displot` (a figure-level function with similar flexibility) or `histplot` (an axes-level function for histograms).\n",
      "  warnings.warn(msg, FutureWarning)\n"
     ]
    },
    {
     "data": {
      "text/plain": [
       "<AxesSubplot:xlabel='avg_total_open_amount', ylabel='Density'>"
      ]
     },
     "execution_count": 425,
     "metadata": {},
     "output_type": "execute_result"
    },
    {
     "data": {
      "image/png": "[encoded data removed]",
      "text/plain": [
       "<Figure size 432x288 with 1 Axes>"
      ]
     },
     "metadata": {
      "needs_background": "light"
     },
     "output_type": "display_data"
    }
   ],
   "source": [
    "sns.distplot((df['avg_total_open_amount']))"
   ]
  },
  {
   "cell_type": "code",
   "execution_count": 458,
   "metadata": {},
   "outputs": [
    {
     "data": {
      "text/html": [
       "<div>\n",
       "<style scoped>\n",
       "    .dataframe tbody tr th:only-of-type {\n",
       "        vertical-align: middle;\n",
       "    }\n",
       "\n",
       "    .dataframe tbody tr th {\n",
       "        vertical-align: top;\n",
       "    }\n",
       "\n",
       "    .dataframe thead th {\n",
       "        text-align: right;\n",
       "    }\n",
       "</style>\n",
       "<table border=\"1\" class=\"dataframe\">\n",
       "  <thead>\n",
       "    <tr style=\"text-align: right;\">\n",
       "      <th></th>\n",
       "      <th>cust_number</th>\n",
       "      <th>name_customer</th>\n",
       "      <th>clear_date</th>\n",
       "      <th>due_in_date</th>\n",
       "      <th>total_open_amount</th>\n",
       "      <th>baseline_create_date</th>\n",
       "      <th>cust_payment_terms</th>\n",
       "      <th>baseline_create_date_year</th>\n",
       "      <th>baseline_create_date_month</th>\n",
       "      <th>baseline_create_date_day</th>\n",
       "      <th>...</th>\n",
       "      <th>invoice_currency_numeric</th>\n",
       "      <th>due_in_date_day</th>\n",
       "      <th>clear_date_day</th>\n",
       "      <th>Delay</th>\n",
       "      <th>total_open_amount_log</th>\n",
       "      <th>total_open_amount_cube</th>\n",
       "      <th>Avg_delay</th>\n",
       "      <th>Avg_amount_cube</th>\n",
       "      <th>Avg_amount</th>\n",
       "      <th>Avg_amount_log</th>\n",
       "    </tr>\n",
       "  </thead>\n",
       "  <tbody>\n",
       "    <tr>\n",
       "      <th>0</th>\n",
       "      <td>0140104392</td>\n",
       "      <td>FLANAG foundation</td>\n",
       "      <td>2019-04-29</td>\n",
       "      <td>2019-04-22</td>\n",
       "      <td>4398.10</td>\n",
       "      <td>2019-04-12</td>\n",
       "      <td>CA10</td>\n",
       "      <td>2019</td>\n",
       "      <td>4</td>\n",
       "      <td>12</td>\n",
       "      <td>...</td>\n",
       "      <td>0</td>\n",
       "      <td>22</td>\n",
       "      <td>29.0</td>\n",
       "      <td>7.0</td>\n",
       "      <td>8.388928</td>\n",
       "      <td>16.384066</td>\n",
       "      <td>7.291667</td>\n",
       "      <td>32.465979</td>\n",
       "      <td>57417.838284</td>\n",
       "      <td>10.045028</td>\n",
       "    </tr>\n",
       "    <tr>\n",
       "      <th>1</th>\n",
       "      <td>0200759878</td>\n",
       "      <td>SA in</td>\n",
       "      <td>2019-05-20</td>\n",
       "      <td>2019-05-17</td>\n",
       "      <td>15725.29</td>\n",
       "      <td>2019-05-02</td>\n",
       "      <td>NAH4</td>\n",
       "      <td>2019</td>\n",
       "      <td>5</td>\n",
       "      <td>2</td>\n",
       "      <td>...</td>\n",
       "      <td>1</td>\n",
       "      <td>17</td>\n",
       "      <td>20.0</td>\n",
       "      <td>3.0</td>\n",
       "      <td>9.663026</td>\n",
       "      <td>25.053374</td>\n",
       "      <td>1.139188</td>\n",
       "      <td>24.848175</td>\n",
       "      <td>23208.114691</td>\n",
       "      <td>9.285197</td>\n",
       "    </tr>\n",
       "    <tr>\n",
       "      <th>2</th>\n",
       "      <td>0200865666</td>\n",
       "      <td>RESTAU associates</td>\n",
       "      <td>2019-11-14</td>\n",
       "      <td>2019-11-14</td>\n",
       "      <td>3816.99</td>\n",
       "      <td>2019-10-30</td>\n",
       "      <td>NAA8</td>\n",
       "      <td>2019</td>\n",
       "      <td>10</td>\n",
       "      <td>30</td>\n",
       "      <td>...</td>\n",
       "      <td>1</td>\n",
       "      <td>14</td>\n",
       "      <td>14.0</td>\n",
       "      <td>0.0</td>\n",
       "      <td>8.247217</td>\n",
       "      <td>15.628130</td>\n",
       "      <td>2.339623</td>\n",
       "      <td>28.096296</td>\n",
       "      <td>37175.282240</td>\n",
       "      <td>9.533915</td>\n",
       "    </tr>\n",
       "  </tbody>\n",
       "</table>\n",
       "<p>3 rows × 29 columns</p>\n",
       "</div>"
      ],
      "text/plain": [
       "  cust_number      name_customer clear_date due_in_date  total_open_amount  \\\n",
       "0  0140104392  FLANAG foundation 2019-04-29  2019-04-22            4398.10   \n",
       "1  0200759878              SA in 2019-05-20  2019-05-17           15725.29   \n",
       "2  0200865666  RESTAU associates 2019-11-14  2019-11-14            3816.99   \n",
       "\n",
       "  baseline_create_date cust_payment_terms  baseline_create_date_year  \\\n",
       "0           2019-04-12               CA10                       2019   \n",
       "1           2019-05-02               NAH4                       2019   \n",
       "2           2019-10-30               NAA8                       2019   \n",
       "\n",
       "   baseline_create_date_month  baseline_create_date_day  ...  \\\n",
       "0                           4                        12  ...   \n",
       "1                           5                         2  ...   \n",
       "2                          10                        30  ...   \n",
       "\n",
       "   invoice_currency_numeric  due_in_date_day  clear_date_day  Delay  \\\n",
       "0                         0               22            29.0    7.0   \n",
       "1                         1               17            20.0    3.0   \n",
       "2                         1               14            14.0    0.0   \n",
       "\n",
       "   total_open_amount_log  total_open_amount_cube  Avg_delay  Avg_amount_cube  \\\n",
       "0               8.388928               16.384066   7.291667        32.465979   \n",
       "1               9.663026               25.053374   1.139188        24.848175   \n",
       "2               8.247217               15.628130   2.339623        28.096296   \n",
       "\n",
       "     Avg_amount  Avg_amount_log  \n",
       "0  57417.838284       10.045028  \n",
       "1  23208.114691        9.285197  \n",
       "2  37175.282240        9.533915  \n",
       "\n",
       "[3 rows x 29 columns]"
      ]
     },
     "execution_count": 458,
     "metadata": {},
     "output_type": "execute_result"
    }
   ],
   "source": [
    "df.head(3)"
   ]
  },
  {
   "cell_type": "code",
   "execution_count": 459,
   "metadata": {},
   "outputs": [
    {
     "data": {
      "text/plain": [
       "cust_number                                 object\n",
       "name_customer                               object\n",
       "clear_date                          datetime64[ns]\n",
       "due_in_date                         datetime64[ns]\n",
       "total_open_amount                          float64\n",
       "baseline_create_date                datetime64[ns]\n",
       "cust_payment_terms                          object\n",
       "baseline_create_date_year                    int64\n",
       "baseline_create_date_month                   int64\n",
       "baseline_create_date_day                     int64\n",
       "baseline_create_date_quarter                 int64\n",
       "baseline_create_date_day_of_week             int64\n",
       "baseline_create_date_isWeekand               int32\n",
       "CA02                                       float64\n",
       "U001                                       float64\n",
       "U002                                       float64\n",
       "U005                                       float64\n",
       "U007                                       float64\n",
       "U013                                       float64\n",
       "invoice_currency_numeric                     int32\n",
       "due_in_date_day                              int64\n",
       "clear_date_day                             float64\n",
       "Delay                                      float64\n",
       "total_open_amount_log                      float64\n",
       "total_open_amount_cube                     float64\n",
       "Avg_delay                                  float64\n",
       "Avg_amount_cube                            float64\n",
       "Avg_amount                                 float64\n",
       "Avg_amount_log                             float64\n",
       "dtype: object"
      ]
     },
     "execution_count": 459,
     "metadata": {},
     "output_type": "execute_result"
    }
   ],
   "source": [
    "df.dtypes"
   ]
  },
  {
   "cell_type": "code",
   "execution_count": 468,
   "metadata": {},
   "outputs": [
    {
     "data": {
      "text/plain": [
       "2019    39707\n",
       "2020    10144\n",
       "2018      142\n",
       "Name: baseline_create_date_year, dtype: int64"
      ]
     },
     "execution_count": 468,
     "metadata": {},
     "output_type": "execute_result"
    }
   ],
   "source": [
    "df['baseline_create_date_year'].value_counts()"
   ]
  },
  {
   "cell_type": "markdown",
   "metadata": {},
   "source": [
    "## Label Encoding"
   ]
  },
  {
   "cell_type": "code",
   "execution_count": 556,
   "metadata": {},
   "outputs": [],
   "source": [
    "from sklearn import preprocessing \n",
    "label_encoder = preprocessing.LabelEncoder()\n",
    "test['baseline_create_date_year']= label_encoder.fit_transform(test['baseline_create_date_year']) "
   ]
  },
  {
   "cell_type": "markdown",
   "metadata": {},
   "source": [
    "## Train test Split "
   ]
  },
  {
   "cell_type": "code",
   "execution_count": 487,
   "metadata": {},
   "outputs": [],
   "source": [
    "test = df[df['Delay'].isnull()].copy()\n"
   ]
  },
  {
   "cell_type": "code",
   "execution_count": 554,
   "metadata": {},
   "outputs": [
    {
     "data": {
      "text/plain": [
       "(4413, 21)"
      ]
     },
     "execution_count": 554,
     "metadata": {},
     "output_type": "execute_result"
    }
   ],
   "source": [
    "test.shape"
   ]
  },
  {
   "cell_type": "code",
   "execution_count": 588,
   "metadata": {},
   "outputs": [],
   "source": [
    "x_test = test.copy()"
   ]
  },
  {
   "cell_type": "code",
   "execution_count": 590,
   "metadata": {},
   "outputs": [],
   "source": [
    "x_test.drop(['Delay'],axis=1,inplace =True)"
   ]
  },
  {
   "cell_type": "code",
   "execution_count": 591,
   "metadata": {},
   "outputs": [
    {
     "data": {
      "text/plain": [
       "(4413, 20)"
      ]
     },
     "execution_count": 591,
     "metadata": {},
     "output_type": "execute_result"
    }
   ],
   "source": [
    "x_test.shape"
   ]
  },
  {
   "cell_type": "code",
   "execution_count": 592,
   "metadata": {},
   "outputs": [],
   "source": [
    "y_test = test['Delay'].copy()"
   ]
  },
  {
   "cell_type": "code",
   "execution_count": 593,
   "metadata": {},
   "outputs": [
    {
     "data": {
      "text/plain": [
       "(4413,)"
      ]
     },
     "execution_count": 593,
     "metadata": {},
     "output_type": "execute_result"
    }
   ],
   "source": [
    "y_test.shape"
   ]
  },
  {
   "cell_type": "code",
   "execution_count": 558,
   "metadata": {},
   "outputs": [
    {
     "data": {
      "text/html": [
       "<div>\n",
       "<style scoped>\n",
       "    .dataframe tbody tr th:only-of-type {\n",
       "        vertical-align: middle;\n",
       "    }\n",
       "\n",
       "    .dataframe tbody tr th {\n",
       "        vertical-align: top;\n",
       "    }\n",
       "\n",
       "    .dataframe thead th {\n",
       "        text-align: right;\n",
       "    }\n",
       "</style>\n",
       "<table border=\"1\" class=\"dataframe\">\n",
       "  <thead>\n",
       "    <tr style=\"text-align: right;\">\n",
       "      <th></th>\n",
       "      <th>baseline_create_date_year</th>\n",
       "      <th>baseline_create_date_month</th>\n",
       "      <th>baseline_create_date_day</th>\n",
       "      <th>baseline_create_date_quarter</th>\n",
       "      <th>baseline_create_date_day_of_week</th>\n",
       "      <th>baseline_create_date_isWeekand</th>\n",
       "      <th>CA02</th>\n",
       "      <th>U001</th>\n",
       "      <th>U002</th>\n",
       "      <th>U005</th>\n",
       "      <th>...</th>\n",
       "      <th>U013</th>\n",
       "      <th>invoice_currency_numeric</th>\n",
       "      <th>due_in_date_day</th>\n",
       "      <th>Delay</th>\n",
       "      <th>total_open_amount_log</th>\n",
       "      <th>total_open_amount_cube</th>\n",
       "      <th>Avg_delay</th>\n",
       "      <th>Avg_amount_cube</th>\n",
       "      <th>Avg_amount</th>\n",
       "      <th>Avg_amount_log</th>\n",
       "    </tr>\n",
       "  </thead>\n",
       "  <tbody>\n",
       "    <tr>\n",
       "      <th>45587</th>\n",
       "      <td>0</td>\n",
       "      <td>3</td>\n",
       "      <td>20</td>\n",
       "      <td>1</td>\n",
       "      <td>4</td>\n",
       "      <td>0</td>\n",
       "      <td>0.0</td>\n",
       "      <td>1.0</td>\n",
       "      <td>0.0</td>\n",
       "      <td>0.0</td>\n",
       "      <td>...</td>\n",
       "      <td>0.0</td>\n",
       "      <td>1</td>\n",
       "      <td>24</td>\n",
       "      <td>NaN</td>\n",
       "      <td>10.834429</td>\n",
       "      <td>37.020665</td>\n",
       "      <td>7.867403</td>\n",
       "      <td>26.849996</td>\n",
       "      <td>23824.497103</td>\n",
       "      <td>9.745574</td>\n",
       "    </tr>\n",
       "    <tr>\n",
       "      <th>45588</th>\n",
       "      <td>0</td>\n",
       "      <td>3</td>\n",
       "      <td>20</td>\n",
       "      <td>1</td>\n",
       "      <td>4</td>\n",
       "      <td>0</td>\n",
       "      <td>0.0</td>\n",
       "      <td>1.0</td>\n",
       "      <td>0.0</td>\n",
       "      <td>0.0</td>\n",
       "      <td>...</td>\n",
       "      <td>0.0</td>\n",
       "      <td>1</td>\n",
       "      <td>4</td>\n",
       "      <td>NaN</td>\n",
       "      <td>10.565227</td>\n",
       "      <td>33.843348</td>\n",
       "      <td>2.653846</td>\n",
       "      <td>28.096296</td>\n",
       "      <td>37175.282240</td>\n",
       "      <td>9.533915</td>\n",
       "    </tr>\n",
       "    <tr>\n",
       "      <th>45589</th>\n",
       "      <td>0</td>\n",
       "      <td>3</td>\n",
       "      <td>9</td>\n",
       "      <td>1</td>\n",
       "      <td>0</td>\n",
       "      <td>0</td>\n",
       "      <td>1.0</td>\n",
       "      <td>0.0</td>\n",
       "      <td>0.0</td>\n",
       "      <td>0.0</td>\n",
       "      <td>...</td>\n",
       "      <td>0.0</td>\n",
       "      <td>0</td>\n",
       "      <td>19</td>\n",
       "      <td>NaN</td>\n",
       "      <td>9.769836</td>\n",
       "      <td>25.961432</td>\n",
       "      <td>-0.555556</td>\n",
       "      <td>32.465979</td>\n",
       "      <td>57417.838284</td>\n",
       "      <td>10.045028</td>\n",
       "    </tr>\n",
       "    <tr>\n",
       "      <th>45590</th>\n",
       "      <td>0</td>\n",
       "      <td>5</td>\n",
       "      <td>1</td>\n",
       "      <td>2</td>\n",
       "      <td>4</td>\n",
       "      <td>0</td>\n",
       "      <td>0.0</td>\n",
       "      <td>1.0</td>\n",
       "      <td>0.0</td>\n",
       "      <td>0.0</td>\n",
       "      <td>...</td>\n",
       "      <td>0.0</td>\n",
       "      <td>1</td>\n",
       "      <td>16</td>\n",
       "      <td>NaN</td>\n",
       "      <td>9.598599</td>\n",
       "      <td>24.521076</td>\n",
       "      <td>-2.236299</td>\n",
       "      <td>24.848175</td>\n",
       "      <td>23208.114691</td>\n",
       "      <td>9.285197</td>\n",
       "    </tr>\n",
       "    <tr>\n",
       "      <th>45591</th>\n",
       "      <td>0</td>\n",
       "      <td>3</td>\n",
       "      <td>20</td>\n",
       "      <td>1</td>\n",
       "      <td>4</td>\n",
       "      <td>0</td>\n",
       "      <td>0.0</td>\n",
       "      <td>1.0</td>\n",
       "      <td>0.0</td>\n",
       "      <td>0.0</td>\n",
       "      <td>...</td>\n",
       "      <td>0.0</td>\n",
       "      <td>1</td>\n",
       "      <td>4</td>\n",
       "      <td>NaN</td>\n",
       "      <td>10.980206</td>\n",
       "      <td>38.864012</td>\n",
       "      <td>-2.236299</td>\n",
       "      <td>24.848175</td>\n",
       "      <td>23208.114691</td>\n",
       "      <td>9.285197</td>\n",
       "    </tr>\n",
       "    <tr>\n",
       "      <th>45592</th>\n",
       "      <td>0</td>\n",
       "      <td>4</td>\n",
       "      <td>29</td>\n",
       "      <td>2</td>\n",
       "      <td>2</td>\n",
       "      <td>0</td>\n",
       "      <td>0.0</td>\n",
       "      <td>1.0</td>\n",
       "      <td>0.0</td>\n",
       "      <td>0.0</td>\n",
       "      <td>...</td>\n",
       "      <td>0.0</td>\n",
       "      <td>1</td>\n",
       "      <td>14</td>\n",
       "      <td>NaN</td>\n",
       "      <td>9.296271</td>\n",
       "      <td>22.170378</td>\n",
       "      <td>0.658892</td>\n",
       "      <td>28.096296</td>\n",
       "      <td>37175.282240</td>\n",
       "      <td>9.533915</td>\n",
       "    </tr>\n",
       "    <tr>\n",
       "      <th>45593</th>\n",
       "      <td>0</td>\n",
       "      <td>3</td>\n",
       "      <td>27</td>\n",
       "      <td>1</td>\n",
       "      <td>4</td>\n",
       "      <td>0</td>\n",
       "      <td>0.0</td>\n",
       "      <td>1.0</td>\n",
       "      <td>0.0</td>\n",
       "      <td>0.0</td>\n",
       "      <td>...</td>\n",
       "      <td>0.0</td>\n",
       "      <td>1</td>\n",
       "      <td>11</td>\n",
       "      <td>NaN</td>\n",
       "      <td>8.374468</td>\n",
       "      <td>16.305284</td>\n",
       "      <td>0.839623</td>\n",
       "      <td>26.137560</td>\n",
       "      <td>24814.293701</td>\n",
       "      <td>9.580154</td>\n",
       "    </tr>\n",
       "    <tr>\n",
       "      <th>45594</th>\n",
       "      <td>0</td>\n",
       "      <td>3</td>\n",
       "      <td>8</td>\n",
       "      <td>1</td>\n",
       "      <td>6</td>\n",
       "      <td>1</td>\n",
       "      <td>0.0</td>\n",
       "      <td>1.0</td>\n",
       "      <td>0.0</td>\n",
       "      <td>0.0</td>\n",
       "      <td>...</td>\n",
       "      <td>0.0</td>\n",
       "      <td>1</td>\n",
       "      <td>23</td>\n",
       "      <td>NaN</td>\n",
       "      <td>8.921781</td>\n",
       "      <td>19.568612</td>\n",
       "      <td>-2.236299</td>\n",
       "      <td>24.848175</td>\n",
       "      <td>23208.114691</td>\n",
       "      <td>9.285197</td>\n",
       "    </tr>\n",
       "    <tr>\n",
       "      <th>45595</th>\n",
       "      <td>0</td>\n",
       "      <td>5</td>\n",
       "      <td>5</td>\n",
       "      <td>2</td>\n",
       "      <td>1</td>\n",
       "      <td>0</td>\n",
       "      <td>0.0</td>\n",
       "      <td>1.0</td>\n",
       "      <td>0.0</td>\n",
       "      <td>0.0</td>\n",
       "      <td>...</td>\n",
       "      <td>0.0</td>\n",
       "      <td>1</td>\n",
       "      <td>20</td>\n",
       "      <td>NaN</td>\n",
       "      <td>9.705187</td>\n",
       "      <td>25.407957</td>\n",
       "      <td>-0.311475</td>\n",
       "      <td>32.625853</td>\n",
       "      <td>50260.762826</td>\n",
       "      <td>10.179660</td>\n",
       "    </tr>\n",
       "    <tr>\n",
       "      <th>45596</th>\n",
       "      <td>0</td>\n",
       "      <td>3</td>\n",
       "      <td>20</td>\n",
       "      <td>1</td>\n",
       "      <td>4</td>\n",
       "      <td>0</td>\n",
       "      <td>0.0</td>\n",
       "      <td>1.0</td>\n",
       "      <td>0.0</td>\n",
       "      <td>0.0</td>\n",
       "      <td>...</td>\n",
       "      <td>0.0</td>\n",
       "      <td>1</td>\n",
       "      <td>4</td>\n",
       "      <td>NaN</td>\n",
       "      <td>11.070094</td>\n",
       "      <td>40.046099</td>\n",
       "      <td>1.000000</td>\n",
       "      <td>28.096296</td>\n",
       "      <td>37175.282240</td>\n",
       "      <td>9.533915</td>\n",
       "    </tr>\n",
       "  </tbody>\n",
       "</table>\n",
       "<p>10 rows × 21 columns</p>\n",
       "</div>"
      ],
      "text/plain": [
       "       baseline_create_date_year  baseline_create_date_month  \\\n",
       "45587                          0                           3   \n",
       "45588                          0                           3   \n",
       "45589                          0                           3   \n",
       "45590                          0                           5   \n",
       "45591                          0                           3   \n",
       "45592                          0                           4   \n",
       "45593                          0                           3   \n",
       "45594                          0                           3   \n",
       "45595                          0                           5   \n",
       "45596                          0                           3   \n",
       "\n",
       "       baseline_create_date_day  baseline_create_date_quarter  \\\n",
       "45587                        20                             1   \n",
       "45588                        20                             1   \n",
       "45589                         9                             1   \n",
       "45590                         1                             2   \n",
       "45591                        20                             1   \n",
       "45592                        29                             2   \n",
       "45593                        27                             1   \n",
       "45594                         8                             1   \n",
       "45595                         5                             2   \n",
       "45596                        20                             1   \n",
       "\n",
       "       baseline_create_date_day_of_week  baseline_create_date_isWeekand  CA02  \\\n",
       "45587                                 4                               0   0.0   \n",
       "45588                                 4                               0   0.0   \n",
       "45589                                 0                               0   1.0   \n",
       "45590                                 4                               0   0.0   \n",
       "45591                                 4                               0   0.0   \n",
       "45592                                 2                               0   0.0   \n",
       "45593                                 4                               0   0.0   \n",
       "45594                                 6                               1   0.0   \n",
       "45595                                 1                               0   0.0   \n",
       "45596                                 4                               0   0.0   \n",
       "\n",
       "       U001  U002  U005  ...  U013  invoice_currency_numeric  due_in_date_day  \\\n",
       "45587   1.0   0.0   0.0  ...   0.0                         1               24   \n",
       "45588   1.0   0.0   0.0  ...   0.0                         1                4   \n",
       "45589   0.0   0.0   0.0  ...   0.0                         0               19   \n",
       "45590   1.0   0.0   0.0  ...   0.0                         1               16   \n",
       "45591   1.0   0.0   0.0  ...   0.0                         1                4   \n",
       "45592   1.0   0.0   0.0  ...   0.0                         1               14   \n",
       "45593   1.0   0.0   0.0  ...   0.0                         1               11   \n",
       "45594   1.0   0.0   0.0  ...   0.0                         1               23   \n",
       "45595   1.0   0.0   0.0  ...   0.0                         1               20   \n",
       "45596   1.0   0.0   0.0  ...   0.0                         1                4   \n",
       "\n",
       "       Delay  total_open_amount_log  total_open_amount_cube  Avg_delay  \\\n",
       "45587    NaN              10.834429               37.020665   7.867403   \n",
       "45588    NaN              10.565227               33.843348   2.653846   \n",
       "45589    NaN               9.769836               25.961432  -0.555556   \n",
       "45590    NaN               9.598599               24.521076  -2.236299   \n",
       "45591    NaN              10.980206               38.864012  -2.236299   \n",
       "45592    NaN               9.296271               22.170378   0.658892   \n",
       "45593    NaN               8.374468               16.305284   0.839623   \n",
       "45594    NaN               8.921781               19.568612  -2.236299   \n",
       "45595    NaN               9.705187               25.407957  -0.311475   \n",
       "45596    NaN              11.070094               40.046099   1.000000   \n",
       "\n",
       "       Avg_amount_cube    Avg_amount  Avg_amount_log  \n",
       "45587        26.849996  23824.497103        9.745574  \n",
       "45588        28.096296  37175.282240        9.533915  \n",
       "45589        32.465979  57417.838284       10.045028  \n",
       "45590        24.848175  23208.114691        9.285197  \n",
       "45591        24.848175  23208.114691        9.285197  \n",
       "45592        28.096296  37175.282240        9.533915  \n",
       "45593        26.137560  24814.293701        9.580154  \n",
       "45594        24.848175  23208.114691        9.285197  \n",
       "45595        32.625853  50260.762826       10.179660  \n",
       "45596        28.096296  37175.282240        9.533915  \n",
       "\n",
       "[10 rows x 21 columns]"
      ]
     },
     "execution_count": 558,
     "metadata": {},
     "output_type": "execute_result"
    }
   ],
   "source": [
    "test.head(10)"
   ]
  },
  {
   "cell_type": "code",
   "execution_count": 561,
   "metadata": {},
   "outputs": [
    {
     "data": {
      "text/plain": [
       "baseline_create_date_year              0\n",
       "baseline_create_date_month             0\n",
       "baseline_create_date_day               0\n",
       "baseline_create_date_quarter           0\n",
       "baseline_create_date_day_of_week       0\n",
       "baseline_create_date_isWeekand         0\n",
       "CA02                                   0\n",
       "U001                                   0\n",
       "U002                                   0\n",
       "U005                                   0\n",
       "U007                                   0\n",
       "U013                                   0\n",
       "invoice_currency_numeric               0\n",
       "due_in_date_day                        0\n",
       "Delay                               4413\n",
       "total_open_amount_log                  0\n",
       "total_open_amount_cube                 0\n",
       "Avg_delay                             36\n",
       "Avg_amount_cube                        0\n",
       "Avg_amount                             0\n",
       "Avg_amount_log                         0\n",
       "dtype: int64"
      ]
     },
     "execution_count": 561,
     "metadata": {},
     "output_type": "execute_result"
    }
   ],
   "source": [
    "test.isnull().sum()"
   ]
  },
  {
   "cell_type": "code",
   "execution_count": 555,
   "metadata": {},
   "outputs": [
    {
     "data": {
      "text/html": [
       "<div>\n",
       "<style scoped>\n",
       "    .dataframe tbody tr th:only-of-type {\n",
       "        vertical-align: middle;\n",
       "    }\n",
       "\n",
       "    .dataframe tbody tr th {\n",
       "        vertical-align: top;\n",
       "    }\n",
       "\n",
       "    .dataframe thead th {\n",
       "        text-align: right;\n",
       "    }\n",
       "</style>\n",
       "<table border=\"1\" class=\"dataframe\">\n",
       "  <thead>\n",
       "    <tr style=\"text-align: right;\">\n",
       "      <th></th>\n",
       "      <th>baseline_create_date_year</th>\n",
       "      <th>baseline_create_date_month</th>\n",
       "      <th>baseline_create_date_day</th>\n",
       "      <th>baseline_create_date_quarter</th>\n",
       "      <th>baseline_create_date_day_of_week</th>\n",
       "      <th>baseline_create_date_isWeekand</th>\n",
       "      <th>CA02</th>\n",
       "      <th>U001</th>\n",
       "      <th>U002</th>\n",
       "      <th>U005</th>\n",
       "      <th>...</th>\n",
       "      <th>U013</th>\n",
       "      <th>invoice_currency_numeric</th>\n",
       "      <th>due_in_date_day</th>\n",
       "      <th>Delay</th>\n",
       "      <th>total_open_amount_log</th>\n",
       "      <th>total_open_amount_cube</th>\n",
       "      <th>Avg_delay</th>\n",
       "      <th>Avg_amount_cube</th>\n",
       "      <th>Avg_amount</th>\n",
       "      <th>Avg_amount_log</th>\n",
       "    </tr>\n",
       "  </thead>\n",
       "  <tbody>\n",
       "    <tr>\n",
       "      <th>count</th>\n",
       "      <td>4413.0</td>\n",
       "      <td>4413.000000</td>\n",
       "      <td>4413.000000</td>\n",
       "      <td>4413.000000</td>\n",
       "      <td>4413.000000</td>\n",
       "      <td>4413.000000</td>\n",
       "      <td>4413.000000</td>\n",
       "      <td>4413.000000</td>\n",
       "      <td>4413.000000</td>\n",
       "      <td>4413.000000</td>\n",
       "      <td>...</td>\n",
       "      <td>4413.000000</td>\n",
       "      <td>4413.000000</td>\n",
       "      <td>4413.000000</td>\n",
       "      <td>0.0</td>\n",
       "      <td>4413.000000</td>\n",
       "      <td>4413.000000</td>\n",
       "      <td>4377.000000</td>\n",
       "      <td>4413.000000</td>\n",
       "      <td>4413.000000</td>\n",
       "      <td>4413.000000</td>\n",
       "    </tr>\n",
       "    <tr>\n",
       "      <th>mean</th>\n",
       "      <td>0.0</td>\n",
       "      <td>3.572853</td>\n",
       "      <td>14.635395</td>\n",
       "      <td>1.489010</td>\n",
       "      <td>2.761160</td>\n",
       "      <td>0.200544</td>\n",
       "      <td>0.076365</td>\n",
       "      <td>0.917063</td>\n",
       "      <td>0.002266</td>\n",
       "      <td>0.000453</td>\n",
       "      <td>...</td>\n",
       "      <td>0.003626</td>\n",
       "      <td>0.923635</td>\n",
       "      <td>16.055518</td>\n",
       "      <td>NaN</td>\n",
       "      <td>9.458102</td>\n",
       "      <td>26.900950</td>\n",
       "      <td>0.090651</td>\n",
       "      <td>26.695008</td>\n",
       "      <td>32401.375022</td>\n",
       "      <td>9.412934</td>\n",
       "    </tr>\n",
       "    <tr>\n",
       "      <th>std</th>\n",
       "      <td>0.0</td>\n",
       "      <td>0.731965</td>\n",
       "      <td>9.368723</td>\n",
       "      <td>0.499936</td>\n",
       "      <td>1.861736</td>\n",
       "      <td>0.400453</td>\n",
       "      <td>0.265612</td>\n",
       "      <td>0.275818</td>\n",
       "      <td>0.047554</td>\n",
       "      <td>0.021286</td>\n",
       "      <td>...</td>\n",
       "      <td>0.060111</td>\n",
       "      <td>0.265612</td>\n",
       "      <td>8.119900</td>\n",
       "      <td>NaN</td>\n",
       "      <td>1.745976</td>\n",
       "      <td>12.415588</td>\n",
       "      <td>5.261457</td>\n",
       "      <td>4.148800</td>\n",
       "      <td>12751.616054</td>\n",
       "      <td>0.572795</td>\n",
       "    </tr>\n",
       "    <tr>\n",
       "      <th>min</th>\n",
       "      <td>0.0</td>\n",
       "      <td>2.000000</td>\n",
       "      <td>1.000000</td>\n",
       "      <td>1.000000</td>\n",
       "      <td>0.000000</td>\n",
       "      <td>0.000000</td>\n",
       "      <td>0.000000</td>\n",
       "      <td>0.000000</td>\n",
       "      <td>0.000000</td>\n",
       "      <td>0.000000</td>\n",
       "      <td>...</td>\n",
       "      <td>0.000000</td>\n",
       "      <td>0.000000</td>\n",
       "      <td>1.000000</td>\n",
       "      <td>NaN</td>\n",
       "      <td>0.916291</td>\n",
       "      <td>1.357209</td>\n",
       "      <td>-35.500000</td>\n",
       "      <td>5.204826</td>\n",
       "      <td>179.976364</td>\n",
       "      <td>4.817753</td>\n",
       "    </tr>\n",
       "    <tr>\n",
       "      <th>25%</th>\n",
       "      <td>0.0</td>\n",
       "      <td>3.000000</td>\n",
       "      <td>6.000000</td>\n",
       "      <td>1.000000</td>\n",
       "      <td>1.000000</td>\n",
       "      <td>0.000000</td>\n",
       "      <td>0.000000</td>\n",
       "      <td>1.000000</td>\n",
       "      <td>0.000000</td>\n",
       "      <td>0.000000</td>\n",
       "      <td>...</td>\n",
       "      <td>0.000000</td>\n",
       "      <td>1.000000</td>\n",
       "      <td>9.000000</td>\n",
       "      <td>NaN</td>\n",
       "      <td>8.542145</td>\n",
       "      <td>17.242577</td>\n",
       "      <td>-2.236299</td>\n",
       "      <td>24.848175</td>\n",
       "      <td>23208.114691</td>\n",
       "      <td>9.285197</td>\n",
       "    </tr>\n",
       "    <tr>\n",
       "      <th>50%</th>\n",
       "      <td>0.0</td>\n",
       "      <td>3.000000</td>\n",
       "      <td>14.000000</td>\n",
       "      <td>1.000000</td>\n",
       "      <td>3.000000</td>\n",
       "      <td>0.000000</td>\n",
       "      <td>0.000000</td>\n",
       "      <td>1.000000</td>\n",
       "      <td>0.000000</td>\n",
       "      <td>0.000000</td>\n",
       "      <td>...</td>\n",
       "      <td>0.000000</td>\n",
       "      <td>1.000000</td>\n",
       "      <td>17.000000</td>\n",
       "      <td>NaN</td>\n",
       "      <td>9.785296</td>\n",
       "      <td>26.095561</td>\n",
       "      <td>-0.359738</td>\n",
       "      <td>28.096296</td>\n",
       "      <td>37175.282240</td>\n",
       "      <td>9.533915</td>\n",
       "    </tr>\n",
       "    <tr>\n",
       "      <th>75%</th>\n",
       "      <td>0.0</td>\n",
       "      <td>4.000000</td>\n",
       "      <td>23.000000</td>\n",
       "      <td>2.000000</td>\n",
       "      <td>4.000000</td>\n",
       "      <td>0.000000</td>\n",
       "      <td>0.000000</td>\n",
       "      <td>1.000000</td>\n",
       "      <td>0.000000</td>\n",
       "      <td>0.000000</td>\n",
       "      <td>...</td>\n",
       "      <td>0.000000</td>\n",
       "      <td>1.000000</td>\n",
       "      <td>23.000000</td>\n",
       "      <td>NaN</td>\n",
       "      <td>10.769937</td>\n",
       "      <td>36.233312</td>\n",
       "      <td>1.139188</td>\n",
       "      <td>28.096296</td>\n",
       "      <td>37175.282240</td>\n",
       "      <td>9.533915</td>\n",
       "    </tr>\n",
       "    <tr>\n",
       "      <th>max</th>\n",
       "      <td>0.0</td>\n",
       "      <td>5.000000</td>\n",
       "      <td>31.000000</td>\n",
       "      <td>2.000000</td>\n",
       "      <td>6.000000</td>\n",
       "      <td>1.000000</td>\n",
       "      <td>1.000000</td>\n",
       "      <td>1.000000</td>\n",
       "      <td>1.000000</td>\n",
       "      <td>1.000000</td>\n",
       "      <td>...</td>\n",
       "      <td>1.000000</td>\n",
       "      <td>1.000000</td>\n",
       "      <td>31.000000</td>\n",
       "      <td>NaN</td>\n",
       "      <td>13.639678</td>\n",
       "      <td>94.307368</td>\n",
       "      <td>62.285714</td>\n",
       "      <td>45.375726</td>\n",
       "      <td>97275.785732</td>\n",
       "      <td>11.415311</td>\n",
       "    </tr>\n",
       "  </tbody>\n",
       "</table>\n",
       "<p>8 rows × 21 columns</p>\n",
       "</div>"
      ],
      "text/plain": [
       "       baseline_create_date_year  baseline_create_date_month  \\\n",
       "count                     4413.0                 4413.000000   \n",
       "mean                         0.0                    3.572853   \n",
       "std                          0.0                    0.731965   \n",
       "min                          0.0                    2.000000   \n",
       "25%                          0.0                    3.000000   \n",
       "50%                          0.0                    3.000000   \n",
       "75%                          0.0                    4.000000   \n",
       "max                          0.0                    5.000000   \n",
       "\n",
       "       baseline_create_date_day  baseline_create_date_quarter  \\\n",
       "count               4413.000000                   4413.000000   \n",
       "mean                  14.635395                      1.489010   \n",
       "std                    9.368723                      0.499936   \n",
       "min                    1.000000                      1.000000   \n",
       "25%                    6.000000                      1.000000   \n",
       "50%                   14.000000                      1.000000   \n",
       "75%                   23.000000                      2.000000   \n",
       "max                   31.000000                      2.000000   \n",
       "\n",
       "       baseline_create_date_day_of_week  baseline_create_date_isWeekand  \\\n",
       "count                       4413.000000                     4413.000000   \n",
       "mean                           2.761160                        0.200544   \n",
       "std                            1.861736                        0.400453   \n",
       "min                            0.000000                        0.000000   \n",
       "25%                            1.000000                        0.000000   \n",
       "50%                            3.000000                        0.000000   \n",
       "75%                            4.000000                        0.000000   \n",
       "max                            6.000000                        1.000000   \n",
       "\n",
       "              CA02         U001         U002         U005  ...         U013  \\\n",
       "count  4413.000000  4413.000000  4413.000000  4413.000000  ...  4413.000000   \n",
       "mean      0.076365     0.917063     0.002266     0.000453  ...     0.003626   \n",
       "std       0.265612     0.275818     0.047554     0.021286  ...     0.060111   \n",
       "min       0.000000     0.000000     0.000000     0.000000  ...     0.000000   \n",
       "25%       0.000000     1.000000     0.000000     0.000000  ...     0.000000   \n",
       "50%       0.000000     1.000000     0.000000     0.000000  ...     0.000000   \n",
       "75%       0.000000     1.000000     0.000000     0.000000  ...     0.000000   \n",
       "max       1.000000     1.000000     1.000000     1.000000  ...     1.000000   \n",
       "\n",
       "       invoice_currency_numeric  due_in_date_day  Delay  \\\n",
       "count               4413.000000      4413.000000    0.0   \n",
       "mean                   0.923635        16.055518    NaN   \n",
       "std                    0.265612         8.119900    NaN   \n",
       "min                    0.000000         1.000000    NaN   \n",
       "25%                    1.000000         9.000000    NaN   \n",
       "50%                    1.000000        17.000000    NaN   \n",
       "75%                    1.000000        23.000000    NaN   \n",
       "max                    1.000000        31.000000    NaN   \n",
       "\n",
       "       total_open_amount_log  total_open_amount_cube    Avg_delay  \\\n",
       "count            4413.000000             4413.000000  4377.000000   \n",
       "mean                9.458102               26.900950     0.090651   \n",
       "std                 1.745976               12.415588     5.261457   \n",
       "min                 0.916291                1.357209   -35.500000   \n",
       "25%                 8.542145               17.242577    -2.236299   \n",
       "50%                 9.785296               26.095561    -0.359738   \n",
       "75%                10.769937               36.233312     1.139188   \n",
       "max                13.639678               94.307368    62.285714   \n",
       "\n",
       "       Avg_amount_cube    Avg_amount  Avg_amount_log  \n",
       "count      4413.000000   4413.000000     4413.000000  \n",
       "mean         26.695008  32401.375022        9.412934  \n",
       "std           4.148800  12751.616054        0.572795  \n",
       "min           5.204826    179.976364        4.817753  \n",
       "25%          24.848175  23208.114691        9.285197  \n",
       "50%          28.096296  37175.282240        9.533915  \n",
       "75%          28.096296  37175.282240        9.533915  \n",
       "max          45.375726  97275.785732       11.415311  \n",
       "\n",
       "[8 rows x 21 columns]"
      ]
     },
     "execution_count": 555,
     "metadata": {},
     "output_type": "execute_result"
    }
   ],
   "source": [
    "test.describe()"
   ]
  },
  {
   "cell_type": "code",
   "execution_count": 492,
   "metadata": {},
   "outputs": [],
   "source": [
    "test.drop(['cust_number','name_customer','clear_date','due_in_date','baseline_create_date','cust_payment_terms','clear_date_day','total_open_amount'],axis=1,inplace=True)"
   ]
  },
  {
   "cell_type": "code",
   "execution_count": 509,
   "metadata": {},
   "outputs": [],
   "source": [
    "train_temp = df[~df['Delay'].isnull()].copy()"
   ]
  },
  {
   "cell_type": "code",
   "execution_count": 540,
   "metadata": {},
   "outputs": [
    {
     "data": {
      "text/plain": [
       "(45580, 29)"
      ]
     },
     "execution_count": 540,
     "metadata": {},
     "output_type": "execute_result"
    }
   ],
   "source": [
    "train_temp.shape"
   ]
  },
  {
   "cell_type": "code",
   "execution_count": 518,
   "metadata": {},
   "outputs": [
    {
     "data": {
      "text/html": [
       "<div>\n",
       "<style scoped>\n",
       "    .dataframe tbody tr th:only-of-type {\n",
       "        vertical-align: middle;\n",
       "    }\n",
       "\n",
       "    .dataframe tbody tr th {\n",
       "        vertical-align: top;\n",
       "    }\n",
       "\n",
       "    .dataframe thead th {\n",
       "        text-align: right;\n",
       "    }\n",
       "</style>\n",
       "<table border=\"1\" class=\"dataframe\">\n",
       "  <thead>\n",
       "    <tr style=\"text-align: right;\">\n",
       "      <th></th>\n",
       "      <th>cust_number</th>\n",
       "      <th>name_customer</th>\n",
       "      <th>clear_date</th>\n",
       "      <th>due_in_date</th>\n",
       "      <th>total_open_amount</th>\n",
       "      <th>baseline_create_date</th>\n",
       "      <th>cust_payment_terms</th>\n",
       "      <th>baseline_create_date_year</th>\n",
       "      <th>baseline_create_date_month</th>\n",
       "      <th>baseline_create_date_day</th>\n",
       "      <th>...</th>\n",
       "      <th>invoice_currency_numeric</th>\n",
       "      <th>due_in_date_day</th>\n",
       "      <th>clear_date_day</th>\n",
       "      <th>Delay</th>\n",
       "      <th>total_open_amount_log</th>\n",
       "      <th>total_open_amount_cube</th>\n",
       "      <th>Avg_delay</th>\n",
       "      <th>Avg_amount_cube</th>\n",
       "      <th>Avg_amount</th>\n",
       "      <th>Avg_amount_log</th>\n",
       "    </tr>\n",
       "  </thead>\n",
       "  <tbody>\n",
       "    <tr>\n",
       "      <th>19715</th>\n",
       "      <td>0200980828</td>\n",
       "      <td>BEN E corporation</td>\n",
       "      <td>2019-01-04</td>\n",
       "      <td>2019-01-15</td>\n",
       "      <td>30804.36</td>\n",
       "      <td>2018-12-31</td>\n",
       "      <td>NAA8</td>\n",
       "      <td>2018</td>\n",
       "      <td>12</td>\n",
       "      <td>31</td>\n",
       "      <td>...</td>\n",
       "      <td>1</td>\n",
       "      <td>15</td>\n",
       "      <td>4.0</td>\n",
       "      <td>-11.0</td>\n",
       "      <td>10.335412</td>\n",
       "      <td>31.347583</td>\n",
       "      <td>-1.189655</td>\n",
       "      <td>28.096296</td>\n",
       "      <td>37175.282240</td>\n",
       "      <td>9.533915</td>\n",
       "    </tr>\n",
       "    <tr>\n",
       "      <th>35764</th>\n",
       "      <td>0200287284</td>\n",
       "      <td>CALIFO us</td>\n",
       "      <td>2019-01-04</td>\n",
       "      <td>2019-01-30</td>\n",
       "      <td>385913.65</td>\n",
       "      <td>2018-12-31</td>\n",
       "      <td>NAD5</td>\n",
       "      <td>2018</td>\n",
       "      <td>12</td>\n",
       "      <td>31</td>\n",
       "      <td>...</td>\n",
       "      <td>1</td>\n",
       "      <td>30</td>\n",
       "      <td>4.0</td>\n",
       "      <td>-26.0</td>\n",
       "      <td>12.863369</td>\n",
       "      <td>72.805364</td>\n",
       "      <td>-23.500000</td>\n",
       "      <td>32.402506</td>\n",
       "      <td>50723.463733</td>\n",
       "      <td>10.151130</td>\n",
       "    </tr>\n",
       "    <tr>\n",
       "      <th>13013</th>\n",
       "      <td>0100058056</td>\n",
       "      <td>SIMPLO</td>\n",
       "      <td>2019-01-04</td>\n",
       "      <td>2019-01-18</td>\n",
       "      <td>65462.40</td>\n",
       "      <td>2019-01-03</td>\n",
       "      <td>NAA8</td>\n",
       "      <td>2019</td>\n",
       "      <td>1</td>\n",
       "      <td>3</td>\n",
       "      <td>...</td>\n",
       "      <td>1</td>\n",
       "      <td>18</td>\n",
       "      <td>4.0</td>\n",
       "      <td>-14.0</td>\n",
       "      <td>11.089231</td>\n",
       "      <td>40.302375</td>\n",
       "      <td>-12.000000</td>\n",
       "      <td>28.096296</td>\n",
       "      <td>37175.282240</td>\n",
       "      <td>9.533915</td>\n",
       "    </tr>\n",
       "  </tbody>\n",
       "</table>\n",
       "<p>3 rows × 29 columns</p>\n",
       "</div>"
      ],
      "text/plain": [
       "      cust_number      name_customer clear_date due_in_date  \\\n",
       "19715  0200980828  BEN E corporation 2019-01-04  2019-01-15   \n",
       "35764  0200287284          CALIFO us 2019-01-04  2019-01-30   \n",
       "13013  0100058056            SIMPLO  2019-01-04  2019-01-18   \n",
       "\n",
       "       total_open_amount baseline_create_date cust_payment_terms  \\\n",
       "19715           30804.36           2018-12-31               NAA8   \n",
       "35764          385913.65           2018-12-31               NAD5   \n",
       "13013           65462.40           2019-01-03               NAA8   \n",
       "\n",
       "       baseline_create_date_year  baseline_create_date_month  \\\n",
       "19715                       2018                          12   \n",
       "35764                       2018                          12   \n",
       "13013                       2019                           1   \n",
       "\n",
       "       baseline_create_date_day  ...  invoice_currency_numeric  \\\n",
       "19715                        31  ...                         1   \n",
       "35764                        31  ...                         1   \n",
       "13013                         3  ...                         1   \n",
       "\n",
       "       due_in_date_day  clear_date_day  Delay  total_open_amount_log  \\\n",
       "19715               15             4.0  -11.0              10.335412   \n",
       "35764               30             4.0  -26.0              12.863369   \n",
       "13013               18             4.0  -14.0              11.089231   \n",
       "\n",
       "       total_open_amount_cube  Avg_delay  Avg_amount_cube    Avg_amount  \\\n",
       "19715               31.347583  -1.189655        28.096296  37175.282240   \n",
       "35764               72.805364 -23.500000        32.402506  50723.463733   \n",
       "13013               40.302375 -12.000000        28.096296  37175.282240   \n",
       "\n",
       "       Avg_amount_log  \n",
       "19715        9.533915  \n",
       "35764       10.151130  \n",
       "13013        9.533915  \n",
       "\n",
       "[3 rows x 29 columns]"
      ]
     },
     "execution_count": 518,
     "metadata": {},
     "output_type": "execute_result"
    }
   ],
   "source": [
    "train_temp.head(3)"
   ]
  },
  {
   "cell_type": "code",
   "execution_count": 500,
   "metadata": {},
   "outputs": [],
   "source": [
    "#train.drop(['cust_number','name_customer','clear_date','due_in_date','baseline_create_date','cust_payment_terms','clear_date_day','total_open_amount'],axis=1,inplace=True)"
   ]
  },
  {
   "cell_type": "code",
   "execution_count": 515,
   "metadata": {},
   "outputs": [
    {
     "data": {
      "text/plain": [
       "cust_number                         0\n",
       "name_customer                       0\n",
       "clear_date                          0\n",
       "due_in_date                         0\n",
       "total_open_amount                   0\n",
       "baseline_create_date                0\n",
       "cust_payment_terms                  0\n",
       "baseline_create_date_year           0\n",
       "baseline_create_date_month          0\n",
       "baseline_create_date_day            0\n",
       "baseline_create_date_quarter        0\n",
       "baseline_create_date_day_of_week    0\n",
       "baseline_create_date_isWeekand      0\n",
       "CA02                                0\n",
       "U001                                0\n",
       "U002                                0\n",
       "U005                                0\n",
       "U007                                0\n",
       "U013                                0\n",
       "invoice_currency_numeric            0\n",
       "due_in_date_day                     0\n",
       "clear_date_day                      0\n",
       "Delay                               0\n",
       "total_open_amount_log               0\n",
       "total_open_amount_cube              0\n",
       "Avg_delay                           0\n",
       "Avg_amount_cube                     0\n",
       "Avg_amount                          0\n",
       "Avg_amount_log                      0\n",
       "dtype: int64"
      ]
     },
     "execution_count": 515,
     "metadata": {},
     "output_type": "execute_result"
    }
   ],
   "source": [
    "train_temp.isnull().sum()"
   ]
  },
  {
   "cell_type": "code",
   "execution_count": 517,
   "metadata": {},
   "outputs": [],
   "source": [
    "#Sorting train_temp for validation set\n",
    "train_temp.sort_values('clear_date',inplace = True)"
   ]
  },
  {
   "cell_type": "code",
   "execution_count": 522,
   "metadata": {},
   "outputs": [
    {
     "data": {
      "text/plain": [
       "5940"
      ]
     },
     "execution_count": 522,
     "metadata": {},
     "output_type": "execute_result"
    }
   ],
   "source": [
    "#Getting count of recent records\n",
    "(train_temp['clear_date']>'2020-01-01').sum()"
   ]
  },
  {
   "cell_type": "code",
   "execution_count": 538,
   "metadata": {},
   "outputs": [],
   "source": [
    "#validaton set\n",
    "val = train_temp.iloc[-5940:].copy()"
   ]
  },
  {
   "cell_type": "code",
   "execution_count": 539,
   "metadata": {},
   "outputs": [
    {
     "data": {
      "text/plain": [
       "(5940, 29)"
      ]
     },
     "execution_count": 539,
     "metadata": {},
     "output_type": "execute_result"
    }
   ],
   "source": [
    "val.shape"
   ]
  },
  {
   "cell_type": "code",
   "execution_count": null,
   "metadata": {},
   "outputs": [],
   "source": []
  },
  {
   "cell_type": "code",
   "execution_count": 550,
   "metadata": {},
   "outputs": [],
   "source": [
    "val.drop(['cust_number','name_customer','clear_date','due_in_date','baseline_create_date','cust_payment_terms','clear_date_day','total_open_amount'],axis=1,inplace=True)"
   ]
  },
  {
   "cell_type": "code",
   "execution_count": 559,
   "metadata": {},
   "outputs": [
    {
     "data": {
      "text/html": [
       "<div>\n",
       "<style scoped>\n",
       "    .dataframe tbody tr th:only-of-type {\n",
       "        vertical-align: middle;\n",
       "    }\n",
       "\n",
       "    .dataframe tbody tr th {\n",
       "        vertical-align: top;\n",
       "    }\n",
       "\n",
       "    .dataframe thead th {\n",
       "        text-align: right;\n",
       "    }\n",
       "</style>\n",
       "<table border=\"1\" class=\"dataframe\">\n",
       "  <thead>\n",
       "    <tr style=\"text-align: right;\">\n",
       "      <th></th>\n",
       "      <th>baseline_create_date_year</th>\n",
       "      <th>baseline_create_date_month</th>\n",
       "      <th>baseline_create_date_day</th>\n",
       "      <th>baseline_create_date_quarter</th>\n",
       "      <th>baseline_create_date_day_of_week</th>\n",
       "      <th>baseline_create_date_isWeekand</th>\n",
       "      <th>CA02</th>\n",
       "      <th>U001</th>\n",
       "      <th>U002</th>\n",
       "      <th>U005</th>\n",
       "      <th>...</th>\n",
       "      <th>U013</th>\n",
       "      <th>invoice_currency_numeric</th>\n",
       "      <th>due_in_date_day</th>\n",
       "      <th>Delay</th>\n",
       "      <th>total_open_amount_log</th>\n",
       "      <th>total_open_amount_cube</th>\n",
       "      <th>Avg_delay</th>\n",
       "      <th>Avg_amount_cube</th>\n",
       "      <th>Avg_amount</th>\n",
       "      <th>Avg_amount_log</th>\n",
       "    </tr>\n",
       "  </thead>\n",
       "  <tbody>\n",
       "    <tr>\n",
       "      <th>2945</th>\n",
       "      <td>0</td>\n",
       "      <td>12</td>\n",
       "      <td>30</td>\n",
       "      <td>4</td>\n",
       "      <td>0</td>\n",
       "      <td>0</td>\n",
       "      <td>0.0</td>\n",
       "      <td>1.0</td>\n",
       "      <td>0.0</td>\n",
       "      <td>0.0</td>\n",
       "      <td>...</td>\n",
       "      <td>0.0</td>\n",
       "      <td>1</td>\n",
       "      <td>14</td>\n",
       "      <td>-11.0</td>\n",
       "      <td>8.941061</td>\n",
       "      <td>19.694782</td>\n",
       "      <td>-1.189655</td>\n",
       "      <td>28.096296</td>\n",
       "      <td>37175.28224</td>\n",
       "      <td>9.533915</td>\n",
       "    </tr>\n",
       "    <tr>\n",
       "      <th>16151</th>\n",
       "      <td>0</td>\n",
       "      <td>12</td>\n",
       "      <td>30</td>\n",
       "      <td>4</td>\n",
       "      <td>0</td>\n",
       "      <td>0</td>\n",
       "      <td>0.0</td>\n",
       "      <td>1.0</td>\n",
       "      <td>0.0</td>\n",
       "      <td>0.0</td>\n",
       "      <td>...</td>\n",
       "      <td>0.0</td>\n",
       "      <td>1</td>\n",
       "      <td>14</td>\n",
       "      <td>-11.0</td>\n",
       "      <td>10.843635</td>\n",
       "      <td>37.134451</td>\n",
       "      <td>-4.566667</td>\n",
       "      <td>28.096296</td>\n",
       "      <td>37175.28224</td>\n",
       "      <td>9.533915</td>\n",
       "    </tr>\n",
       "    <tr>\n",
       "      <th>9709</th>\n",
       "      <td>0</td>\n",
       "      <td>12</td>\n",
       "      <td>30</td>\n",
       "      <td>4</td>\n",
       "      <td>0</td>\n",
       "      <td>0</td>\n",
       "      <td>0.0</td>\n",
       "      <td>1.0</td>\n",
       "      <td>0.0</td>\n",
       "      <td>0.0</td>\n",
       "      <td>...</td>\n",
       "      <td>0.0</td>\n",
       "      <td>1</td>\n",
       "      <td>14</td>\n",
       "      <td>-8.0</td>\n",
       "      <td>10.513782</td>\n",
       "      <td>33.267932</td>\n",
       "      <td>-8.208333</td>\n",
       "      <td>28.096296</td>\n",
       "      <td>37175.28224</td>\n",
       "      <td>9.533915</td>\n",
       "    </tr>\n",
       "  </tbody>\n",
       "</table>\n",
       "<p>3 rows × 21 columns</p>\n",
       "</div>"
      ],
      "text/plain": [
       "       baseline_create_date_year  baseline_create_date_month  \\\n",
       "2945                           0                          12   \n",
       "16151                          0                          12   \n",
       "9709                           0                          12   \n",
       "\n",
       "       baseline_create_date_day  baseline_create_date_quarter  \\\n",
       "2945                         30                             4   \n",
       "16151                        30                             4   \n",
       "9709                         30                             4   \n",
       "\n",
       "       baseline_create_date_day_of_week  baseline_create_date_isWeekand  CA02  \\\n",
       "2945                                  0                               0   0.0   \n",
       "16151                                 0                               0   0.0   \n",
       "9709                                  0                               0   0.0   \n",
       "\n",
       "       U001  U002  U005  ...  U013  invoice_currency_numeric  due_in_date_day  \\\n",
       "2945    1.0   0.0   0.0  ...   0.0                         1               14   \n",
       "16151   1.0   0.0   0.0  ...   0.0                         1               14   \n",
       "9709    1.0   0.0   0.0  ...   0.0                         1               14   \n",
       "\n",
       "       Delay  total_open_amount_log  total_open_amount_cube  Avg_delay  \\\n",
       "2945   -11.0               8.941061               19.694782  -1.189655   \n",
       "16151  -11.0              10.843635               37.134451  -4.566667   \n",
       "9709    -8.0              10.513782               33.267932  -8.208333   \n",
       "\n",
       "       Avg_amount_cube   Avg_amount  Avg_amount_log  \n",
       "2945         28.096296  37175.28224        9.533915  \n",
       "16151        28.096296  37175.28224        9.533915  \n",
       "9709         28.096296  37175.28224        9.533915  \n",
       "\n",
       "[3 rows x 21 columns]"
      ]
     },
     "execution_count": 559,
     "metadata": {},
     "output_type": "execute_result"
    }
   ],
   "source": [
    "val.head(3)"
   ]
  },
  {
   "cell_type": "code",
   "execution_count": 551,
   "metadata": {},
   "outputs": [],
   "source": [
    "from sklearn import preprocessing \n",
    "label_encoder = preprocessing.LabelEncoder()\n",
    "val['baseline_create_date_year']= label_encoder.fit_transform(val['baseline_create_date_year']) "
   ]
  },
  {
   "cell_type": "code",
   "execution_count": 552,
   "metadata": {},
   "outputs": [
    {
     "data": {
      "text/html": [
       "<div>\n",
       "<style scoped>\n",
       "    .dataframe tbody tr th:only-of-type {\n",
       "        vertical-align: middle;\n",
       "    }\n",
       "\n",
       "    .dataframe tbody tr th {\n",
       "        vertical-align: top;\n",
       "    }\n",
       "\n",
       "    .dataframe thead th {\n",
       "        text-align: right;\n",
       "    }\n",
       "</style>\n",
       "<table border=\"1\" class=\"dataframe\">\n",
       "  <thead>\n",
       "    <tr style=\"text-align: right;\">\n",
       "      <th></th>\n",
       "      <th>baseline_create_date_year</th>\n",
       "      <th>baseline_create_date_month</th>\n",
       "      <th>baseline_create_date_day</th>\n",
       "      <th>baseline_create_date_quarter</th>\n",
       "      <th>baseline_create_date_day_of_week</th>\n",
       "      <th>baseline_create_date_isWeekand</th>\n",
       "      <th>CA02</th>\n",
       "      <th>U001</th>\n",
       "      <th>U002</th>\n",
       "      <th>U005</th>\n",
       "      <th>...</th>\n",
       "      <th>U013</th>\n",
       "      <th>invoice_currency_numeric</th>\n",
       "      <th>due_in_date_day</th>\n",
       "      <th>Delay</th>\n",
       "      <th>total_open_amount_log</th>\n",
       "      <th>total_open_amount_cube</th>\n",
       "      <th>Avg_delay</th>\n",
       "      <th>Avg_amount_cube</th>\n",
       "      <th>Avg_amount</th>\n",
       "      <th>Avg_amount_log</th>\n",
       "    </tr>\n",
       "  </thead>\n",
       "  <tbody>\n",
       "    <tr>\n",
       "      <th>count</th>\n",
       "      <td>5940.000000</td>\n",
       "      <td>5940.000000</td>\n",
       "      <td>5940.000000</td>\n",
       "      <td>5940.000000</td>\n",
       "      <td>5940.000000</td>\n",
       "      <td>5940.000000</td>\n",
       "      <td>5940.000000</td>\n",
       "      <td>5940.000000</td>\n",
       "      <td>5940.000000</td>\n",
       "      <td>5940.000000</td>\n",
       "      <td>...</td>\n",
       "      <td>5940.000000</td>\n",
       "      <td>5940.000000</td>\n",
       "      <td>5940.000000</td>\n",
       "      <td>5940.000000</td>\n",
       "      <td>5940.000000</td>\n",
       "      <td>5940.000000</td>\n",
       "      <td>5940.000000</td>\n",
       "      <td>5940.000000</td>\n",
       "      <td>5940.000000</td>\n",
       "      <td>5940.000000</td>\n",
       "    </tr>\n",
       "    <tr>\n",
       "      <th>mean</th>\n",
       "      <td>0.964815</td>\n",
       "      <td>1.856566</td>\n",
       "      <td>15.611448</td>\n",
       "      <td>1.105556</td>\n",
       "      <td>2.664646</td>\n",
       "      <td>0.193266</td>\n",
       "      <td>0.065657</td>\n",
       "      <td>0.917677</td>\n",
       "      <td>0.002525</td>\n",
       "      <td>0.000505</td>\n",
       "      <td>...</td>\n",
       "      <td>0.013636</td>\n",
       "      <td>0.934343</td>\n",
       "      <td>15.790236</td>\n",
       "      <td>0.609091</td>\n",
       "      <td>9.392193</td>\n",
       "      <td>26.535630</td>\n",
       "      <td>0.774332</td>\n",
       "      <td>26.567921</td>\n",
       "      <td>31755.999995</td>\n",
       "      <td>9.404201</td>\n",
       "    </tr>\n",
       "    <tr>\n",
       "      <th>std</th>\n",
       "      <td>0.184263</td>\n",
       "      <td>1.997633</td>\n",
       "      <td>8.801177</td>\n",
       "      <td>0.552789</td>\n",
       "      <td>1.860969</td>\n",
       "      <td>0.394893</td>\n",
       "      <td>0.247702</td>\n",
       "      <td>0.274880</td>\n",
       "      <td>0.050193</td>\n",
       "      <td>0.022470</td>\n",
       "      <td>...</td>\n",
       "      <td>0.115986</td>\n",
       "      <td>0.247702</td>\n",
       "      <td>8.642988</td>\n",
       "      <td>10.662847</td>\n",
       "      <td>1.795380</td>\n",
       "      <td>12.615458</td>\n",
       "      <td>6.962757</td>\n",
       "      <td>4.222020</td>\n",
       "      <td>12652.023127</td>\n",
       "      <td>0.594135</td>\n",
       "    </tr>\n",
       "    <tr>\n",
       "      <th>min</th>\n",
       "      <td>0.000000</td>\n",
       "      <td>1.000000</td>\n",
       "      <td>1.000000</td>\n",
       "      <td>1.000000</td>\n",
       "      <td>0.000000</td>\n",
       "      <td>0.000000</td>\n",
       "      <td>0.000000</td>\n",
       "      <td>0.000000</td>\n",
       "      <td>0.000000</td>\n",
       "      <td>0.000000</td>\n",
       "      <td>...</td>\n",
       "      <td>0.000000</td>\n",
       "      <td>0.000000</td>\n",
       "      <td>1.000000</td>\n",
       "      <td>-62.000000</td>\n",
       "      <td>1.791759</td>\n",
       "      <td>1.817121</td>\n",
       "      <td>-23.200000</td>\n",
       "      <td>3.098140</td>\n",
       "      <td>36.632500</td>\n",
       "      <td>3.284716</td>\n",
       "    </tr>\n",
       "    <tr>\n",
       "      <th>25%</th>\n",
       "      <td>1.000000</td>\n",
       "      <td>1.000000</td>\n",
       "      <td>8.000000</td>\n",
       "      <td>1.000000</td>\n",
       "      <td>1.000000</td>\n",
       "      <td>0.000000</td>\n",
       "      <td>0.000000</td>\n",
       "      <td>1.000000</td>\n",
       "      <td>0.000000</td>\n",
       "      <td>0.000000</td>\n",
       "      <td>...</td>\n",
       "      <td>0.000000</td>\n",
       "      <td>1.000000</td>\n",
       "      <td>8.000000</td>\n",
       "      <td>-3.000000</td>\n",
       "      <td>8.457264</td>\n",
       "      <td>16.761557</td>\n",
       "      <td>-2.236299</td>\n",
       "      <td>24.848175</td>\n",
       "      <td>23208.114691</td>\n",
       "      <td>9.285197</td>\n",
       "    </tr>\n",
       "    <tr>\n",
       "      <th>50%</th>\n",
       "      <td>1.000000</td>\n",
       "      <td>2.000000</td>\n",
       "      <td>16.000000</td>\n",
       "      <td>1.000000</td>\n",
       "      <td>2.000000</td>\n",
       "      <td>0.000000</td>\n",
       "      <td>0.000000</td>\n",
       "      <td>1.000000</td>\n",
       "      <td>0.000000</td>\n",
       "      <td>0.000000</td>\n",
       "      <td>...</td>\n",
       "      <td>0.000000</td>\n",
       "      <td>1.000000</td>\n",
       "      <td>15.000000</td>\n",
       "      <td>0.000000</td>\n",
       "      <td>9.736562</td>\n",
       "      <td>25.675071</td>\n",
       "      <td>0.132530</td>\n",
       "      <td>28.096296</td>\n",
       "      <td>37175.282240</td>\n",
       "      <td>9.533915</td>\n",
       "    </tr>\n",
       "    <tr>\n",
       "      <th>75%</th>\n",
       "      <td>1.000000</td>\n",
       "      <td>2.000000</td>\n",
       "      <td>23.000000</td>\n",
       "      <td>1.000000</td>\n",
       "      <td>4.000000</td>\n",
       "      <td>0.000000</td>\n",
       "      <td>0.000000</td>\n",
       "      <td>1.000000</td>\n",
       "      <td>0.000000</td>\n",
       "      <td>0.000000</td>\n",
       "      <td>...</td>\n",
       "      <td>0.000000</td>\n",
       "      <td>1.000000</td>\n",
       "      <td>24.000000</td>\n",
       "      <td>2.000000</td>\n",
       "      <td>10.758203</td>\n",
       "      <td>36.091869</td>\n",
       "      <td>1.494465</td>\n",
       "      <td>28.096296</td>\n",
       "      <td>37175.282240</td>\n",
       "      <td>9.533915</td>\n",
       "    </tr>\n",
       "    <tr>\n",
       "      <th>max</th>\n",
       "      <td>1.000000</td>\n",
       "      <td>12.000000</td>\n",
       "      <td>31.000000</td>\n",
       "      <td>4.000000</td>\n",
       "      <td>6.000000</td>\n",
       "      <td>1.000000</td>\n",
       "      <td>1.000000</td>\n",
       "      <td>1.000000</td>\n",
       "      <td>1.000000</td>\n",
       "      <td>1.000000</td>\n",
       "      <td>...</td>\n",
       "      <td>1.000000</td>\n",
       "      <td>1.000000</td>\n",
       "      <td>31.000000</td>\n",
       "      <td>122.000000</td>\n",
       "      <td>13.072090</td>\n",
       "      <td>78.051065</td>\n",
       "      <td>55.275000</td>\n",
       "      <td>52.686672</td>\n",
       "      <td>146252.160000</td>\n",
       "      <td>11.893088</td>\n",
       "    </tr>\n",
       "  </tbody>\n",
       "</table>\n",
       "<p>8 rows × 21 columns</p>\n",
       "</div>"
      ],
      "text/plain": [
       "       baseline_create_date_year  baseline_create_date_month  \\\n",
       "count                5940.000000                 5940.000000   \n",
       "mean                    0.964815                    1.856566   \n",
       "std                     0.184263                    1.997633   \n",
       "min                     0.000000                    1.000000   \n",
       "25%                     1.000000                    1.000000   \n",
       "50%                     1.000000                    2.000000   \n",
       "75%                     1.000000                    2.000000   \n",
       "max                     1.000000                   12.000000   \n",
       "\n",
       "       baseline_create_date_day  baseline_create_date_quarter  \\\n",
       "count               5940.000000                   5940.000000   \n",
       "mean                  15.611448                      1.105556   \n",
       "std                    8.801177                      0.552789   \n",
       "min                    1.000000                      1.000000   \n",
       "25%                    8.000000                      1.000000   \n",
       "50%                   16.000000                      1.000000   \n",
       "75%                   23.000000                      1.000000   \n",
       "max                   31.000000                      4.000000   \n",
       "\n",
       "       baseline_create_date_day_of_week  baseline_create_date_isWeekand  \\\n",
       "count                       5940.000000                     5940.000000   \n",
       "mean                           2.664646                        0.193266   \n",
       "std                            1.860969                        0.394893   \n",
       "min                            0.000000                        0.000000   \n",
       "25%                            1.000000                        0.000000   \n",
       "50%                            2.000000                        0.000000   \n",
       "75%                            4.000000                        0.000000   \n",
       "max                            6.000000                        1.000000   \n",
       "\n",
       "              CA02         U001         U002         U005  ...         U013  \\\n",
       "count  5940.000000  5940.000000  5940.000000  5940.000000  ...  5940.000000   \n",
       "mean      0.065657     0.917677     0.002525     0.000505  ...     0.013636   \n",
       "std       0.247702     0.274880     0.050193     0.022470  ...     0.115986   \n",
       "min       0.000000     0.000000     0.000000     0.000000  ...     0.000000   \n",
       "25%       0.000000     1.000000     0.000000     0.000000  ...     0.000000   \n",
       "50%       0.000000     1.000000     0.000000     0.000000  ...     0.000000   \n",
       "75%       0.000000     1.000000     0.000000     0.000000  ...     0.000000   \n",
       "max       1.000000     1.000000     1.000000     1.000000  ...     1.000000   \n",
       "\n",
       "       invoice_currency_numeric  due_in_date_day        Delay  \\\n",
       "count               5940.000000      5940.000000  5940.000000   \n",
       "mean                   0.934343        15.790236     0.609091   \n",
       "std                    0.247702         8.642988    10.662847   \n",
       "min                    0.000000         1.000000   -62.000000   \n",
       "25%                    1.000000         8.000000    -3.000000   \n",
       "50%                    1.000000        15.000000     0.000000   \n",
       "75%                    1.000000        24.000000     2.000000   \n",
       "max                    1.000000        31.000000   122.000000   \n",
       "\n",
       "       total_open_amount_log  total_open_amount_cube    Avg_delay  \\\n",
       "count            5940.000000             5940.000000  5940.000000   \n",
       "mean                9.392193               26.535630     0.774332   \n",
       "std                 1.795380               12.615458     6.962757   \n",
       "min                 1.791759                1.817121   -23.200000   \n",
       "25%                 8.457264               16.761557    -2.236299   \n",
       "50%                 9.736562               25.675071     0.132530   \n",
       "75%                10.758203               36.091869     1.494465   \n",
       "max                13.072090               78.051065    55.275000   \n",
       "\n",
       "       Avg_amount_cube     Avg_amount  Avg_amount_log  \n",
       "count      5940.000000    5940.000000     5940.000000  \n",
       "mean         26.567921   31755.999995        9.404201  \n",
       "std           4.222020   12652.023127        0.594135  \n",
       "min           3.098140      36.632500        3.284716  \n",
       "25%          24.848175   23208.114691        9.285197  \n",
       "50%          28.096296   37175.282240        9.533915  \n",
       "75%          28.096296   37175.282240        9.533915  \n",
       "max          52.686672  146252.160000       11.893088  \n",
       "\n",
       "[8 rows x 21 columns]"
      ]
     },
     "execution_count": 552,
     "metadata": {},
     "output_type": "execute_result"
    }
   ],
   "source": [
    "val.describe()"
   ]
  },
  {
   "cell_type": "code",
   "execution_count": 543,
   "metadata": {},
   "outputs": [],
   "source": [
    "#training set\n",
    "train = train_temp.iloc[5940:].copy()"
   ]
  },
  {
   "cell_type": "code",
   "execution_count": 670,
   "metadata": {},
   "outputs": [],
   "source": [
    "x_val = val.copy()"
   ]
  },
  {
   "cell_type": "code",
   "execution_count": 672,
   "metadata": {},
   "outputs": [],
   "source": [
    "x_val.drop(['Delay'],axis=1,inplace=True)"
   ]
  },
  {
   "cell_type": "code",
   "execution_count": 673,
   "metadata": {},
   "outputs": [
    {
     "data": {
      "text/plain": [
       "(5940, 20)"
      ]
     },
     "execution_count": 673,
     "metadata": {},
     "output_type": "execute_result"
    }
   ],
   "source": [
    "x_val.shape"
   ]
  },
  {
   "cell_type": "code",
   "execution_count": 674,
   "metadata": {},
   "outputs": [],
   "source": [
    "y_val=val['Delay'].copy()"
   ]
  },
  {
   "cell_type": "code",
   "execution_count": 675,
   "metadata": {},
   "outputs": [
    {
     "data": {
      "text/plain": [
       "(5940,)"
      ]
     },
     "execution_count": 675,
     "metadata": {},
     "output_type": "execute_result"
    }
   ],
   "source": [
    "y_val.shape"
   ]
  },
  {
   "cell_type": "code",
   "execution_count": 549,
   "metadata": {},
   "outputs": [
    {
     "data": {
      "text/plain": [
       "(39640, 21)"
      ]
     },
     "execution_count": 549,
     "metadata": {},
     "output_type": "execute_result"
    }
   ],
   "source": [
    "train.shape"
   ]
  },
  {
   "cell_type": "code",
   "execution_count": 579,
   "metadata": {},
   "outputs": [],
   "source": [
    "x_train = train.copy()"
   ]
  },
  {
   "cell_type": "code",
   "execution_count": null,
   "metadata": {},
   "outputs": [],
   "source": [
    "x_train.drop(['Delay'],axis=1,inplace =True)"
   ]
  },
  {
   "cell_type": "code",
   "execution_count": 582,
   "metadata": {},
   "outputs": [
    {
     "data": {
      "text/plain": [
       "(39640, 20)"
      ]
     },
     "execution_count": 582,
     "metadata": {},
     "output_type": "execute_result"
    }
   ],
   "source": [
    "x_train.shape"
   ]
  },
  {
   "cell_type": "code",
   "execution_count": 586,
   "metadata": {},
   "outputs": [],
   "source": [
    "y_train = train['Delay'].copy()"
   ]
  },
  {
   "cell_type": "code",
   "execution_count": 587,
   "metadata": {},
   "outputs": [
    {
     "data": {
      "text/plain": [
       "(39640,)"
      ]
     },
     "execution_count": 587,
     "metadata": {},
     "output_type": "execute_result"
    }
   ],
   "source": [
    "y_train.shape"
   ]
  },
  {
   "cell_type": "code",
   "execution_count": 545,
   "metadata": {},
   "outputs": [],
   "source": [
    "train.drop(['cust_number','name_customer','clear_date','due_in_date','baseline_create_date','cust_payment_terms','clear_date_day','total_open_amount'],axis=1,inplace=True)"
   ]
  },
  {
   "cell_type": "code",
   "execution_count": 547,
   "metadata": {},
   "outputs": [
    {
     "data": {
      "text/html": [
       "<div>\n",
       "<style scoped>\n",
       "    .dataframe tbody tr th:only-of-type {\n",
       "        vertical-align: middle;\n",
       "    }\n",
       "\n",
       "    .dataframe tbody tr th {\n",
       "        vertical-align: top;\n",
       "    }\n",
       "\n",
       "    .dataframe thead th {\n",
       "        text-align: right;\n",
       "    }\n",
       "</style>\n",
       "<table border=\"1\" class=\"dataframe\">\n",
       "  <thead>\n",
       "    <tr style=\"text-align: right;\">\n",
       "      <th></th>\n",
       "      <th>baseline_create_date_year</th>\n",
       "      <th>baseline_create_date_month</th>\n",
       "      <th>baseline_create_date_day</th>\n",
       "      <th>baseline_create_date_quarter</th>\n",
       "      <th>baseline_create_date_day_of_week</th>\n",
       "      <th>baseline_create_date_isWeekand</th>\n",
       "      <th>CA02</th>\n",
       "      <th>U001</th>\n",
       "      <th>U002</th>\n",
       "      <th>U005</th>\n",
       "      <th>...</th>\n",
       "      <th>U013</th>\n",
       "      <th>invoice_currency_numeric</th>\n",
       "      <th>due_in_date_day</th>\n",
       "      <th>Delay</th>\n",
       "      <th>total_open_amount_log</th>\n",
       "      <th>total_open_amount_cube</th>\n",
       "      <th>Avg_delay</th>\n",
       "      <th>Avg_amount_cube</th>\n",
       "      <th>Avg_amount</th>\n",
       "      <th>Avg_amount_log</th>\n",
       "    </tr>\n",
       "  </thead>\n",
       "  <tbody>\n",
       "    <tr>\n",
       "      <th>9465</th>\n",
       "      <td>1</td>\n",
       "      <td>3</td>\n",
       "      <td>2</td>\n",
       "      <td>1</td>\n",
       "      <td>5</td>\n",
       "      <td>1</td>\n",
       "      <td>0.0</td>\n",
       "      <td>1.0</td>\n",
       "      <td>0.0</td>\n",
       "      <td>0.0</td>\n",
       "      <td>...</td>\n",
       "      <td>0.0</td>\n",
       "      <td>1</td>\n",
       "      <td>2</td>\n",
       "      <td>12.0</td>\n",
       "      <td>9.906378</td>\n",
       "      <td>27.170345</td>\n",
       "      <td>12.000000</td>\n",
       "      <td>22.654248</td>\n",
       "      <td>16990.218824</td>\n",
       "      <td>9.159400</td>\n",
       "    </tr>\n",
       "    <tr>\n",
       "      <th>13526</th>\n",
       "      <td>1</td>\n",
       "      <td>2</td>\n",
       "      <td>27</td>\n",
       "      <td>1</td>\n",
       "      <td>2</td>\n",
       "      <td>0</td>\n",
       "      <td>0.0</td>\n",
       "      <td>1.0</td>\n",
       "      <td>0.0</td>\n",
       "      <td>0.0</td>\n",
       "      <td>...</td>\n",
       "      <td>0.0</td>\n",
       "      <td>1</td>\n",
       "      <td>14</td>\n",
       "      <td>0.0</td>\n",
       "      <td>9.497531</td>\n",
       "      <td>23.708736</td>\n",
       "      <td>0.805556</td>\n",
       "      <td>28.096296</td>\n",
       "      <td>37175.282240</td>\n",
       "      <td>9.533915</td>\n",
       "    </tr>\n",
       "    <tr>\n",
       "      <th>38929</th>\n",
       "      <td>1</td>\n",
       "      <td>2</td>\n",
       "      <td>25</td>\n",
       "      <td>1</td>\n",
       "      <td>0</td>\n",
       "      <td>0</td>\n",
       "      <td>0.0</td>\n",
       "      <td>1.0</td>\n",
       "      <td>0.0</td>\n",
       "      <td>0.0</td>\n",
       "      <td>...</td>\n",
       "      <td>0.0</td>\n",
       "      <td>1</td>\n",
       "      <td>1</td>\n",
       "      <td>-48.0</td>\n",
       "      <td>8.357642</td>\n",
       "      <td>16.214089</td>\n",
       "      <td>-1.814815</td>\n",
       "      <td>18.873026</td>\n",
       "      <td>12501.450103</td>\n",
       "      <td>8.432889</td>\n",
       "    </tr>\n",
       "  </tbody>\n",
       "</table>\n",
       "<p>3 rows × 21 columns</p>\n",
       "</div>"
      ],
      "text/plain": [
       "       baseline_create_date_year  baseline_create_date_month  \\\n",
       "9465                           1                           3   \n",
       "13526                          1                           2   \n",
       "38929                          1                           2   \n",
       "\n",
       "       baseline_create_date_day  baseline_create_date_quarter  \\\n",
       "9465                          2                             1   \n",
       "13526                        27                             1   \n",
       "38929                        25                             1   \n",
       "\n",
       "       baseline_create_date_day_of_week  baseline_create_date_isWeekand  CA02  \\\n",
       "9465                                  5                               1   0.0   \n",
       "13526                                 2                               0   0.0   \n",
       "38929                                 0                               0   0.0   \n",
       "\n",
       "       U001  U002  U005  ...  U013  invoice_currency_numeric  due_in_date_day  \\\n",
       "9465    1.0   0.0   0.0  ...   0.0                         1                2   \n",
       "13526   1.0   0.0   0.0  ...   0.0                         1               14   \n",
       "38929   1.0   0.0   0.0  ...   0.0                         1                1   \n",
       "\n",
       "       Delay  total_open_amount_log  total_open_amount_cube  Avg_delay  \\\n",
       "9465    12.0               9.906378               27.170345  12.000000   \n",
       "13526    0.0               9.497531               23.708736   0.805556   \n",
       "38929  -48.0               8.357642               16.214089  -1.814815   \n",
       "\n",
       "       Avg_amount_cube    Avg_amount  Avg_amount_log  \n",
       "9465         22.654248  16990.218824        9.159400  \n",
       "13526        28.096296  37175.282240        9.533915  \n",
       "38929        18.873026  12501.450103        8.432889  \n",
       "\n",
       "[3 rows x 21 columns]"
      ]
     },
     "execution_count": 547,
     "metadata": {},
     "output_type": "execute_result"
    }
   ],
   "source": [
    "train.head(3)"
   ]
  },
  {
   "cell_type": "code",
   "execution_count": 546,
   "metadata": {},
   "outputs": [],
   "source": [
    "from sklearn import preprocessing \n",
    "label_encoder = preprocessing.LabelEncoder()\n",
    "train['baseline_create_date_year']= label_encoder.fit_transform(train['baseline_create_date_year']) "
   ]
  },
  {
   "cell_type": "code",
   "execution_count": 548,
   "metadata": {},
   "outputs": [
    {
     "data": {
      "text/html": [
       "<div>\n",
       "<style scoped>\n",
       "    .dataframe tbody tr th:only-of-type {\n",
       "        vertical-align: middle;\n",
       "    }\n",
       "\n",
       "    .dataframe tbody tr th {\n",
       "        vertical-align: top;\n",
       "    }\n",
       "\n",
       "    .dataframe thead th {\n",
       "        text-align: right;\n",
       "    }\n",
       "</style>\n",
       "<table border=\"1\" class=\"dataframe\">\n",
       "  <thead>\n",
       "    <tr style=\"text-align: right;\">\n",
       "      <th></th>\n",
       "      <th>baseline_create_date_year</th>\n",
       "      <th>baseline_create_date_month</th>\n",
       "      <th>baseline_create_date_day</th>\n",
       "      <th>baseline_create_date_quarter</th>\n",
       "      <th>baseline_create_date_day_of_week</th>\n",
       "      <th>baseline_create_date_isWeekand</th>\n",
       "      <th>CA02</th>\n",
       "      <th>U001</th>\n",
       "      <th>U002</th>\n",
       "      <th>U005</th>\n",
       "      <th>...</th>\n",
       "      <th>U013</th>\n",
       "      <th>invoice_currency_numeric</th>\n",
       "      <th>due_in_date_day</th>\n",
       "      <th>Delay</th>\n",
       "      <th>total_open_amount_log</th>\n",
       "      <th>total_open_amount_cube</th>\n",
       "      <th>Avg_delay</th>\n",
       "      <th>Avg_amount_cube</th>\n",
       "      <th>Avg_amount</th>\n",
       "      <th>Avg_amount_log</th>\n",
       "    </tr>\n",
       "  </thead>\n",
       "  <tbody>\n",
       "    <tr>\n",
       "      <th>count</th>\n",
       "      <td>39640.000000</td>\n",
       "      <td>39640.000000</td>\n",
       "      <td>39640.000000</td>\n",
       "      <td>39640.000000</td>\n",
       "      <td>39640.000000</td>\n",
       "      <td>39640.000000</td>\n",
       "      <td>39640.000000</td>\n",
       "      <td>39640.000000</td>\n",
       "      <td>39640.000000</td>\n",
       "      <td>39640.000000</td>\n",
       "      <td>...</td>\n",
       "      <td>39640.000000</td>\n",
       "      <td>39640.000000</td>\n",
       "      <td>39640.000000</td>\n",
       "      <td>39640.000000</td>\n",
       "      <td>39640.000000</td>\n",
       "      <td>39640.000000</td>\n",
       "      <td>39640.000000</td>\n",
       "      <td>39640.000000</td>\n",
       "      <td>39640.000000</td>\n",
       "      <td>39640.000000</td>\n",
       "    </tr>\n",
       "    <tr>\n",
       "      <th>mean</th>\n",
       "      <td>1.144551</td>\n",
       "      <td>6.313194</td>\n",
       "      <td>15.359914</td>\n",
       "      <td>2.445081</td>\n",
       "      <td>2.694223</td>\n",
       "      <td>0.187765</td>\n",
       "      <td>0.081458</td>\n",
       "      <td>0.900505</td>\n",
       "      <td>0.003406</td>\n",
       "      <td>0.000202</td>\n",
       "      <td>...</td>\n",
       "      <td>0.014253</td>\n",
       "      <td>0.918542</td>\n",
       "      <td>16.085141</td>\n",
       "      <td>1.062185</td>\n",
       "      <td>9.410802</td>\n",
       "      <td>26.657357</td>\n",
       "      <td>1.023996</td>\n",
       "      <td>26.650888</td>\n",
       "      <td>32235.206524</td>\n",
       "      <td>9.409175</td>\n",
       "    </tr>\n",
       "    <tr>\n",
       "      <th>std</th>\n",
       "      <td>0.351724</td>\n",
       "      <td>3.307964</td>\n",
       "      <td>8.801697</td>\n",
       "      <td>1.092420</td>\n",
       "      <td>1.832009</td>\n",
       "      <td>0.390529</td>\n",
       "      <td>0.273541</td>\n",
       "      <td>0.299330</td>\n",
       "      <td>0.058259</td>\n",
       "      <td>0.014205</td>\n",
       "      <td>...</td>\n",
       "      <td>0.118535</td>\n",
       "      <td>0.273541</td>\n",
       "      <td>8.767833</td>\n",
       "      <td>11.346044</td>\n",
       "      <td>1.780204</td>\n",
       "      <td>12.676650</td>\n",
       "      <td>7.594755</td>\n",
       "      <td>4.168458</td>\n",
       "      <td>12647.471558</td>\n",
       "      <td>0.583058</td>\n",
       "    </tr>\n",
       "    <tr>\n",
       "      <th>min</th>\n",
       "      <td>0.000000</td>\n",
       "      <td>1.000000</td>\n",
       "      <td>1.000000</td>\n",
       "      <td>1.000000</td>\n",
       "      <td>0.000000</td>\n",
       "      <td>0.000000</td>\n",
       "      <td>0.000000</td>\n",
       "      <td>0.000000</td>\n",
       "      <td>0.000000</td>\n",
       "      <td>0.000000</td>\n",
       "      <td>...</td>\n",
       "      <td>0.000000</td>\n",
       "      <td>0.000000</td>\n",
       "      <td>1.000000</td>\n",
       "      <td>-90.000000</td>\n",
       "      <td>0.029559</td>\n",
       "      <td>1.009902</td>\n",
       "      <td>-79.000000</td>\n",
       "      <td>3.098140</td>\n",
       "      <td>36.632500</td>\n",
       "      <td>3.284716</td>\n",
       "    </tr>\n",
       "    <tr>\n",
       "      <th>25%</th>\n",
       "      <td>1.000000</td>\n",
       "      <td>3.000000</td>\n",
       "      <td>8.000000</td>\n",
       "      <td>1.000000</td>\n",
       "      <td>1.000000</td>\n",
       "      <td>0.000000</td>\n",
       "      <td>0.000000</td>\n",
       "      <td>1.000000</td>\n",
       "      <td>0.000000</td>\n",
       "      <td>0.000000</td>\n",
       "      <td>...</td>\n",
       "      <td>0.000000</td>\n",
       "      <td>1.000000</td>\n",
       "      <td>8.000000</td>\n",
       "      <td>-3.000000</td>\n",
       "      <td>8.470684</td>\n",
       "      <td>16.836706</td>\n",
       "      <td>-2.236299</td>\n",
       "      <td>24.848175</td>\n",
       "      <td>23208.114691</td>\n",
       "      <td>9.285197</td>\n",
       "    </tr>\n",
       "    <tr>\n",
       "      <th>50%</th>\n",
       "      <td>1.000000</td>\n",
       "      <td>6.000000</td>\n",
       "      <td>16.000000</td>\n",
       "      <td>2.000000</td>\n",
       "      <td>3.000000</td>\n",
       "      <td>0.000000</td>\n",
       "      <td>0.000000</td>\n",
       "      <td>1.000000</td>\n",
       "      <td>0.000000</td>\n",
       "      <td>0.000000</td>\n",
       "      <td>...</td>\n",
       "      <td>0.000000</td>\n",
       "      <td>1.000000</td>\n",
       "      <td>16.000000</td>\n",
       "      <td>0.000000</td>\n",
       "      <td>9.750176</td>\n",
       "      <td>25.791854</td>\n",
       "      <td>0.405941</td>\n",
       "      <td>28.096296</td>\n",
       "      <td>37175.282240</td>\n",
       "      <td>9.533915</td>\n",
       "    </tr>\n",
       "    <tr>\n",
       "      <th>75%</th>\n",
       "      <td>1.000000</td>\n",
       "      <td>9.000000</td>\n",
       "      <td>23.000000</td>\n",
       "      <td>3.000000</td>\n",
       "      <td>4.000000</td>\n",
       "      <td>0.000000</td>\n",
       "      <td>0.000000</td>\n",
       "      <td>1.000000</td>\n",
       "      <td>0.000000</td>\n",
       "      <td>0.000000</td>\n",
       "      <td>...</td>\n",
       "      <td>0.000000</td>\n",
       "      <td>1.000000</td>\n",
       "      <td>24.000000</td>\n",
       "      <td>2.000000</td>\n",
       "      <td>10.756187</td>\n",
       "      <td>36.067620</td>\n",
       "      <td>1.642327</td>\n",
       "      <td>28.096296</td>\n",
       "      <td>37175.282240</td>\n",
       "      <td>9.533915</td>\n",
       "    </tr>\n",
       "    <tr>\n",
       "      <th>max</th>\n",
       "      <td>2.000000</td>\n",
       "      <td>12.000000</td>\n",
       "      <td>31.000000</td>\n",
       "      <td>4.000000</td>\n",
       "      <td>6.000000</td>\n",
       "      <td>1.000000</td>\n",
       "      <td>1.000000</td>\n",
       "      <td>1.000000</td>\n",
       "      <td>1.000000</td>\n",
       "      <td>1.000000</td>\n",
       "      <td>...</td>\n",
       "      <td>1.000000</td>\n",
       "      <td>1.000000</td>\n",
       "      <td>31.000000</td>\n",
       "      <td>199.000000</td>\n",
       "      <td>13.559003</td>\n",
       "      <td>91.805095</td>\n",
       "      <td>197.000000</td>\n",
       "      <td>52.686672</td>\n",
       "      <td>146252.160000</td>\n",
       "      <td>11.893088</td>\n",
       "    </tr>\n",
       "  </tbody>\n",
       "</table>\n",
       "<p>8 rows × 21 columns</p>\n",
       "</div>"
      ],
      "text/plain": [
       "       baseline_create_date_year  baseline_create_date_month  \\\n",
       "count               39640.000000                39640.000000   \n",
       "mean                    1.144551                    6.313194   \n",
       "std                     0.351724                    3.307964   \n",
       "min                     0.000000                    1.000000   \n",
       "25%                     1.000000                    3.000000   \n",
       "50%                     1.000000                    6.000000   \n",
       "75%                     1.000000                    9.000000   \n",
       "max                     2.000000                   12.000000   \n",
       "\n",
       "       baseline_create_date_day  baseline_create_date_quarter  \\\n",
       "count              39640.000000                  39640.000000   \n",
       "mean                  15.359914                      2.445081   \n",
       "std                    8.801697                      1.092420   \n",
       "min                    1.000000                      1.000000   \n",
       "25%                    8.000000                      1.000000   \n",
       "50%                   16.000000                      2.000000   \n",
       "75%                   23.000000                      3.000000   \n",
       "max                   31.000000                      4.000000   \n",
       "\n",
       "       baseline_create_date_day_of_week  baseline_create_date_isWeekand  \\\n",
       "count                      39640.000000                    39640.000000   \n",
       "mean                           2.694223                        0.187765   \n",
       "std                            1.832009                        0.390529   \n",
       "min                            0.000000                        0.000000   \n",
       "25%                            1.000000                        0.000000   \n",
       "50%                            3.000000                        0.000000   \n",
       "75%                            4.000000                        0.000000   \n",
       "max                            6.000000                        1.000000   \n",
       "\n",
       "               CA02          U001          U002          U005  ...  \\\n",
       "count  39640.000000  39640.000000  39640.000000  39640.000000  ...   \n",
       "mean       0.081458      0.900505      0.003406      0.000202  ...   \n",
       "std        0.273541      0.299330      0.058259      0.014205  ...   \n",
       "min        0.000000      0.000000      0.000000      0.000000  ...   \n",
       "25%        0.000000      1.000000      0.000000      0.000000  ...   \n",
       "50%        0.000000      1.000000      0.000000      0.000000  ...   \n",
       "75%        0.000000      1.000000      0.000000      0.000000  ...   \n",
       "max        1.000000      1.000000      1.000000      1.000000  ...   \n",
       "\n",
       "               U013  invoice_currency_numeric  due_in_date_day         Delay  \\\n",
       "count  39640.000000              39640.000000     39640.000000  39640.000000   \n",
       "mean       0.014253                  0.918542        16.085141      1.062185   \n",
       "std        0.118535                  0.273541         8.767833     11.346044   \n",
       "min        0.000000                  0.000000         1.000000    -90.000000   \n",
       "25%        0.000000                  1.000000         8.000000     -3.000000   \n",
       "50%        0.000000                  1.000000        16.000000      0.000000   \n",
       "75%        0.000000                  1.000000        24.000000      2.000000   \n",
       "max        1.000000                  1.000000        31.000000    199.000000   \n",
       "\n",
       "       total_open_amount_log  total_open_amount_cube     Avg_delay  \\\n",
       "count           39640.000000            39640.000000  39640.000000   \n",
       "mean                9.410802               26.657357      1.023996   \n",
       "std                 1.780204               12.676650      7.594755   \n",
       "min                 0.029559                1.009902    -79.000000   \n",
       "25%                 8.470684               16.836706     -2.236299   \n",
       "50%                 9.750176               25.791854      0.405941   \n",
       "75%                10.756187               36.067620      1.642327   \n",
       "max                13.559003               91.805095    197.000000   \n",
       "\n",
       "       Avg_amount_cube     Avg_amount  Avg_amount_log  \n",
       "count     39640.000000   39640.000000    39640.000000  \n",
       "mean         26.650888   32235.206524        9.409175  \n",
       "std           4.168458   12647.471558        0.583058  \n",
       "min           3.098140      36.632500        3.284716  \n",
       "25%          24.848175   23208.114691        9.285197  \n",
       "50%          28.096296   37175.282240        9.533915  \n",
       "75%          28.096296   37175.282240        9.533915  \n",
       "max          52.686672  146252.160000       11.893088  \n",
       "\n",
       "[8 rows x 21 columns]"
      ]
     },
     "execution_count": 548,
     "metadata": {},
     "output_type": "execute_result"
    }
   ],
   "source": [
    "train.describe()"
   ]
  },
  {
   "cell_type": "code",
   "execution_count": 560,
   "metadata": {},
   "outputs": [
    {
     "data": {
      "text/plain": [
       "baseline_create_date_year           0\n",
       "baseline_create_date_month          0\n",
       "baseline_create_date_day            0\n",
       "baseline_create_date_quarter        0\n",
       "baseline_create_date_day_of_week    0\n",
       "baseline_create_date_isWeekand      0\n",
       "CA02                                0\n",
       "U001                                0\n",
       "U002                                0\n",
       "U005                                0\n",
       "U007                                0\n",
       "U013                                0\n",
       "invoice_currency_numeric            0\n",
       "due_in_date_day                     0\n",
       "Delay                               0\n",
       "total_open_amount_log               0\n",
       "total_open_amount_cube              0\n",
       "Avg_delay                           0\n",
       "Avg_amount_cube                     0\n",
       "Avg_amount                          0\n",
       "Avg_amount_log                      0\n",
       "dtype: int64"
      ]
     },
     "execution_count": 560,
     "metadata": {},
     "output_type": "execute_result"
    }
   ],
   "source": [
    "train.isnull().sum()"
   ]
  },
  {
   "cell_type": "code",
   "execution_count": 598,
   "metadata": {},
   "outputs": [
    {
     "name": "stdout",
     "output_type": "stream",
     "text": [
      "(39640, 20) (39640,)\n",
      "(4413, 20) (4413,)\n"
     ]
    }
   ],
   "source": [
    "print(x_train.shape,y_train.shape)\n",
    "print(x_test.shape,y_test.shape)"
   ]
  },
  {
   "cell_type": "code",
   "execution_count": 792,
   "metadata": {},
   "outputs": [
    {
     "data": {
      "text/plain": [
       "'C:\\\\Users\\\\xyz'"
      ]
     },
     "execution_count": 792,
     "metadata": {},
     "output_type": "execute_result"
    }
   ],
   "source": [
    "%pwd"
   ]
  },
  {
   "cell_type": "code",
   "execution_count": 569,
   "metadata": {},
   "outputs": [
    {
     "data": {
      "text/plain": [
       "21"
      ]
     },
     "execution_count": 569,
     "metadata": {},
     "output_type": "execute_result"
    }
   ],
   "source": [
    "#Passing a value of zero for the parameter will filter all the features with zero variance\n",
    "constant_filter = VarianceThreshold(threshold=0)\n",
    "#we need to simply apply this filter to our training set as shown in the following example\n",
    "constant_filter.fit(train)\n",
    "#the number of non-constant features.\n",
    "len(train.columns[constant_filter.get_support()])"
   ]
  },
  {
   "cell_type": "code",
   "execution_count": 571,
   "metadata": {},
   "outputs": [
    {
     "name": "stdout",
     "output_type": "stream",
     "text": [
      "0\n"
     ]
    }
   ],
   "source": [
    "constant_columns = [column for column in train.columns\n",
    "                    if column not in train.columns[constant_filter.get_support()]]\n",
    "\n",
    "print(len(constant_columns))"
   ]
  },
  {
   "cell_type": "code",
   "execution_count": 573,
   "metadata": {},
   "outputs": [
    {
     "name": "stdout",
     "output_type": "stream",
     "text": [
      "0\n"
     ]
    }
   ],
   "source": [
    "# transpose the feature matrice\n",
    "train_T = train.T\n",
    "# print the number of duplicated features\n",
    "print(train_T.duplicated().sum())\n",
    "# select the duplicated features columns names\n",
    "duplicated_columns = train_T[train_T.duplicated()].index.values"
   ]
  },
  {
   "cell_type": "code",
   "execution_count": 574,
   "metadata": {},
   "outputs": [
    {
     "data": {
      "text/plain": [
       "array([], dtype=object)"
      ]
     },
     "execution_count": 574,
     "metadata": {},
     "output_type": "execute_result"
    }
   ],
   "source": [
    "#There is no duplicate column present \n",
    "duplicated_columns"
   ]
  },
  {
   "cell_type": "code",
   "execution_count": 575,
   "metadata": {},
   "outputs": [
    {
     "data": {
      "text/plain": [
       "<AxesSubplot:>"
      ]
     },
     "execution_count": 575,
     "metadata": {},
     "output_type": "execute_result"
    },
    {
     "data": {
      "image/png": "[encoded data removed]",
      "text/plain": [
       "<Figure size 1512x720 with 2 Axes>"
      ]
     },
     "metadata": {
      "needs_background": "light"
     },
     "output_type": "display_data"
    }
   ],
   "source": [
    "#visualisation\n",
    "corr=train.corr()\n",
    "plt.figure(figsize=(21,10))\n",
    "sns.heatmap(corr,annot=True)"
   ]
  },
  {
   "cell_type": "code",
   "execution_count": 577,
   "metadata": {},
   "outputs": [],
   "source": [
    "def handling_correlation(df,threshold=0.8):\n",
    "    # creating set to hold the correlated features\n",
    "    corr_features = set()\n",
    "    # create the correlation matrix (default to pearson)\n",
    "    corr_matrix = df.corr()\n",
    "    #code for selecting all correleated features\n",
    "    for i in range(len(corr_matrix .columns)):\n",
    "        for j in range(i):\n",
    "            if abs(corr_matrix.iloc[i, j]) >threshold:\n",
    "                colname = corr_matrix.columns[i]\n",
    "                corr_features.add(colname)\n",
    "    return list(corr_features)"
   ]
  },
  {
   "cell_type": "code",
   "execution_count": 578,
   "metadata": {},
   "outputs": [
    {
     "data": {
      "text/plain": [
       "['invoice_currency_numeric',\n",
       " 'total_open_amount_cube',\n",
       " 'U001',\n",
       " 'baseline_create_date_isWeekand',\n",
       " 'Avg_amount',\n",
       " 'Avg_amount_log',\n",
       " 'baseline_create_date_quarter']"
      ]
     },
     "execution_count": 578,
     "metadata": {},
     "output_type": "execute_result"
    }
   ],
   "source": [
    "#in the time of checking co-relation we have to check with target also that's why I am passing out output_label also\n",
    "handling_correlation(train.copy(),0.70)"
   ]
  },
  {
   "cell_type": "code",
   "execution_count": 600,
   "metadata": {},
   "outputs": [
    {
     "name": "stdout",
     "output_type": "stream",
     "text": [
      "Collecting mlxtend\n",
      "  Downloading mlxtend-0.18.0-py2.py3-none-any.whl (1.3 MB)\n",
      "Requirement already satisfied: pandas>=0.24.2 in c:\\users\\xyz\\anaconda3\\lib\\site-packages (from mlxtend) (1.1.3)\n",
      "Requirement already satisfied: setuptools in c:\\users\\xyz\\anaconda3\\lib\\site-packages (from mlxtend) (50.3.1.post20201107)\n",
      "Requirement already satisfied: joblib>=0.13.2 in c:\\users\\xyz\\anaconda3\\lib\\site-packages (from mlxtend) (0.17.0)\n",
      "Requirement already satisfied: numpy>=1.16.2 in c:\\users\\xyz\\anaconda3\\lib\\site-packages (from mlxtend) (1.19.2)\n",
      "Requirement already satisfied: scikit-learn>=0.20.3 in c:\\users\\xyz\\anaconda3\\lib\\site-packages (from mlxtend) (0.23.2)\n",
      "Requirement already satisfied: matplotlib>=3.0.0 in c:\\users\\xyz\\anaconda3\\lib\\site-packages (from mlxtend) (3.3.2)\n",
      "Requirement already satisfied: scipy>=1.2.1 in c:\\users\\xyz\\anaconda3\\lib\\site-packages (from mlxtend) (1.5.2)\n",
      "Requirement already satisfied: certifi>=2020.06.20 in c:\\users\\xyz\\anaconda3\\lib\\site-packages (from matplotlib>=3.0.0->mlxtend) (2020.6.20)\n",
      "Requirement already satisfied: kiwisolver>=1.0.1 in c:\\users\\xyz\\anaconda3\\lib\\site-packages (from matplotlib>=3.0.0->mlxtend) (1.3.0)\n",
      "Requirement already satisfied: cycler>=0.10 in c:\\users\\xyz\\anaconda3\\lib\\site-packages (from matplotlib>=3.0.0->mlxtend) (0.10.0)\n",
      "Requirement already satisfied: pyparsing!=2.0.4,!=2.1.2,!=2.1.6,>=2.0.3 in c:\\users\\xyz\\anaconda3\\lib\\site-packages (from matplotlib>=3.0.0->mlxtend) (2.4.7)\n",
      "Requirement already satisfied: python-dateutil>=2.1 in c:\\users\\xyz\\anaconda3\\lib\\site-packages (from matplotlib>=3.0.0->mlxtend) (2.8.1)\n",
      "Requirement already satisfied: pillow>=6.2.0 in c:\\users\\xyz\\anaconda3\\lib\\site-packages (from matplotlib>=3.0.0->mlxtend) (8.0.1)\n",
      "Requirement already satisfied: six in c:\\users\\xyz\\anaconda3\\lib\\site-packages (from cycler>=0.10->matplotlib>=3.0.0->mlxtend) (1.15.0)\n",
      "Requirement already satisfied: pytz>=2017.2 in c:\\users\\xyz\\anaconda3\\lib\\site-packages (from pandas>=0.24.2->mlxtend) (2020.1)\n",
      "Requirement already satisfied: threadpoolctl>=2.0.0 in c:\\users\\xyz\\anaconda3\\lib\\site-packages (from scikit-learn>=0.20.3->mlxtend) (2.1.0)\n",
      "Installing collected packages: mlxtend\n",
      "Successfully installed mlxtend-0.18.0\n"
     ]
    },
    {
     "name": "stderr",
     "output_type": "stream",
     "text": [
      "WARNING: You are using pip version 20.3.3; however, version 21.0 is available.\n",
      "You should consider upgrading via the 'C:\\Users\\xyz\\anaconda3\\python.exe -m pip install --upgrade pip' command.\n"
     ]
    }
   ],
   "source": [
    "!pip install mlxtend --user"
   ]
  },
  {
   "cell_type": "code",
   "execution_count": 601,
   "metadata": {},
   "outputs": [],
   "source": [
    "def FFS(X,y):\n",
    "    from mlxtend.feature_selection import SequentialFeatureSelector as SFS\n",
    "    from sklearn.linear_model import LinearRegression\n",
    "    # Sequential Forward Selection(sfs)\n",
    "    sfs = SFS(LinearRegression(),\n",
    "              k_features=8,\n",
    "              forward=True,\n",
    "              scoring = 'r2',\n",
    "              cv = 5)\n",
    "    \"\"\"\n",
    "    LinearRegression() is an estimator for the entire process. Similarly, it can be any classification based algorithm.\n",
    "\n",
    "    k_features indicates the number of features to be selected. It can be any random value, but the optimal value can be found by analyzing and visualizing the scores for different numbers of features.\n",
    "\n",
    "    we give forward=True if we want forward feature selection\n",
    "\n",
    "    The scoring argument specifies the evaluation criterion to be used. For regression problems, there is only r2 score in default implementation. Similarly for classification, it can be accuracy, precision, recall, f1-score, etc.\n",
    "\n",
    "    cv argument is for k-fold cross-validation. \n",
    "\n",
    "    \"\"\"\n",
    "    sfs.fit(X, y)#doing the FFS\n",
    "    \n",
    "    return sfs.k_feature_names_"
   ]
  },
  {
   "cell_type": "code",
   "execution_count": 602,
   "metadata": {},
   "outputs": [
    {
     "data": {
      "text/plain": [
       "('baseline_create_date_day',\n",
       " 'baseline_create_date_day_of_week',\n",
       " 'CA02',\n",
       " 'due_in_date_day',\n",
       " 'total_open_amount_log',\n",
       " 'total_open_amount_cube',\n",
       " 'Avg_delay',\n",
       " 'Avg_amount_log')"
      ]
     },
     "execution_count": 602,
     "metadata": {},
     "output_type": "execute_result"
    }
   ],
   "source": [
    "FFS(x_train,y_train)#features selected by FFS"
   ]
  },
  {
   "cell_type": "code",
   "execution_count": 604,
   "metadata": {},
   "outputs": [],
   "source": [
    "def tree_based_feature_importance(x_train,y_train):\n",
    "    from sklearn.ensemble import RandomForestRegressor\n",
    "    # create the random forest model\n",
    "    model = RandomForestRegressor(n_estimators=120)\n",
    "\n",
    "    # fit the model to start training.\n",
    "    model.fit(x_train, y_train)\n",
    "\n",
    "    # get the importance of the resulting features.\n",
    "    importances = model.feature_importances_\n",
    "\n",
    "    # create a data frame for visualization.\n",
    "    final_df = pd.DataFrame({\"Features\": x_train.columns, \"Importances\":importances})\n",
    "    final_df.set_index('Importances')\n",
    "\n",
    "    # sort in descending order \n",
    "    final_df = final_df.sort_values('Importances',ascending=False)\n",
    "    \n",
    "    #visualising feature importance\n",
    "    pd.Series(model.feature_importances_, index=x_train.columns).nlargest(6).plot(kind='barh')  \n",
    "    return final_df"
   ]
  },
  {
   "cell_type": "code",
   "execution_count": 605,
   "metadata": {},
   "outputs": [
    {
     "data": {
      "text/plain": [
       "'\\nNow you can choose top n features with higher feature importances.\\n\\n'"
      ]
     },
     "execution_count": 605,
     "metadata": {},
     "output_type": "execute_result"
    },
    {
     "data": {
      "image/png": "[encoded data removed]",
      "text/plain": [
       "<Figure size 432x288 with 1 Axes>"
      ]
     },
     "metadata": {
      "needs_background": "light"
     },
     "output_type": "display_data"
    }
   ],
   "source": [
    "feature_importance=tree_based_feature_importance(x_train,y_train)#features importance data frame\n",
    "\n",
    "\"\"\"\n",
    "Now you can choose top n features with higher feature importances.\n",
    "\n",
    "\"\"\"\n"
   ]
  },
  {
   "cell_type": "code",
   "execution_count": 609,
   "metadata": {},
   "outputs": [
    {
     "data": {
      "text/html": [
       "<div>\n",
       "<style scoped>\n",
       "    .dataframe tbody tr th:only-of-type {\n",
       "        vertical-align: middle;\n",
       "    }\n",
       "\n",
       "    .dataframe tbody tr th {\n",
       "        vertical-align: top;\n",
       "    }\n",
       "\n",
       "    .dataframe thead th {\n",
       "        text-align: right;\n",
       "    }\n",
       "</style>\n",
       "<table border=\"1\" class=\"dataframe\">\n",
       "  <thead>\n",
       "    <tr style=\"text-align: right;\">\n",
       "      <th></th>\n",
       "      <th>Features</th>\n",
       "      <th>Importances</th>\n",
       "    </tr>\n",
       "  </thead>\n",
       "  <tbody>\n",
       "    <tr>\n",
       "      <th>16</th>\n",
       "      <td>Avg_delay</td>\n",
       "      <td>0.508999</td>\n",
       "    </tr>\n",
       "    <tr>\n",
       "      <th>15</th>\n",
       "      <td>total_open_amount_cube</td>\n",
       "      <td>0.087726</td>\n",
       "    </tr>\n",
       "    <tr>\n",
       "      <th>14</th>\n",
       "      <td>total_open_amount_log</td>\n",
       "      <td>0.086586</td>\n",
       "    </tr>\n",
       "    <tr>\n",
       "      <th>18</th>\n",
       "      <td>Avg_amount</td>\n",
       "      <td>0.053680</td>\n",
       "    </tr>\n",
       "    <tr>\n",
       "      <th>2</th>\n",
       "      <td>baseline_create_date_day</td>\n",
       "      <td>0.048715</td>\n",
       "    </tr>\n",
       "    <tr>\n",
       "      <th>13</th>\n",
       "      <td>due_in_date_day</td>\n",
       "      <td>0.043562</td>\n",
       "    </tr>\n",
       "    <tr>\n",
       "      <th>19</th>\n",
       "      <td>Avg_amount_log</td>\n",
       "      <td>0.038014</td>\n",
       "    </tr>\n",
       "    <tr>\n",
       "      <th>1</th>\n",
       "      <td>baseline_create_date_month</td>\n",
       "      <td>0.036173</td>\n",
       "    </tr>\n",
       "    <tr>\n",
       "      <th>4</th>\n",
       "      <td>baseline_create_date_day_of_week</td>\n",
       "      <td>0.028097</td>\n",
       "    </tr>\n",
       "    <tr>\n",
       "      <th>17</th>\n",
       "      <td>Avg_amount_cube</td>\n",
       "      <td>0.026832</td>\n",
       "    </tr>\n",
       "    <tr>\n",
       "      <th>0</th>\n",
       "      <td>baseline_create_date_year</td>\n",
       "      <td>0.021863</td>\n",
       "    </tr>\n",
       "    <tr>\n",
       "      <th>3</th>\n",
       "      <td>baseline_create_date_quarter</td>\n",
       "      <td>0.009730</td>\n",
       "    </tr>\n",
       "    <tr>\n",
       "      <th>5</th>\n",
       "      <td>baseline_create_date_isWeekand</td>\n",
       "      <td>0.002913</td>\n",
       "    </tr>\n",
       "    <tr>\n",
       "      <th>7</th>\n",
       "      <td>U001</td>\n",
       "      <td>0.002045</td>\n",
       "    </tr>\n",
       "    <tr>\n",
       "      <th>8</th>\n",
       "      <td>U002</td>\n",
       "      <td>0.001868</td>\n",
       "    </tr>\n",
       "    <tr>\n",
       "      <th>11</th>\n",
       "      <td>U013</td>\n",
       "      <td>0.001484</td>\n",
       "    </tr>\n",
       "    <tr>\n",
       "      <th>6</th>\n",
       "      <td>CA02</td>\n",
       "      <td>0.000658</td>\n",
       "    </tr>\n",
       "    <tr>\n",
       "      <th>12</th>\n",
       "      <td>invoice_currency_numeric</td>\n",
       "      <td>0.000627</td>\n",
       "    </tr>\n",
       "    <tr>\n",
       "      <th>10</th>\n",
       "      <td>U007</td>\n",
       "      <td>0.000421</td>\n",
       "    </tr>\n",
       "    <tr>\n",
       "      <th>9</th>\n",
       "      <td>U005</td>\n",
       "      <td>0.000007</td>\n",
       "    </tr>\n",
       "  </tbody>\n",
       "</table>\n",
       "</div>"
      ],
      "text/plain": [
       "                            Features  Importances\n",
       "16                         Avg_delay     0.508999\n",
       "15            total_open_amount_cube     0.087726\n",
       "14             total_open_amount_log     0.086586\n",
       "18                        Avg_amount     0.053680\n",
       "2           baseline_create_date_day     0.048715\n",
       "13                   due_in_date_day     0.043562\n",
       "19                    Avg_amount_log     0.038014\n",
       "1         baseline_create_date_month     0.036173\n",
       "4   baseline_create_date_day_of_week     0.028097\n",
       "17                   Avg_amount_cube     0.026832\n",
       "0          baseline_create_date_year     0.021863\n",
       "3       baseline_create_date_quarter     0.009730\n",
       "5     baseline_create_date_isWeekand     0.002913\n",
       "7                               U001     0.002045\n",
       "8                               U002     0.001868\n",
       "11                              U013     0.001484\n",
       "6                               CA02     0.000658\n",
       "12          invoice_currency_numeric     0.000627\n",
       "10                              U007     0.000421\n",
       "9                               U005     0.000007"
      ]
     },
     "metadata": {},
     "output_type": "display_data"
    }
   ],
   "source": [
    "display(feature_importance)"
   ]
  },
  {
   "cell_type": "code",
   "execution_count": 607,
   "metadata": {},
   "outputs": [
    {
     "name": "stderr",
     "output_type": "stream",
     "text": [
      "[Parallel(n_jobs=-1)]: Using backend LokyBackend with 8 concurrent workers.\n",
      "[Parallel(n_jobs=-1)]: Done  16 out of  20 | elapsed:   27.6s remaining:    6.8s\n",
      "[Parallel(n_jobs=-1)]: Done  20 out of  20 | elapsed:  1.3min finished\n",
      "\n",
      "[2021-02-01 07:18:56] Features: 1/10 -- score: 0.4020064603937576[Parallel(n_jobs=-1)]: Using backend LokyBackend with 8 concurrent workers.\n",
      "[Parallel(n_jobs=-1)]: Done  14 out of  19 | elapsed:  1.2min remaining:   25.5s\n",
      "[Parallel(n_jobs=-1)]: Done  19 out of  19 | elapsed:  1.7min finished\n",
      "\n",
      "[2021-02-01 07:20:41] Features: 2/10 -- score: 0.5021883781190637[Parallel(n_jobs=-1)]: Using backend LokyBackend with 8 concurrent workers.\n",
      "[Parallel(n_jobs=-1)]: Done  13 out of  18 | elapsed:  1.1min remaining:   25.9s\n",
      "[Parallel(n_jobs=-1)]: Done  18 out of  18 | elapsed:  2.0min finished\n",
      "\n",
      "[2021-02-01 07:22:41] Features: 3/10 -- score: 0.5028095690802896[Parallel(n_jobs=-1)]: Using backend LokyBackend with 8 concurrent workers.\n",
      "[Parallel(n_jobs=-1)]: Done  11 out of  17 | elapsed:  1.1min remaining:   36.5s\n",
      "[Parallel(n_jobs=-1)]: Done  17 out of  17 | elapsed:  2.1min finished\n",
      "\n",
      "[2021-02-01 07:24:46] Features: 4/10 -- score: 0.5035858466877164[Parallel(n_jobs=-1)]: Using backend LokyBackend with 8 concurrent workers.\n",
      "[Parallel(n_jobs=-1)]: Done  10 out of  16 | elapsed:  1.3min remaining:   46.9s\n",
      "[Parallel(n_jobs=-1)]: Done  16 out of  16 | elapsed:  2.2min finished\n",
      "\n",
      "[2021-02-01 07:27:00] Features: 5/10 -- score: 0.5037478377155369[Parallel(n_jobs=-1)]: Using backend LokyBackend with 8 concurrent workers.\n",
      "[Parallel(n_jobs=-1)]: Done   8 out of  15 | elapsed:  1.2min remaining:  1.1min\n",
      "[Parallel(n_jobs=-1)]: Done  15 out of  15 | elapsed:  2.2min finished\n",
      "\n",
      "[2021-02-01 07:29:13] Features: 6/10 -- score: 0.5049739750022896[Parallel(n_jobs=-1)]: Using backend LokyBackend with 8 concurrent workers.\n",
      "[Parallel(n_jobs=-1)]: Done   7 out of  14 | elapsed:  1.2min remaining:  1.2min\n",
      "[Parallel(n_jobs=-1)]: Done  14 out of  14 | elapsed:  2.3min finished\n",
      "\n",
      "[2021-02-01 07:31:33] Features: 7/10 -- score: 0.5044476880355081[Parallel(n_jobs=-1)]: Using backend LokyBackend with 8 concurrent workers.\n",
      "[Parallel(n_jobs=-1)]: Done   5 out of  13 | elapsed:  1.0min remaining:  1.6min\n",
      "[Parallel(n_jobs=-1)]: Done  13 out of  13 | elapsed:  2.2min finished\n",
      "\n",
      "[2021-02-01 07:33:44] Features: 8/10 -- score: 0.5047169004650316[Parallel(n_jobs=-1)]: Using backend LokyBackend with 8 concurrent workers.\n",
      "[Parallel(n_jobs=-1)]: Done   4 out of  12 | elapsed:   57.4s remaining:  1.9min\n",
      "[Parallel(n_jobs=-1)]: Done  12 out of  12 | elapsed:  2.3min finished\n",
      "\n",
      "[2021-02-01 07:36:02] Features: 9/10 -- score: 0.5049223586415386[Parallel(n_jobs=-1)]: Using backend LokyBackend with 8 concurrent workers.\n",
      "[Parallel(n_jobs=-1)]: Done   2 out of  11 | elapsed:  1.0min remaining:  4.5min\n",
      "[Parallel(n_jobs=-1)]: Done   8 out of  11 | elapsed:  1.4min remaining:   32.0s\n",
      "[Parallel(n_jobs=-1)]: Done  11 out of  11 | elapsed:  2.4min finished\n",
      "\n",
      "[2021-02-01 07:38:28] Features: 10/10 -- score: 0.5039018725964173"
     ]
    },
    {
     "data": {
      "text/plain": [
       "SequentialFeatureSelector(estimator=RandomForestRegressor(), k_features=10,\n",
       "                          n_jobs=-1, scoring='r2', verbose=2)"
      ]
     },
     "execution_count": 607,
     "metadata": {},
     "output_type": "execute_result"
    }
   ],
   "source": [
    "from mlxtend.feature_selection import SequentialFeatureSelector as sfs\n",
    "#I am going to use RandomForestRegressor algoritham as an estimator. Your can select other regression alogritham as well.\n",
    "from sklearn.ensemble import RandomForestRegressor\n",
    "#k_features=10 (It will get top 10 features best suited for prediction)\n",
    "#forward=True (Forward feature selection model)\n",
    "#verbose=2 (It will show details output as shown below.)\n",
    "#cv=5 (Kfold cross valiation: it will split the training set in 5 set and 4 will be using for training the model and 1 will using as validation)\n",
    "#n_jobs=-1 (Number of cores it will use for execution.-1 means it will use all the cores of CPU for execution.)\n",
    "#scoring='r2'(R-squared is a statistical measure of how close the data are to the fitted regression line)\n",
    "model=sfs(RandomForestRegressor(),k_features=10,forward=True,verbose=2,cv=5,n_jobs=-1,scoring='r2')\n",
    "model.fit(x_train,y_train)"
   ]
  },
  {
   "cell_type": "code",
   "execution_count": 608,
   "metadata": {},
   "outputs": [
    {
     "data": {
      "text/plain": [
       "('CA02',\n",
       " 'U001',\n",
       " 'U005',\n",
       " 'U007',\n",
       " 'U013',\n",
       " 'invoice_currency_numeric',\n",
       " 'Avg_delay',\n",
       " 'Avg_amount_cube',\n",
       " 'Avg_amount',\n",
       " 'Avg_amount_log')"
      ]
     },
     "execution_count": 608,
     "metadata": {},
     "output_type": "execute_result"
    }
   ],
   "source": [
    "model.k_feature_names_"
   ]
  },
  {
   "cell_type": "code",
   "execution_count": 610,
   "metadata": {},
   "outputs": [],
   "source": [
    "# Filtering out the warnings after Cell Execution\n",
    "import warnings\n",
    "warnings.filterwarnings('ignore')\n"
   ]
  },
  {
   "cell_type": "code",
   "execution_count": 612,
   "metadata": {},
   "outputs": [
    {
     "name": "stdout",
     "output_type": "stream",
     "text": [
      "Collecting xgboost\n",
      "  Downloading xgboost-1.3.3-py3-none-win_amd64.whl (95.2 MB)\n",
      "Requirement already satisfied: numpy in c:\\users\\xyz\\anaconda3\\lib\\site-packages (from xgboost) (1.19.2)\n",
      "Requirement already satisfied: scipy in c:\\users\\xyz\\anaconda3\\lib\\site-packages (from xgboost) (1.5.2)\n",
      "Installing collected packages: xgboost\n",
      "Successfully installed xgboost-1.3.3\n"
     ]
    },
    {
     "name": "stderr",
     "output_type": "stream",
     "text": [
      "WARNING: You are using pip version 20.3.3; however, version 21.0 is available.\n",
      "You should consider upgrading via the 'C:\\Users\\xyz\\anaconda3\\python.exe -m pip install --upgrade pip' command.\n"
     ]
    }
   ],
   "source": [
    "!pip install xgboost --user"
   ]
  },
  {
   "cell_type": "code",
   "execution_count": 613,
   "metadata": {},
   "outputs": [],
   "source": [
    "# Importing in Common Data Science Libraries\n",
    "import pandas as pd\n",
    "import numpy as np\n",
    "from sklearn.model_selection import train_test_split\n",
    "\n",
    "# Modeling & Accuracy Metrics\n",
    "from sklearn.linear_model import LinearRegression\n",
    "from sklearn.svm import SVR\n",
    "from sklearn.tree import DecisionTreeRegressor\n",
    "from sklearn.ensemble import RandomForestRegressor\n",
    "import xgboost as xgb\n",
    "from sklearn.datasets import load_boston\n",
    "from sklearn.metrics import mean_squared_error\n",
    "from sklearn.metrics import r2_score"
   ]
  },
  {
   "cell_type": "code",
   "execution_count": 704,
   "metadata": {},
   "outputs": [],
   "source": [
    "# Defining Lists to Store in the Results and Names of Algorithms\n",
    "MSE_Score = []\n",
    "R2_Score = []\n",
    "Algorithm = []"
   ]
  },
  {
   "cell_type": "code",
   "execution_count": 622,
   "metadata": {},
   "outputs": [],
   "source": [
    "x_test['Avg_delay'].fillna(x_test['Avg_delay'].mean(),inplace =True)"
   ]
  },
  {
   "cell_type": "code",
   "execution_count": 626,
   "metadata": {},
   "outputs": [
    {
     "data": {
      "text/plain": [
       "4413"
      ]
     },
     "execution_count": 626,
     "metadata": {},
     "output_type": "execute_result"
    }
   ],
   "source": [
    "y_test.isnull().sum()"
   ]
  },
  {
   "cell_type": "code",
   "execution_count": 679,
   "metadata": {},
   "outputs": [],
   "source": [
    "#selected features"
   ]
  },
  {
   "cell_type": "code",
   "execution_count": 705,
   "metadata": {},
   "outputs": [],
   "source": [
    "f = ['CA02','Avg_amount_cube','Avg_delay','total_open_amount_cube','invoice_currency_numeric','baseline_create_date_isWeekand']"
   ]
  },
  {
   "cell_type": "code",
   "execution_count": 743,
   "metadata": {},
   "outputs": [],
   "source": [
    "# Fitting Simple Linear Regression to the Training Set\n",
    "Algorithm.append('Linear Regression')\n",
    "clf = LinearRegression()\n",
    "clf.fit(x_train[f], y_train)\n",
    "\n",
    "# Predicting the Test Set Results\n",
    "predicted = clf.predict(x_val[f])"
   ]
  },
  {
   "cell_type": "code",
   "execution_count": 667,
   "metadata": {},
   "outputs": [],
   "source": []
  },
  {
   "cell_type": "code",
   "execution_count": 707,
   "metadata": {},
   "outputs": [
    {
     "name": "stdout",
     "output_type": "stream",
     "text": [
      "62.147719983242816\n"
     ]
    }
   ],
   "source": [
    "print(mean_squared_error(y_val, predicted))"
   ]
  },
  {
   "cell_type": "code",
   "execution_count": 744,
   "metadata": {},
   "outputs": [],
   "source": [
    "# Appending the Scores For Visualisation at a Later Part\n",
    "MSE_Score.append(mean_squared_error(y_val, predicted))\n",
    "R2_Score.append(r2_score(y_val, predicted))"
   ]
  },
  {
   "cell_type": "code",
   "execution_count": 741,
   "metadata": {},
   "outputs": [],
   "source": [
    "# Fitting SVR to the Training Set\n",
    "Algorithm.append('Support Vector Regression')\n",
    "clf = SVR()\n",
    "clf.fit(x_train[f], y_train)\n",
    "\n",
    "# Predicting the Test Set Results\n",
    "predicted = clf.predict(x_val[f])"
   ]
  },
  {
   "cell_type": "code",
   "execution_count": 693,
   "metadata": {},
   "outputs": [
    {
     "name": "stdout",
     "output_type": "stream",
     "text": [
      "62.14773325803078\n"
     ]
    }
   ],
   "source": [
    "print(mean_squared_error(y_val, predicted))"
   ]
  },
  {
   "cell_type": "code",
   "execution_count": 742,
   "metadata": {},
   "outputs": [],
   "source": [
    "# Appending the Scores For Visualisation at a Later Part\n",
    "MSE_Score.append(mean_squared_error(y_val, predicted))\n",
    "R2_Score.append(r2_score(y_val, predicted))"
   ]
  },
  {
   "cell_type": "code",
   "execution_count": 745,
   "metadata": {},
   "outputs": [],
   "source": [
    "# Fitting Random Forest Regressor Tree to the Training Set\n",
    "Algorithm.append('Random Forest Regressor')\n",
    "clf = RandomForestRegressor()\n",
    "clf.fit(x_train[f], y_train)\n",
    "\n",
    "# Predicting the Test Set Results\n",
    "predicted = clf.predict(x_val[f])"
   ]
  },
  {
   "cell_type": "code",
   "execution_count": 696,
   "metadata": {},
   "outputs": [
    {
     "name": "stdout",
     "output_type": "stream",
     "text": [
      "8.824887266262166\n"
     ]
    }
   ],
   "source": [
    "print(mean_squared_error(y_val, predicted))"
   ]
  },
  {
   "cell_type": "code",
   "execution_count": 746,
   "metadata": {},
   "outputs": [],
   "source": [
    "# Appending the Scores For Visualisation at a Later Part\n",
    "MSE_Score.append(mean_squared_error(y_val, predicted))\n",
    "R2_Score.append(r2_score(y_val, predicted))"
   ]
  },
  {
   "cell_type": "code",
   "execution_count": 747,
   "metadata": {},
   "outputs": [],
   "source": [
    "# Fitting XGBoost Regressor to the Training Set\n",
    "Algorithm.append('XGB Regressor')\n",
    "clf = xgb.XGBRegressor()\n",
    "clf.fit(x_train[f], y_train)\n",
    "\n",
    "# Predicting the Test Set Results\n",
    "predicted = clf.predict(x_val[f])"
   ]
  },
  {
   "cell_type": "code",
   "execution_count": 729,
   "metadata": {},
   "outputs": [
    {
     "name": "stdout",
     "output_type": "stream",
     "text": [
      "29.15226800554938\n"
     ]
    }
   ],
   "source": [
    "print(mean_squared_error(y_val, predicted))"
   ]
  },
  {
   "cell_type": "code",
   "execution_count": 730,
   "metadata": {},
   "outputs": [],
   "source": [
    "# Fitting Random Forest Regressor Tree to the Training Set\n",
    "Algorithm.append('Random Forest Regressor')\n",
    "clf = RandomForestRegressor()\n",
    "clf.fit(x_train, y_train)\n",
    "\n",
    "# Predicting the Test Set Results\n",
    "predicted = clf.predict(x_val)"
   ]
  },
  {
   "cell_type": "code",
   "execution_count": 731,
   "metadata": {},
   "outputs": [
    {
     "name": "stdout",
     "output_type": "stream",
     "text": [
      "284.10674045601\n"
     ]
    }
   ],
   "source": [
    "print(mean_squared_error(y_val, predicted))"
   ]
  },
  {
   "cell_type": "code",
   "execution_count": 749,
   "metadata": {},
   "outputs": [],
   "source": [
    "# Appending the Scores For Visualisation at a Later Part\n",
    "MSE_Score.append(mean_squared_error(y_val, predicted))\n",
    "R2_Score.append(r2_score(y_val, predicted))"
   ]
  },
  {
   "cell_type": "code",
   "execution_count": 752,
   "metadata": {},
   "outputs": [],
   "source": [
    "# Just Combining the Lists into a DataFrame for a Better Visualisation\n",
    "Comparison = pd.DataFrame(list(zip(Algorithm, MSE_Score, R2_Score)), columns = ['Algorithm', 'MSE_Score', 'R2_Score'])"
   ]
  },
  {
   "cell_type": "code",
   "execution_count": 753,
   "metadata": {},
   "outputs": [
    {
     "data": {
      "text/html": [
       "<div>\n",
       "<style scoped>\n",
       "    .dataframe tbody tr th:only-of-type {\n",
       "        vertical-align: middle;\n",
       "    }\n",
       "\n",
       "    .dataframe tbody tr th {\n",
       "        vertical-align: top;\n",
       "    }\n",
       "\n",
       "    .dataframe thead th {\n",
       "        text-align: right;\n",
       "    }\n",
       "</style>\n",
       "<table border=\"1\" class=\"dataframe\">\n",
       "  <thead>\n",
       "    <tr style=\"text-align: right;\">\n",
       "      <th></th>\n",
       "      <th>Algorithm</th>\n",
       "      <th>MSE_Score</th>\n",
       "      <th>R2_Score</th>\n",
       "    </tr>\n",
       "  </thead>\n",
       "  <tbody>\n",
       "    <tr>\n",
       "      <th>0</th>\n",
       "      <td>Linear Regression</td>\n",
       "      <td>62.147720</td>\n",
       "      <td>0.453296</td>\n",
       "    </tr>\n",
       "    <tr>\n",
       "      <th>1</th>\n",
       "      <td>Support Vector Regression</td>\n",
       "      <td>62.195532</td>\n",
       "      <td>0.452876</td>\n",
       "    </tr>\n",
       "    <tr>\n",
       "      <th>2</th>\n",
       "      <td>Random Forest Regressor</td>\n",
       "      <td>7.960506</td>\n",
       "      <td>0.929973</td>\n",
       "    </tr>\n",
       "    <tr>\n",
       "      <th>3</th>\n",
       "      <td>XGB Regressor</td>\n",
       "      <td>29.152268</td>\n",
       "      <td>0.743552</td>\n",
       "    </tr>\n",
       "    <tr>\n",
       "      <th>4</th>\n",
       "      <td>Decision Tree Regressor</td>\n",
       "      <td>284.106740</td>\n",
       "      <td>-1.499242</td>\n",
       "    </tr>\n",
       "    <tr>\n",
       "      <th>5</th>\n",
       "      <td>Decision Tree Regressor</td>\n",
       "      <td>1.267950</td>\n",
       "      <td>0.988846</td>\n",
       "    </tr>\n",
       "    <tr>\n",
       "      <th>6</th>\n",
       "      <td>Decision Tree Regressor</td>\n",
       "      <td>62.195532</td>\n",
       "      <td>0.452876</td>\n",
       "    </tr>\n",
       "    <tr>\n",
       "      <th>7</th>\n",
       "      <td>Decision Tree Regressor</td>\n",
       "      <td>62.147720</td>\n",
       "      <td>0.453296</td>\n",
       "    </tr>\n",
       "    <tr>\n",
       "      <th>8</th>\n",
       "      <td>Decision Tree Regressor</td>\n",
       "      <td>7.863599</td>\n",
       "      <td>0.930825</td>\n",
       "    </tr>\n",
       "    <tr>\n",
       "      <th>9</th>\n",
       "      <td>XGB Regressor</td>\n",
       "      <td>29.152268</td>\n",
       "      <td>0.743552</td>\n",
       "    </tr>\n",
       "    <tr>\n",
       "      <th>10</th>\n",
       "      <td>XGB Regressor</td>\n",
       "      <td>29.152268</td>\n",
       "      <td>0.743552</td>\n",
       "    </tr>\n",
       "    <tr>\n",
       "      <th>11</th>\n",
       "      <td>Random Forest Regressor</td>\n",
       "      <td>1.267950</td>\n",
       "      <td>0.988846</td>\n",
       "    </tr>\n",
       "  </tbody>\n",
       "</table>\n",
       "</div>"
      ],
      "text/plain": [
       "                    Algorithm   MSE_Score  R2_Score\n",
       "0           Linear Regression   62.147720  0.453296\n",
       "1   Support Vector Regression   62.195532  0.452876\n",
       "2     Random Forest Regressor    7.960506  0.929973\n",
       "3               XGB Regressor   29.152268  0.743552\n",
       "4     Decision Tree Regressor  284.106740 -1.499242\n",
       "5     Decision Tree Regressor    1.267950  0.988846\n",
       "6     Decision Tree Regressor   62.195532  0.452876\n",
       "7     Decision Tree Regressor   62.147720  0.453296\n",
       "8     Decision Tree Regressor    7.863599  0.930825\n",
       "9               XGB Regressor   29.152268  0.743552\n",
       "10              XGB Regressor   29.152268  0.743552\n",
       "11    Random Forest Regressor    1.267950  0.988846"
      ]
     },
     "execution_count": 753,
     "metadata": {},
     "output_type": "execute_result"
    }
   ],
   "source": [
    "# Score Card\n",
    "Comparison"
   ]
  },
  {
   "cell_type": "code",
   "execution_count": 750,
   "metadata": {},
   "outputs": [],
   "source": [
    "# Fitting Decision Tree to the Training Set\n",
    "Algorithm.append('Decision Tree Regressor')\n",
    "clf = DecisionTreeRegressor()\n",
    "clf.fit(x_train[f], y_train)\n",
    "\n",
    "# Predicting the Test Set Results\n",
    "predicted = clf.predict(x_val[f])"
   ]
  },
  {
   "cell_type": "code",
   "execution_count": 751,
   "metadata": {},
   "outputs": [],
   "source": [
    "# Appending the Scores For Visualisation at a Later Part\n",
    "MSE_Score.append(mean_squared_error(y_val, predicted))\n",
    "R2_Score.append(r2_score(y_val, predicted))"
   ]
  },
  {
   "cell_type": "code",
   "execution_count": 737,
   "metadata": {},
   "outputs": [
    {
     "name": "stdout",
     "output_type": "stream",
     "text": [
      "1.2679503078398986\n"
     ]
    }
   ],
   "source": [
    "print(mean_squared_error(y_val, predicted))"
   ]
  },
  {
   "cell_type": "code",
   "execution_count": 754,
   "metadata": {},
   "outputs": [],
   "source": [
    "# 0-15 days -> 1\n",
    "# 16-30 days ->2\n",
    "# 31-45 days ->3\n",
    "# 46-60 days ->4\n",
    "# Greater than 60 days ->5\n",
    "# Less than 0 days ->6"
   ]
  },
  {
   "cell_type": "code",
   "execution_count": 755,
   "metadata": {},
   "outputs": [],
   "source": [
    "# USING RANDOM FOREST"
   ]
  },
  {
   "cell_type": "code",
   "execution_count": 756,
   "metadata": {},
   "outputs": [],
   "source": [
    "# Fitting Random Forest Regressor Tree to the Training Set\n",
    "Algorithm.append('Random Forest Regressor')\n",
    "clf = RandomForestRegressor()\n",
    "clf.fit(x_train[f], y_train)\n",
    "\n",
    "# Predicting the Test Set Results\n",
    "predicted = clf.predict(x_test[f])"
   ]
  },
  {
   "cell_type": "code",
   "execution_count": 779,
   "metadata": {},
   "outputs": [
    {
     "data": {
      "text/plain": [
       "array([1.2 , 2.84, 0.27, ..., 0.49, 0.85, 0.52])"
      ]
     },
     "execution_count": 779,
     "metadata": {},
     "output_type": "execute_result"
    }
   ],
   "source": [
    "predicted"
   ]
  },
  {
   "cell_type": "code",
   "execution_count": 780,
   "metadata": {},
   "outputs": [],
   "source": [
    "predicted_ceil = np.ceil(predicted) "
   ]
  },
  {
   "cell_type": "code",
   "execution_count": 782,
   "metadata": {},
   "outputs": [
    {
     "ename": "AttributeError",
     "evalue": "'numpy.ndarray' object has no attribute 'describe'",
     "output_type": "error",
     "traceback": [
      "\u001b[1;31m---------------------------------------------------------------------------\u001b[0m",
      "\u001b[1;31mAttributeError\u001b[0m                            Traceback (most recent call last)",
      "\u001b[1;32m<ipython-input-782-7e0830a30b8f>\u001b[0m in \u001b[0;36m<module>\u001b[1;34m\u001b[0m\n\u001b[1;32m----> 1\u001b[1;33m \u001b[0mpredicted_ceil\u001b[0m\u001b[1;33m.\u001b[0m\u001b[0mdescribe\u001b[0m\u001b[1;33m(\u001b[0m\u001b[1;33m)\u001b[0m\u001b[1;33m\u001b[0m\u001b[1;33m\u001b[0m\u001b[0m\n\u001b[0m",
      "\u001b[1;31mAttributeError\u001b[0m: 'numpy.ndarray' object has no attribute 'describe'"
     ]
    }
   ],
   "source": []
  },
  {
   "cell_type": "code",
   "execution_count": 783,
   "metadata": {},
   "outputs": [],
   "source": [
    "y_test_temp = pd.DataFrame(predicted_ceil, columns = ['Delay'])"
   ]
  },
  {
   "cell_type": "code",
   "execution_count": 789,
   "metadata": {},
   "outputs": [
    {
     "data": {
      "text/html": [
       "<div>\n",
       "<style scoped>\n",
       "    .dataframe tbody tr th:only-of-type {\n",
       "        vertical-align: middle;\n",
       "    }\n",
       "\n",
       "    .dataframe tbody tr th {\n",
       "        vertical-align: top;\n",
       "    }\n",
       "\n",
       "    .dataframe thead th {\n",
       "        text-align: right;\n",
       "    }\n",
       "</style>\n",
       "<table border=\"1\" class=\"dataframe\">\n",
       "  <thead>\n",
       "    <tr style=\"text-align: right;\">\n",
       "      <th></th>\n",
       "      <th>Delay</th>\n",
       "    </tr>\n",
       "  </thead>\n",
       "  <tbody>\n",
       "    <tr>\n",
       "      <th>0</th>\n",
       "      <td>2.0</td>\n",
       "    </tr>\n",
       "    <tr>\n",
       "      <th>1</th>\n",
       "      <td>3.0</td>\n",
       "    </tr>\n",
       "    <tr>\n",
       "      <th>2</th>\n",
       "      <td>1.0</td>\n",
       "    </tr>\n",
       "    <tr>\n",
       "      <th>3</th>\n",
       "      <td>-3.0</td>\n",
       "    </tr>\n",
       "    <tr>\n",
       "      <th>4</th>\n",
       "      <td>1.0</td>\n",
       "    </tr>\n",
       "    <tr>\n",
       "      <th>5</th>\n",
       "      <td>1.0</td>\n",
       "    </tr>\n",
       "    <tr>\n",
       "      <th>6</th>\n",
       "      <td>-0.0</td>\n",
       "    </tr>\n",
       "    <tr>\n",
       "      <th>7</th>\n",
       "      <td>-3.0</td>\n",
       "    </tr>\n",
       "    <tr>\n",
       "      <th>8</th>\n",
       "      <td>2.0</td>\n",
       "    </tr>\n",
       "    <tr>\n",
       "      <th>9</th>\n",
       "      <td>1.0</td>\n",
       "    </tr>\n",
       "    <tr>\n",
       "      <th>10</th>\n",
       "      <td>-2.0</td>\n",
       "    </tr>\n",
       "    <tr>\n",
       "      <th>11</th>\n",
       "      <td>-3.0</td>\n",
       "    </tr>\n",
       "    <tr>\n",
       "      <th>12</th>\n",
       "      <td>-4.0</td>\n",
       "    </tr>\n",
       "    <tr>\n",
       "      <th>13</th>\n",
       "      <td>5.0</td>\n",
       "    </tr>\n",
       "    <tr>\n",
       "      <th>14</th>\n",
       "      <td>1.0</td>\n",
       "    </tr>\n",
       "    <tr>\n",
       "      <th>15</th>\n",
       "      <td>-4.0</td>\n",
       "    </tr>\n",
       "    <tr>\n",
       "      <th>16</th>\n",
       "      <td>1.0</td>\n",
       "    </tr>\n",
       "    <tr>\n",
       "      <th>17</th>\n",
       "      <td>-1.0</td>\n",
       "    </tr>\n",
       "    <tr>\n",
       "      <th>18</th>\n",
       "      <td>18.0</td>\n",
       "    </tr>\n",
       "    <tr>\n",
       "      <th>19</th>\n",
       "      <td>1.0</td>\n",
       "    </tr>\n",
       "    <tr>\n",
       "      <th>20</th>\n",
       "      <td>2.0</td>\n",
       "    </tr>\n",
       "    <tr>\n",
       "      <th>21</th>\n",
       "      <td>-0.0</td>\n",
       "    </tr>\n",
       "    <tr>\n",
       "      <th>22</th>\n",
       "      <td>2.0</td>\n",
       "    </tr>\n",
       "    <tr>\n",
       "      <th>23</th>\n",
       "      <td>-4.0</td>\n",
       "    </tr>\n",
       "    <tr>\n",
       "      <th>24</th>\n",
       "      <td>3.0</td>\n",
       "    </tr>\n",
       "    <tr>\n",
       "      <th>25</th>\n",
       "      <td>1.0</td>\n",
       "    </tr>\n",
       "    <tr>\n",
       "      <th>26</th>\n",
       "      <td>-0.0</td>\n",
       "    </tr>\n",
       "    <tr>\n",
       "      <th>27</th>\n",
       "      <td>3.0</td>\n",
       "    </tr>\n",
       "    <tr>\n",
       "      <th>28</th>\n",
       "      <td>1.0</td>\n",
       "    </tr>\n",
       "    <tr>\n",
       "      <th>29</th>\n",
       "      <td>-7.0</td>\n",
       "    </tr>\n",
       "    <tr>\n",
       "      <th>30</th>\n",
       "      <td>4.0</td>\n",
       "    </tr>\n",
       "    <tr>\n",
       "      <th>31</th>\n",
       "      <td>-1.0</td>\n",
       "    </tr>\n",
       "    <tr>\n",
       "      <th>32</th>\n",
       "      <td>1.0</td>\n",
       "    </tr>\n",
       "    <tr>\n",
       "      <th>33</th>\n",
       "      <td>-0.0</td>\n",
       "    </tr>\n",
       "    <tr>\n",
       "      <th>34</th>\n",
       "      <td>4.0</td>\n",
       "    </tr>\n",
       "    <tr>\n",
       "      <th>35</th>\n",
       "      <td>-3.0</td>\n",
       "    </tr>\n",
       "    <tr>\n",
       "      <th>36</th>\n",
       "      <td>2.0</td>\n",
       "    </tr>\n",
       "    <tr>\n",
       "      <th>37</th>\n",
       "      <td>9.0</td>\n",
       "    </tr>\n",
       "    <tr>\n",
       "      <th>38</th>\n",
       "      <td>1.0</td>\n",
       "    </tr>\n",
       "    <tr>\n",
       "      <th>39</th>\n",
       "      <td>-4.0</td>\n",
       "    </tr>\n",
       "    <tr>\n",
       "      <th>40</th>\n",
       "      <td>1.0</td>\n",
       "    </tr>\n",
       "    <tr>\n",
       "      <th>41</th>\n",
       "      <td>1.0</td>\n",
       "    </tr>\n",
       "    <tr>\n",
       "      <th>42</th>\n",
       "      <td>4.0</td>\n",
       "    </tr>\n",
       "    <tr>\n",
       "      <th>43</th>\n",
       "      <td>-7.0</td>\n",
       "    </tr>\n",
       "    <tr>\n",
       "      <th>44</th>\n",
       "      <td>-6.0</td>\n",
       "    </tr>\n",
       "    <tr>\n",
       "      <th>45</th>\n",
       "      <td>16.0</td>\n",
       "    </tr>\n",
       "    <tr>\n",
       "      <th>46</th>\n",
       "      <td>-3.0</td>\n",
       "    </tr>\n",
       "    <tr>\n",
       "      <th>47</th>\n",
       "      <td>1.0</td>\n",
       "    </tr>\n",
       "    <tr>\n",
       "      <th>48</th>\n",
       "      <td>0.0</td>\n",
       "    </tr>\n",
       "    <tr>\n",
       "      <th>49</th>\n",
       "      <td>-2.0</td>\n",
       "    </tr>\n",
       "  </tbody>\n",
       "</table>\n",
       "</div>"
      ],
      "text/plain": [
       "    Delay\n",
       "0     2.0\n",
       "1     3.0\n",
       "2     1.0\n",
       "3    -3.0\n",
       "4     1.0\n",
       "5     1.0\n",
       "6    -0.0\n",
       "7    -3.0\n",
       "8     2.0\n",
       "9     1.0\n",
       "10   -2.0\n",
       "11   -3.0\n",
       "12   -4.0\n",
       "13    5.0\n",
       "14    1.0\n",
       "15   -4.0\n",
       "16    1.0\n",
       "17   -1.0\n",
       "18   18.0\n",
       "19    1.0\n",
       "20    2.0\n",
       "21   -0.0\n",
       "22    2.0\n",
       "23   -4.0\n",
       "24    3.0\n",
       "25    1.0\n",
       "26   -0.0\n",
       "27    3.0\n",
       "28    1.0\n",
       "29   -7.0\n",
       "30    4.0\n",
       "31   -1.0\n",
       "32    1.0\n",
       "33   -0.0\n",
       "34    4.0\n",
       "35   -3.0\n",
       "36    2.0\n",
       "37    9.0\n",
       "38    1.0\n",
       "39   -4.0\n",
       "40    1.0\n",
       "41    1.0\n",
       "42    4.0\n",
       "43   -7.0\n",
       "44   -6.0\n",
       "45   16.0\n",
       "46   -3.0\n",
       "47    1.0\n",
       "48    0.0\n",
       "49   -2.0"
      ]
     },
     "execution_count": 789,
     "metadata": {},
     "output_type": "execute_result"
    }
   ],
   "source": [
    "y_test_temp.head(50)"
   ]
  },
  {
   "cell_type": "code",
   "execution_count": 766,
   "metadata": {},
   "outputs": [
    {
     "data": {
      "text/plain": [
       "array([1.2 , 2.84, 0.27, ..., 0.49, 0.85, 0.52])"
      ]
     },
     "execution_count": 766,
     "metadata": {},
     "output_type": "execute_result"
    }
   ],
   "source": []
  },
  {
   "cell_type": "code",
   "execution_count": 785,
   "metadata": {},
   "outputs": [],
   "source": [
    "bins = np.array([-51,0,16,31,46,60,114])\n",
    "tt = pd.DataFrame(np.digitize(y_test_temp, bins), columns=y_test_temp.columns)"
   ]
  },
  {
   "cell_type": "code",
   "execution_count": 791,
   "metadata": {},
   "outputs": [
    {
     "data": {
      "text/html": [
       "<div>\n",
       "<style scoped>\n",
       "    .dataframe tbody tr th:only-of-type {\n",
       "        vertical-align: middle;\n",
       "    }\n",
       "\n",
       "    .dataframe tbody tr th {\n",
       "        vertical-align: top;\n",
       "    }\n",
       "\n",
       "    .dataframe thead th {\n",
       "        text-align: right;\n",
       "    }\n",
       "</style>\n",
       "<table border=\"1\" class=\"dataframe\">\n",
       "  <thead>\n",
       "    <tr style=\"text-align: right;\">\n",
       "      <th></th>\n",
       "      <th>Delay</th>\n",
       "    </tr>\n",
       "  </thead>\n",
       "  <tbody>\n",
       "    <tr>\n",
       "      <th>0</th>\n",
       "      <td>2</td>\n",
       "    </tr>\n",
       "    <tr>\n",
       "      <th>1</th>\n",
       "      <td>2</td>\n",
       "    </tr>\n",
       "    <tr>\n",
       "      <th>2</th>\n",
       "      <td>2</td>\n",
       "    </tr>\n",
       "    <tr>\n",
       "      <th>3</th>\n",
       "      <td>1</td>\n",
       "    </tr>\n",
       "    <tr>\n",
       "      <th>4</th>\n",
       "      <td>2</td>\n",
       "    </tr>\n",
       "    <tr>\n",
       "      <th>5</th>\n",
       "      <td>2</td>\n",
       "    </tr>\n",
       "    <tr>\n",
       "      <th>6</th>\n",
       "      <td>2</td>\n",
       "    </tr>\n",
       "    <tr>\n",
       "      <th>7</th>\n",
       "      <td>1</td>\n",
       "    </tr>\n",
       "    <tr>\n",
       "      <th>8</th>\n",
       "      <td>2</td>\n",
       "    </tr>\n",
       "    <tr>\n",
       "      <th>9</th>\n",
       "      <td>2</td>\n",
       "    </tr>\n",
       "    <tr>\n",
       "      <th>10</th>\n",
       "      <td>1</td>\n",
       "    </tr>\n",
       "    <tr>\n",
       "      <th>11</th>\n",
       "      <td>1</td>\n",
       "    </tr>\n",
       "    <tr>\n",
       "      <th>12</th>\n",
       "      <td>1</td>\n",
       "    </tr>\n",
       "    <tr>\n",
       "      <th>13</th>\n",
       "      <td>2</td>\n",
       "    </tr>\n",
       "    <tr>\n",
       "      <th>14</th>\n",
       "      <td>2</td>\n",
       "    </tr>\n",
       "    <tr>\n",
       "      <th>15</th>\n",
       "      <td>1</td>\n",
       "    </tr>\n",
       "    <tr>\n",
       "      <th>16</th>\n",
       "      <td>2</td>\n",
       "    </tr>\n",
       "    <tr>\n",
       "      <th>17</th>\n",
       "      <td>1</td>\n",
       "    </tr>\n",
       "    <tr>\n",
       "      <th>18</th>\n",
       "      <td>3</td>\n",
       "    </tr>\n",
       "    <tr>\n",
       "      <th>19</th>\n",
       "      <td>2</td>\n",
       "    </tr>\n",
       "    <tr>\n",
       "      <th>20</th>\n",
       "      <td>2</td>\n",
       "    </tr>\n",
       "    <tr>\n",
       "      <th>21</th>\n",
       "      <td>2</td>\n",
       "    </tr>\n",
       "    <tr>\n",
       "      <th>22</th>\n",
       "      <td>2</td>\n",
       "    </tr>\n",
       "    <tr>\n",
       "      <th>23</th>\n",
       "      <td>1</td>\n",
       "    </tr>\n",
       "    <tr>\n",
       "      <th>24</th>\n",
       "      <td>2</td>\n",
       "    </tr>\n",
       "    <tr>\n",
       "      <th>25</th>\n",
       "      <td>2</td>\n",
       "    </tr>\n",
       "    <tr>\n",
       "      <th>26</th>\n",
       "      <td>2</td>\n",
       "    </tr>\n",
       "    <tr>\n",
       "      <th>27</th>\n",
       "      <td>2</td>\n",
       "    </tr>\n",
       "    <tr>\n",
       "      <th>28</th>\n",
       "      <td>2</td>\n",
       "    </tr>\n",
       "    <tr>\n",
       "      <th>29</th>\n",
       "      <td>1</td>\n",
       "    </tr>\n",
       "    <tr>\n",
       "      <th>30</th>\n",
       "      <td>2</td>\n",
       "    </tr>\n",
       "    <tr>\n",
       "      <th>31</th>\n",
       "      <td>1</td>\n",
       "    </tr>\n",
       "    <tr>\n",
       "      <th>32</th>\n",
       "      <td>2</td>\n",
       "    </tr>\n",
       "    <tr>\n",
       "      <th>33</th>\n",
       "      <td>2</td>\n",
       "    </tr>\n",
       "    <tr>\n",
       "      <th>34</th>\n",
       "      <td>2</td>\n",
       "    </tr>\n",
       "    <tr>\n",
       "      <th>35</th>\n",
       "      <td>1</td>\n",
       "    </tr>\n",
       "    <tr>\n",
       "      <th>36</th>\n",
       "      <td>2</td>\n",
       "    </tr>\n",
       "    <tr>\n",
       "      <th>37</th>\n",
       "      <td>2</td>\n",
       "    </tr>\n",
       "    <tr>\n",
       "      <th>38</th>\n",
       "      <td>2</td>\n",
       "    </tr>\n",
       "    <tr>\n",
       "      <th>39</th>\n",
       "      <td>1</td>\n",
       "    </tr>\n",
       "    <tr>\n",
       "      <th>40</th>\n",
       "      <td>2</td>\n",
       "    </tr>\n",
       "    <tr>\n",
       "      <th>41</th>\n",
       "      <td>2</td>\n",
       "    </tr>\n",
       "    <tr>\n",
       "      <th>42</th>\n",
       "      <td>2</td>\n",
       "    </tr>\n",
       "    <tr>\n",
       "      <th>43</th>\n",
       "      <td>1</td>\n",
       "    </tr>\n",
       "    <tr>\n",
       "      <th>44</th>\n",
       "      <td>1</td>\n",
       "    </tr>\n",
       "    <tr>\n",
       "      <th>45</th>\n",
       "      <td>3</td>\n",
       "    </tr>\n",
       "    <tr>\n",
       "      <th>46</th>\n",
       "      <td>1</td>\n",
       "    </tr>\n",
       "    <tr>\n",
       "      <th>47</th>\n",
       "      <td>2</td>\n",
       "    </tr>\n",
       "    <tr>\n",
       "      <th>48</th>\n",
       "      <td>2</td>\n",
       "    </tr>\n",
       "    <tr>\n",
       "      <th>49</th>\n",
       "      <td>1</td>\n",
       "    </tr>\n",
       "  </tbody>\n",
       "</table>\n",
       "</div>"
      ],
      "text/plain": [
       "    Delay\n",
       "0       2\n",
       "1       2\n",
       "2       2\n",
       "3       1\n",
       "4       2\n",
       "5       2\n",
       "6       2\n",
       "7       1\n",
       "8       2\n",
       "9       2\n",
       "10      1\n",
       "11      1\n",
       "12      1\n",
       "13      2\n",
       "14      2\n",
       "15      1\n",
       "16      2\n",
       "17      1\n",
       "18      3\n",
       "19      2\n",
       "20      2\n",
       "21      2\n",
       "22      2\n",
       "23      1\n",
       "24      2\n",
       "25      2\n",
       "26      2\n",
       "27      2\n",
       "28      2\n",
       "29      1\n",
       "30      2\n",
       "31      1\n",
       "32      2\n",
       "33      2\n",
       "34      2\n",
       "35      1\n",
       "36      2\n",
       "37      2\n",
       "38      2\n",
       "39      1\n",
       "40      2\n",
       "41      2\n",
       "42      2\n",
       "43      1\n",
       "44      1\n",
       "45      3\n",
       "46      1\n",
       "47      2\n",
       "48      2\n",
       "49      1"
      ]
     },
     "execution_count": 791,
     "metadata": {},
     "output_type": "execute_result"
    }
   ],
   "source": [
    "## tt is the dataframe with the delay bucket as mentioned\n",
    "tt.head(50)"
   ]
  },
  {
   "cell_type": "code",
   "execution_count": 793,
   "metadata": {},
   "outputs": [
    {
     "data": {
      "text/plain": [
       "Delay\n",
       "2        2905\n",
       "1        1433\n",
       "3          29\n",
       "4          25\n",
       "5          14\n",
       "6           6\n",
       "7           1\n",
       "dtype: int64"
      ]
     },
     "execution_count": 793,
     "metadata": {},
     "output_type": "execute_result"
    }
   ],
   "source": [
    "tt.value_counts()"
   ]
  }
 ],
 "metadata": {
  "kernelspec": {
   "display_name": "Python 3",
   "language": "python",
   "name": "python3"
  },
  "language_info": {
   "codemirror_mode": {
    "name": "ipython",
    "version": 3
   },
   "file_extension": ".py",
   "mimetype": "text/x-python",
   "name": "python",
   "nbconvert_exporter": "python",
   "pygments_lexer": "ipython3",
   "version": "3.8.5"
  }
 },
 "nbformat": 4,
 "nbformat_minor": 4
}
